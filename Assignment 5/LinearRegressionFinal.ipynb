{
 "cells": [
  {
   "cell_type": "markdown",
   "id": "UAHL2pV-UQHt",
   "metadata": {
    "id": "UAHL2pV-UQHt"
   },
   "source": [
    "#### Import data and Libraries"
   ]
  },
  {
   "cell_type": "code",
   "execution_count": 1,
   "id": "c27b860f",
   "metadata": {
    "id": "c27b860f"
   },
   "outputs": [],
   "source": [
    "import numpy as np\n",
    "import pandas as pd\n",
    "import matplotlib.pyplot as plt\n",
    "import matplotlib.gridspec as gridspec\n",
    "import seaborn as sns\n",
    "%matplotlib inline"
   ]
  },
  {
   "cell_type": "code",
   "execution_count": 2,
   "id": "1f354d0d",
   "metadata": {
    "id": "1f354d0d"
   },
   "outputs": [],
   "source": [
    "housingdf= pd.read_csv('Train.csv')"
   ]
  },
  {
   "cell_type": "code",
   "execution_count": 3,
   "id": "a3024314",
   "metadata": {
    "colab": {
     "base_uri": "https://localhost:8080/",
     "height": 274
    },
    "id": "a3024314",
    "outputId": "94006438-4532-4dd2-fd25-cec5395d762d"
   },
   "outputs": [
    {
     "data": {
      "text/html": [
       "<div>\n",
       "<style scoped>\n",
       "    .dataframe tbody tr th:only-of-type {\n",
       "        vertical-align: middle;\n",
       "    }\n",
       "\n",
       "    .dataframe tbody tr th {\n",
       "        vertical-align: top;\n",
       "    }\n",
       "\n",
       "    .dataframe thead th {\n",
       "        text-align: right;\n",
       "    }\n",
       "</style>\n",
       "<table border=\"1\" class=\"dataframe\">\n",
       "  <thead>\n",
       "    <tr style=\"text-align: right;\">\n",
       "      <th></th>\n",
       "      <th>POSTED_BY</th>\n",
       "      <th>UNDER_CONSTRUCTION</th>\n",
       "      <th>RERA</th>\n",
       "      <th>BHK_NO.</th>\n",
       "      <th>BHK_OR_RK</th>\n",
       "      <th>SQUARE_FT</th>\n",
       "      <th>READY_TO_MOVE</th>\n",
       "      <th>RESALE</th>\n",
       "      <th>ADDRESS</th>\n",
       "      <th>LONGITUDE</th>\n",
       "      <th>LATITUDE</th>\n",
       "      <th>TARGET(PRICE_IN_LACS)</th>\n",
       "    </tr>\n",
       "  </thead>\n",
       "  <tbody>\n",
       "    <tr>\n",
       "      <th>0</th>\n",
       "      <td>Owner</td>\n",
       "      <td>0</td>\n",
       "      <td>0</td>\n",
       "      <td>2</td>\n",
       "      <td>BHK</td>\n",
       "      <td>1300.236407</td>\n",
       "      <td>1</td>\n",
       "      <td>1</td>\n",
       "      <td>Ksfc Layout,Bangalore</td>\n",
       "      <td>12.969910</td>\n",
       "      <td>77.597960</td>\n",
       "      <td>55.0</td>\n",
       "    </tr>\n",
       "    <tr>\n",
       "      <th>1</th>\n",
       "      <td>Dealer</td>\n",
       "      <td>0</td>\n",
       "      <td>0</td>\n",
       "      <td>2</td>\n",
       "      <td>BHK</td>\n",
       "      <td>1275.000000</td>\n",
       "      <td>1</td>\n",
       "      <td>1</td>\n",
       "      <td>Vishweshwara Nagar,Mysore</td>\n",
       "      <td>12.274538</td>\n",
       "      <td>76.644605</td>\n",
       "      <td>51.0</td>\n",
       "    </tr>\n",
       "    <tr>\n",
       "      <th>2</th>\n",
       "      <td>Owner</td>\n",
       "      <td>0</td>\n",
       "      <td>0</td>\n",
       "      <td>2</td>\n",
       "      <td>BHK</td>\n",
       "      <td>933.159722</td>\n",
       "      <td>1</td>\n",
       "      <td>1</td>\n",
       "      <td>Jigani,Bangalore</td>\n",
       "      <td>12.778033</td>\n",
       "      <td>77.632191</td>\n",
       "      <td>43.0</td>\n",
       "    </tr>\n",
       "    <tr>\n",
       "      <th>3</th>\n",
       "      <td>Owner</td>\n",
       "      <td>0</td>\n",
       "      <td>1</td>\n",
       "      <td>2</td>\n",
       "      <td>BHK</td>\n",
       "      <td>929.921143</td>\n",
       "      <td>1</td>\n",
       "      <td>1</td>\n",
       "      <td>Sector-1 Vaishali,Ghaziabad</td>\n",
       "      <td>28.642300</td>\n",
       "      <td>77.344500</td>\n",
       "      <td>62.5</td>\n",
       "    </tr>\n",
       "    <tr>\n",
       "      <th>4</th>\n",
       "      <td>Dealer</td>\n",
       "      <td>1</td>\n",
       "      <td>0</td>\n",
       "      <td>2</td>\n",
       "      <td>BHK</td>\n",
       "      <td>999.009247</td>\n",
       "      <td>0</td>\n",
       "      <td>1</td>\n",
       "      <td>New Town,Kolkata</td>\n",
       "      <td>22.592200</td>\n",
       "      <td>88.484911</td>\n",
       "      <td>60.5</td>\n",
       "    </tr>\n",
       "  </tbody>\n",
       "</table>\n",
       "</div>"
      ],
      "text/plain": [
       "  POSTED_BY  UNDER_CONSTRUCTION  RERA  BHK_NO. BHK_OR_RK    SQUARE_FT  \\\n",
       "0     Owner                   0     0        2       BHK  1300.236407   \n",
       "1    Dealer                   0     0        2       BHK  1275.000000   \n",
       "2     Owner                   0     0        2       BHK   933.159722   \n",
       "3     Owner                   0     1        2       BHK   929.921143   \n",
       "4    Dealer                   1     0        2       BHK   999.009247   \n",
       "\n",
       "   READY_TO_MOVE  RESALE                      ADDRESS  LONGITUDE   LATITUDE  \\\n",
       "0              1       1        Ksfc Layout,Bangalore  12.969910  77.597960   \n",
       "1              1       1    Vishweshwara Nagar,Mysore  12.274538  76.644605   \n",
       "2              1       1             Jigani,Bangalore  12.778033  77.632191   \n",
       "3              1       1  Sector-1 Vaishali,Ghaziabad  28.642300  77.344500   \n",
       "4              0       1             New Town,Kolkata  22.592200  88.484911   \n",
       "\n",
       "   TARGET(PRICE_IN_LACS)  \n",
       "0                   55.0  \n",
       "1                   51.0  \n",
       "2                   43.0  \n",
       "3                   62.5  \n",
       "4                   60.5  "
      ]
     },
     "execution_count": 3,
     "metadata": {},
     "output_type": "execute_result"
    }
   ],
   "source": [
    "housingdf.head()"
   ]
  },
  {
   "cell_type": "markdown",
   "id": "W0-CB9oKGZiE",
   "metadata": {
    "id": "W0-CB9oKGZiE"
   },
   "source": [
    "#### Insights / Summary"
   ]
  },
  {
   "cell_type": "markdown",
   "id": "S4spcVxgGeMW",
   "metadata": {
    "id": "S4spcVxgGeMW"
   },
   "source": [
    "1. This dataset is about the house prices of different cities in India. The dataset has 12 columns including the target column 'Price'. There is no missing values. This dataset depicts how the TARGET PRICE is affected by other columns. \n",
    "\n",
    "\n",
    "2. RERA(Real Estate Regulation and Development Act) has came in to effect after 2016 May, as we do not know the year of the construction, we cannot find whether the particular property should be verified by RERA or not. The RERA approval for the property constructed after 2016 is very necessary. Very few homes are RERA approved so they may be newly constructed.\n",
    "\n",
    "3. Majority (84%) of the houses are already constructed (For the Resale). 2074 houses are totally new construction\n",
    "3916 houses are under-construction which are for resale.\n",
    "\n",
    "\n",
    "4. About 93% of total houses are of (1,2 and 3) BHK houses, these houses are assumed to be the normal houses. \n",
    "\n",
    "\n",
    "5. Excessive rooms (BHK>5): The houses which is more than 5BHK are assumed to be Excessive rooms houses. Only one out of 94 houses is newly constructed, others are on resale. The new house that is under construction is 6 BHK.\n",
    "\n",
    "6. New construction is typically done on 2-5 BHK houses not on the houses that are above 5 BHK.\n",
    "\n",
    "7. RK type of house has only one room.\n",
    "\n",
    "8. Bangalore is the city where houses of every types are found (The houses with 15, 20, 14 etc rooms are only found in Bangalore as per the dataset)\n",
    "\n",
    "\n",
    "9. Area for the houses with 1,2,3,4 BHK are almost same in all the cities but from 5BHK houses, the area varies considerably as per the cities.\n",
    "\n",
    "10. The price of house is majorly depend on the area of the house. Apart from the area of the house, the considerable factors are number of rooms, RERA approved.\n",
    "\n",
    "\n"
   ]
  },
  {
   "cell_type": "markdown",
   "id": "6I5-4pf-LjKJ",
   "metadata": {
    "id": "6I5-4pf-LjKJ"
   },
   "source": [
    "#### info() and describe()"
   ]
  },
  {
   "cell_type": "code",
   "execution_count": 4,
   "id": "f2ded98d",
   "metadata": {
    "colab": {
     "base_uri": "https://localhost:8080/"
    },
    "id": "f2ded98d",
    "outputId": "2b6e750e-7380-4fcd-8de9-2ad67c20cb37"
   },
   "outputs": [
    {
     "name": "stdout",
     "output_type": "stream",
     "text": [
      "<class 'pandas.core.frame.DataFrame'>\n",
      "RangeIndex: 29451 entries, 0 to 29450\n",
      "Data columns (total 12 columns):\n",
      " #   Column                 Non-Null Count  Dtype  \n",
      "---  ------                 --------------  -----  \n",
      " 0   POSTED_BY              29451 non-null  object \n",
      " 1   UNDER_CONSTRUCTION     29451 non-null  int64  \n",
      " 2   RERA                   29451 non-null  int64  \n",
      " 3   BHK_NO.                29451 non-null  int64  \n",
      " 4   BHK_OR_RK              29451 non-null  object \n",
      " 5   SQUARE_FT              29451 non-null  float64\n",
      " 6   READY_TO_MOVE          29451 non-null  int64  \n",
      " 7   RESALE                 29451 non-null  int64  \n",
      " 8   ADDRESS                29451 non-null  object \n",
      " 9   LONGITUDE              29451 non-null  float64\n",
      " 10  LATITUDE               29451 non-null  float64\n",
      " 11  TARGET(PRICE_IN_LACS)  29451 non-null  float64\n",
      "dtypes: float64(4), int64(5), object(3)\n",
      "memory usage: 2.7+ MB\n"
     ]
    }
   ],
   "source": [
    "housingdf.info()"
   ]
  },
  {
   "cell_type": "code",
   "execution_count": 5,
   "id": "b5d694fc",
   "metadata": {
    "colab": {
     "base_uri": "https://localhost:8080/"
    },
    "id": "b5d694fc",
    "outputId": "d1765b7f-5fd7-4387-eec6-f3ea6ad4ca5b"
   },
   "outputs": [
    {
     "data": {
      "text/plain": [
       "POSTED_BY                0\n",
       "UNDER_CONSTRUCTION       0\n",
       "RERA                     0\n",
       "BHK_NO.                  0\n",
       "BHK_OR_RK                0\n",
       "SQUARE_FT                0\n",
       "READY_TO_MOVE            0\n",
       "RESALE                   0\n",
       "ADDRESS                  0\n",
       "LONGITUDE                0\n",
       "LATITUDE                 0\n",
       "TARGET(PRICE_IN_LACS)    0\n",
       "dtype: int64"
      ]
     },
     "execution_count": 5,
     "metadata": {},
     "output_type": "execute_result"
    }
   ],
   "source": [
    "housingdf.isna().sum()"
   ]
  },
  {
   "cell_type": "markdown",
   "id": "f5e1d177",
   "metadata": {
    "id": "f5e1d177"
   },
   "source": [
    "No missing values in any column."
   ]
  },
  {
   "cell_type": "code",
   "execution_count": 6,
   "id": "596fa422",
   "metadata": {
    "colab": {
     "base_uri": "https://localhost:8080/",
     "height": 315
    },
    "id": "596fa422",
    "outputId": "f33e1bad-520f-412f-eb31-b99367fd6998"
   },
   "outputs": [
    {
     "data": {
      "text/html": [
       "<div>\n",
       "<style scoped>\n",
       "    .dataframe tbody tr th:only-of-type {\n",
       "        vertical-align: middle;\n",
       "    }\n",
       "\n",
       "    .dataframe tbody tr th {\n",
       "        vertical-align: top;\n",
       "    }\n",
       "\n",
       "    .dataframe thead th {\n",
       "        text-align: right;\n",
       "    }\n",
       "</style>\n",
       "<table border=\"1\" class=\"dataframe\">\n",
       "  <thead>\n",
       "    <tr style=\"text-align: right;\">\n",
       "      <th></th>\n",
       "      <th>UNDER_CONSTRUCTION</th>\n",
       "      <th>RERA</th>\n",
       "      <th>BHK_NO.</th>\n",
       "      <th>SQUARE_FT</th>\n",
       "      <th>READY_TO_MOVE</th>\n",
       "      <th>RESALE</th>\n",
       "      <th>LONGITUDE</th>\n",
       "      <th>LATITUDE</th>\n",
       "      <th>TARGET(PRICE_IN_LACS)</th>\n",
       "    </tr>\n",
       "  </thead>\n",
       "  <tbody>\n",
       "    <tr>\n",
       "      <th>count</th>\n",
       "      <td>29451.000000</td>\n",
       "      <td>29451.000000</td>\n",
       "      <td>29451.000000</td>\n",
       "      <td>2.945100e+04</td>\n",
       "      <td>29451.000000</td>\n",
       "      <td>29451.000000</td>\n",
       "      <td>29451.000000</td>\n",
       "      <td>29451.000000</td>\n",
       "      <td>29451.000000</td>\n",
       "    </tr>\n",
       "    <tr>\n",
       "      <th>mean</th>\n",
       "      <td>0.179756</td>\n",
       "      <td>0.317918</td>\n",
       "      <td>2.392279</td>\n",
       "      <td>1.980217e+04</td>\n",
       "      <td>0.820244</td>\n",
       "      <td>0.929578</td>\n",
       "      <td>21.300255</td>\n",
       "      <td>76.837695</td>\n",
       "      <td>142.898746</td>\n",
       "    </tr>\n",
       "    <tr>\n",
       "      <th>std</th>\n",
       "      <td>0.383991</td>\n",
       "      <td>0.465675</td>\n",
       "      <td>0.879091</td>\n",
       "      <td>1.901335e+06</td>\n",
       "      <td>0.383991</td>\n",
       "      <td>0.255861</td>\n",
       "      <td>6.205306</td>\n",
       "      <td>10.557747</td>\n",
       "      <td>656.880713</td>\n",
       "    </tr>\n",
       "    <tr>\n",
       "      <th>min</th>\n",
       "      <td>0.000000</td>\n",
       "      <td>0.000000</td>\n",
       "      <td>1.000000</td>\n",
       "      <td>3.000000e+00</td>\n",
       "      <td>0.000000</td>\n",
       "      <td>0.000000</td>\n",
       "      <td>-37.713008</td>\n",
       "      <td>-121.761248</td>\n",
       "      <td>0.250000</td>\n",
       "    </tr>\n",
       "    <tr>\n",
       "      <th>25%</th>\n",
       "      <td>0.000000</td>\n",
       "      <td>0.000000</td>\n",
       "      <td>2.000000</td>\n",
       "      <td>9.000211e+02</td>\n",
       "      <td>1.000000</td>\n",
       "      <td>1.000000</td>\n",
       "      <td>18.452663</td>\n",
       "      <td>73.798100</td>\n",
       "      <td>38.000000</td>\n",
       "    </tr>\n",
       "    <tr>\n",
       "      <th>50%</th>\n",
       "      <td>0.000000</td>\n",
       "      <td>0.000000</td>\n",
       "      <td>2.000000</td>\n",
       "      <td>1.175057e+03</td>\n",
       "      <td>1.000000</td>\n",
       "      <td>1.000000</td>\n",
       "      <td>20.750000</td>\n",
       "      <td>77.324137</td>\n",
       "      <td>62.000000</td>\n",
       "    </tr>\n",
       "    <tr>\n",
       "      <th>75%</th>\n",
       "      <td>0.000000</td>\n",
       "      <td>1.000000</td>\n",
       "      <td>3.000000</td>\n",
       "      <td>1.550688e+03</td>\n",
       "      <td>1.000000</td>\n",
       "      <td>1.000000</td>\n",
       "      <td>26.900926</td>\n",
       "      <td>77.828740</td>\n",
       "      <td>100.000000</td>\n",
       "    </tr>\n",
       "    <tr>\n",
       "      <th>max</th>\n",
       "      <td>1.000000</td>\n",
       "      <td>1.000000</td>\n",
       "      <td>20.000000</td>\n",
       "      <td>2.545455e+08</td>\n",
       "      <td>1.000000</td>\n",
       "      <td>1.000000</td>\n",
       "      <td>59.912884</td>\n",
       "      <td>152.962676</td>\n",
       "      <td>30000.000000</td>\n",
       "    </tr>\n",
       "  </tbody>\n",
       "</table>\n",
       "</div>"
      ],
      "text/plain": [
       "       UNDER_CONSTRUCTION          RERA  ...      LATITUDE  TARGET(PRICE_IN_LACS)\n",
       "count        29451.000000  29451.000000  ...  29451.000000           29451.000000\n",
       "mean             0.179756      0.317918  ...     76.837695             142.898746\n",
       "std              0.383991      0.465675  ...     10.557747             656.880713\n",
       "min              0.000000      0.000000  ...   -121.761248               0.250000\n",
       "25%              0.000000      0.000000  ...     73.798100              38.000000\n",
       "50%              0.000000      0.000000  ...     77.324137              62.000000\n",
       "75%              0.000000      1.000000  ...     77.828740             100.000000\n",
       "max              1.000000      1.000000  ...    152.962676           30000.000000\n",
       "\n",
       "[8 rows x 9 columns]"
      ]
     },
     "execution_count": 6,
     "metadata": {},
     "output_type": "execute_result"
    }
   ],
   "source": [
    "housingdf.describe()"
   ]
  },
  {
   "cell_type": "markdown",
   "id": "Egw3Gw3kLtTf",
   "metadata": {
    "id": "Egw3Gw3kLtTf"
   },
   "source": [
    "#### Basic Visualization"
   ]
  },
  {
   "cell_type": "code",
   "execution_count": 7,
   "id": "9e3baf09",
   "metadata": {
    "colab": {
     "base_uri": "https://localhost:8080/",
     "height": 441
    },
    "id": "9e3baf09",
    "outputId": "e67dd392-342d-4128-99e3-f4364ed5f20d"
   },
   "outputs": [
    {
     "data": {
      "image/png": "[encoded data removed]",
      "text/plain": [
       "<Figure size 864x432 with 4 Axes>"
      ]
     },
     "metadata": {
      "needs_background": "light"
     },
     "output_type": "display_data"
    }
   ],
   "source": [
    "# fig, axs = plt.subplots(nrows=2,ncols=2)\n",
    "\n",
    "# axs[0,0]=df['READY_TO_MOVE'].value_counts().plot.barh()\n",
    "# axs[0,1]=df['RESALE'].value_counts().plot.barh()\n",
    "# axs[1,0]= df['RERA'].value_counts().plot.barh()\n",
    "# axs[1,1]=df['UNDER_CONSTRUCTION'].value_counts().plot.barh()\n",
    "plt.figure(figsize=(12,6))\n",
    "plt.subplot(2,2,1)\n",
    "housingdf['UNDER_CONSTRUCTION'].value_counts().plot.barh()\n",
    "plt.yticks([0,1],['Already Constructed','Under Construction'])\n",
    "\n",
    "plt.subplot(2,2,2)\n",
    "housingdf['RERA'].value_counts().plot.barh()\n",
    "plt.yticks([0,1],['Not RERA','RERA'])\n",
    "\n",
    "plt.subplot(2,2,3)\n",
    "housingdf['RESALE'].value_counts().plot.barh()\n",
    "plt.yticks([1,0],['Newly Constructed Houses','Resale Houses'])\n",
    "\n",
    "plt.subplot(2,2,4)\n",
    "housingdf['READY_TO_MOVE'].value_counts().plot.barh()\n",
    "plt.yticks([0,1],['Not Ready to move Houses','Ready to move Houses'])\n",
    "\n",
    "plt.tight_layout()\n",
    "plt.show()\n"
   ]
  },
  {
   "cell_type": "code",
   "execution_count": 8,
   "id": "Ph6kCA2ELNsE",
   "metadata": {
    "colab": {
     "base_uri": "https://localhost:8080/",
     "height": 281
    },
    "id": "Ph6kCA2ELNsE",
    "outputId": "b76f6b2b-2e53-4d72-89ae-72047de51003"
   },
   "outputs": [
    {
     "data": {
      "image/png": "[encoded data removed]",
      "text/plain": [
       "<Figure size 432x288 with 1 Axes>"
      ]
     },
     "metadata": {
      "needs_background": "light"
     },
     "output_type": "display_data"
    }
   ],
   "source": [
    "plt.title('Distribution of houses as per the house posted by')\n",
    "housingdf['POSTED_BY'].value_counts().plot.barh()\n",
    "plt.show()"
   ]
  },
  {
   "cell_type": "code",
   "execution_count": 9,
   "id": "0-mpzxSsLQkT",
   "metadata": {
    "colab": {
     "base_uri": "https://localhost:8080/",
     "height": 312
    },
    "id": "0-mpzxSsLQkT",
    "outputId": "4746dea7-1586-477b-ed17-ee2e323ca0f5"
   },
   "outputs": [
    {
     "data": {
      "text/plain": [
       "<matplotlib.axes._subplots.AxesSubplot at 0x7fcf56228b90>"
      ]
     },
     "execution_count": 9,
     "metadata": {},
     "output_type": "execute_result"
    },
    {
     "data": {
      "image/png": "[encoded data removed]",
      "text/plain": [
       "<Figure size 1080x288 with 2 Axes>"
      ]
     },
     "metadata": {
      "needs_background": "light"
     },
     "output_type": "display_data"
    }
   ],
   "source": [
    "plt.figure(figsize=(15,4))\n",
    "plt.subplot(1,2,1)\n",
    "plt.title('Houses having rooms greater than 5 rooms')\n",
    "plt.xlabel('Counts')\n",
    "plt.ylabel('Room types')\n",
    "housingdf[housingdf['BHK_NO.']>5]['BHK_NO.'].value_counts().plot.barh()\n",
    "\n",
    "plt.subplot(1,2,2)\n",
    "plt.title('Houses having at most 5 rooms')\n",
    "plt.xlabel('Counts')\n",
    "plt.ylabel('Room types')\n",
    "housingdf[housingdf['BHK_NO.']<=5]['BHK_NO.'].value_counts().plot.barh()"
   ]
  },
  {
   "cell_type": "markdown",
   "id": "0Y7O5HBML-55",
   "metadata": {
    "id": "0Y7O5HBML-55"
   },
   "source": [
    "#### Partition on the basis of BHK_NO."
   ]
  },
  {
   "cell_type": "code",
   "execution_count": 10,
   "id": "3d804467",
   "metadata": {
    "id": "3d804467"
   },
   "outputs": [],
   "source": [
    "ExcessiveRoomsDF=housingdf[(housingdf['BHK_NO.']>5)]\n",
    "NormalRoomsDF=housingdf[housingdf['BHK_NO.']<=5]"
   ]
  },
  {
   "cell_type": "code",
   "execution_count": 11,
   "id": "f520c611",
   "metadata": {
    "colab": {
     "base_uri": "https://localhost:8080/",
     "height": 514
    },
    "id": "f520c611",
    "outputId": "3767bb24-1b64-4fbf-82d5-3cf25650c6f3"
   },
   "outputs": [
    {
     "data": {
      "image/png": "[encoded data removed]",
      "text/plain": [
       "<Figure size 720x576 with 1 Axes>"
      ]
     },
     "metadata": {
      "needs_background": "light"
     },
     "output_type": "display_data"
    }
   ],
   "source": [
    "plt.figure(figsize=(10,8))\n",
    "plt.title('Prices Distribution of the ExcessiveRooms Houses')\n",
    "sns.boxplot(data=ExcessiveRoomsDF,x='BHK_NO.',y='TARGET(PRICE_IN_LACS)')\n",
    "plt.show()"
   ]
  },
  {
   "cell_type": "code",
   "execution_count": 12,
   "id": "996e20d3",
   "metadata": {
    "colab": {
     "base_uri": "https://localhost:8080/",
     "height": 321
    },
    "id": "996e20d3",
    "outputId": "bda4beab-b437-47d6-84e9-6634497b9d62"
   },
   "outputs": [
    {
     "data": {
      "text/html": [
       "<div>\n",
       "<style scoped>\n",
       "    .dataframe tbody tr th:only-of-type {\n",
       "        vertical-align: middle;\n",
       "    }\n",
       "\n",
       "    .dataframe tbody tr th {\n",
       "        vertical-align: top;\n",
       "    }\n",
       "\n",
       "    .dataframe thead th {\n",
       "        text-align: right;\n",
       "    }\n",
       "</style>\n",
       "<table border=\"1\" class=\"dataframe\">\n",
       "  <thead>\n",
       "    <tr style=\"text-align: right;\">\n",
       "      <th></th>\n",
       "      <th>POSTED_BY</th>\n",
       "      <th>UNDER_CONSTRUCTION</th>\n",
       "      <th>RERA</th>\n",
       "      <th>BHK_NO.</th>\n",
       "      <th>BHK_OR_RK</th>\n",
       "      <th>SQUARE_FT</th>\n",
       "      <th>READY_TO_MOVE</th>\n",
       "      <th>RESALE</th>\n",
       "      <th>ADDRESS</th>\n",
       "      <th>LONGITUDE</th>\n",
       "      <th>LATITUDE</th>\n",
       "      <th>TARGET(PRICE_IN_LACS)</th>\n",
       "    </tr>\n",
       "  </thead>\n",
       "  <tbody>\n",
       "    <tr>\n",
       "      <th>6720</th>\n",
       "      <td>Dealer</td>\n",
       "      <td>0</td>\n",
       "      <td>0</td>\n",
       "      <td>6</td>\n",
       "      <td>BHK</td>\n",
       "      <td>5400.016615</td>\n",
       "      <td>1</td>\n",
       "      <td>1</td>\n",
       "      <td>Adarsh Nagar,Lalitpur</td>\n",
       "      <td>26.906098</td>\n",
       "      <td>75.825254</td>\n",
       "      <td>2600.0</td>\n",
       "    </tr>\n",
       "    <tr>\n",
       "      <th>12285</th>\n",
       "      <td>Dealer</td>\n",
       "      <td>0</td>\n",
       "      <td>1</td>\n",
       "      <td>6</td>\n",
       "      <td>BHK</td>\n",
       "      <td>3900.011143</td>\n",
       "      <td>1</td>\n",
       "      <td>1</td>\n",
       "      <td>Juhu,Maharashtra</td>\n",
       "      <td>19.102600</td>\n",
       "      <td>72.824300</td>\n",
       "      <td>2100.0</td>\n",
       "    </tr>\n",
       "    <tr>\n",
       "      <th>12834</th>\n",
       "      <td>Dealer</td>\n",
       "      <td>0</td>\n",
       "      <td>0</td>\n",
       "      <td>6</td>\n",
       "      <td>BHK</td>\n",
       "      <td>6000.000000</td>\n",
       "      <td>1</td>\n",
       "      <td>1</td>\n",
       "      <td>Shiv Sagar Estate,Maharashtra</td>\n",
       "      <td>19.098373</td>\n",
       "      <td>72.846220</td>\n",
       "      <td>6000.0</td>\n",
       "    </tr>\n",
       "    <tr>\n",
       "      <th>16297</th>\n",
       "      <td>Dealer</td>\n",
       "      <td>0</td>\n",
       "      <td>0</td>\n",
       "      <td>6</td>\n",
       "      <td>BHK</td>\n",
       "      <td>4200.033600</td>\n",
       "      <td>1</td>\n",
       "      <td>1</td>\n",
       "      <td>Malabar Hill,Lalitpur</td>\n",
       "      <td>18.951632</td>\n",
       "      <td>72.798626</td>\n",
       "      <td>4500.0</td>\n",
       "    </tr>\n",
       "    <tr>\n",
       "      <th>20915</th>\n",
       "      <td>Dealer</td>\n",
       "      <td>0</td>\n",
       "      <td>0</td>\n",
       "      <td>7</td>\n",
       "      <td>BHK</td>\n",
       "      <td>10000.000000</td>\n",
       "      <td>1</td>\n",
       "      <td>1</td>\n",
       "      <td>Pali Hill,Lalitpur</td>\n",
       "      <td>24.480000</td>\n",
       "      <td>78.420000</td>\n",
       "      <td>3500.0</td>\n",
       "    </tr>\n",
       "    <tr>\n",
       "      <th>24735</th>\n",
       "      <td>Dealer</td>\n",
       "      <td>0</td>\n",
       "      <td>0</td>\n",
       "      <td>7</td>\n",
       "      <td>BHK</td>\n",
       "      <td>8199.932578</td>\n",
       "      <td>1</td>\n",
       "      <td>1</td>\n",
       "      <td>Breach Candy,Lalitpur</td>\n",
       "      <td>18.972317</td>\n",
       "      <td>72.806327</td>\n",
       "      <td>9000.0</td>\n",
       "    </tr>\n",
       "  </tbody>\n",
       "</table>\n",
       "</div>"
      ],
      "text/plain": [
       "      POSTED_BY  UNDER_CONSTRUCTION  ...   LATITUDE  TARGET(PRICE_IN_LACS)\n",
       "6720     Dealer                   0  ...  75.825254                 2600.0\n",
       "12285    Dealer                   0  ...  72.824300                 2100.0\n",
       "12834    Dealer                   0  ...  72.846220                 6000.0\n",
       "16297    Dealer                   0  ...  72.798626                 4500.0\n",
       "20915    Dealer                   0  ...  78.420000                 3500.0\n",
       "24735    Dealer                   0  ...  72.806327                 9000.0\n",
       "\n",
       "[6 rows x 12 columns]"
      ]
     },
     "execution_count": 12,
     "metadata": {},
     "output_type": "execute_result"
    }
   ],
   "source": [
    "#Potential Outliers Details that are seen in the above boxplot\n",
    "ExcessiveRoomsDF[ExcessiveRoomsDF['TARGET(PRICE_IN_LACS)']>2000]"
   ]
  },
  {
   "cell_type": "markdown",
   "id": "67f24ffb",
   "metadata": {
    "id": "67f24ffb"
   },
   "source": [
    "From the boxplot and filtered DataFrame, it is seen that the expensive houses are in Lalitpur(4 houses out of 6), Lalitpur can be a posh area"
   ]
  },
  {
   "cell_type": "code",
   "execution_count": 13,
   "id": "36be5ebd",
   "metadata": {
    "colab": {
     "base_uri": "https://localhost:8080/",
     "height": 117
    },
    "id": "36be5ebd",
    "outputId": "c60a7e26-cc9b-498f-ba2b-057693d678d1"
   },
   "outputs": [
    {
     "data": {
      "text/html": [
       "<div>\n",
       "<style scoped>\n",
       "    .dataframe tbody tr th:only-of-type {\n",
       "        vertical-align: middle;\n",
       "    }\n",
       "\n",
       "    .dataframe tbody tr th {\n",
       "        vertical-align: top;\n",
       "    }\n",
       "\n",
       "    .dataframe thead th {\n",
       "        text-align: right;\n",
       "    }\n",
       "</style>\n",
       "<table border=\"1\" class=\"dataframe\">\n",
       "  <thead>\n",
       "    <tr style=\"text-align: right;\">\n",
       "      <th></th>\n",
       "      <th>POSTED_BY</th>\n",
       "      <th>UNDER_CONSTRUCTION</th>\n",
       "      <th>RERA</th>\n",
       "      <th>BHK_NO.</th>\n",
       "      <th>BHK_OR_RK</th>\n",
       "      <th>SQUARE_FT</th>\n",
       "      <th>READY_TO_MOVE</th>\n",
       "      <th>RESALE</th>\n",
       "      <th>ADDRESS</th>\n",
       "      <th>LONGITUDE</th>\n",
       "      <th>LATITUDE</th>\n",
       "      <th>TARGET(PRICE_IN_LACS)</th>\n",
       "    </tr>\n",
       "  </thead>\n",
       "  <tbody>\n",
       "    <tr>\n",
       "      <th>1289</th>\n",
       "      <td>Dealer</td>\n",
       "      <td>0</td>\n",
       "      <td>0</td>\n",
       "      <td>6</td>\n",
       "      <td>BHK</td>\n",
       "      <td>11263.15789</td>\n",
       "      <td>1</td>\n",
       "      <td>0</td>\n",
       "      <td>Sathya Sai Layout,Bangalore</td>\n",
       "      <td>12.929162</td>\n",
       "      <td>77.629041</td>\n",
       "      <td>1070.0</td>\n",
       "    </tr>\n",
       "  </tbody>\n",
       "</table>\n",
       "</div>"
      ],
      "text/plain": [
       "     POSTED_BY  UNDER_CONSTRUCTION  ...   LATITUDE  TARGET(PRICE_IN_LACS)\n",
       "1289    Dealer                   0  ...  77.629041                 1070.0\n",
       "\n",
       "[1 rows x 12 columns]"
      ]
     },
     "execution_count": 13,
     "metadata": {},
     "output_type": "execute_result"
    }
   ],
   "source": [
    "ExcessiveRoomsDF[(ExcessiveRoomsDF['RESALE']==0)]"
   ]
  },
  {
   "cell_type": "markdown",
   "id": "zO9RjrlDKnmE",
   "metadata": {
    "id": "zO9RjrlDKnmE"
   },
   "source": [
    "This is only the house which lies under the Excessive rooms category and is under construction. Other houses from this category are already constructed."
   ]
  },
  {
   "cell_type": "code",
   "execution_count": 14,
   "id": "86843d8f",
   "metadata": {
    "colab": {
     "base_uri": "https://localhost:8080/",
     "height": 514
    },
    "id": "86843d8f",
    "outputId": "1bb31732-6b3b-48e7-ff11-a100d7708d03"
   },
   "outputs": [
    {
     "data": {
      "image/png": "[encoded data removed]",
      "text/plain": [
       "<Figure size 720x576 with 2 Axes>"
      ]
     },
     "metadata": {
      "needs_background": "light"
     },
     "output_type": "display_data"
    }
   ],
   "source": [
    "\n",
    "#Distribution of the Normal and Excessive room houses by RERA\n",
    "\n",
    "plt.figure(figsize=(10,8))\n",
    "\n",
    "plt.subplot(1,2,1)\n",
    "plt.title('Normal Room Houses')\n",
    "sns.countplot(x=NormalRoomsDF['BHK_NO.'],hue=NormalRoomsDF['RERA'])\n",
    "\n",
    "plt.subplot(1,2,2)\n",
    "plt.title('Excessive Room Houses')\n",
    "sns.countplot(x=ExcessiveRoomsDF['BHK_NO.'],hue=ExcessiveRoomsDF['RERA'])\n",
    "plt.show()"
   ]
  },
  {
   "cell_type": "markdown",
   "id": "aNriZ2bSZies",
   "metadata": {
    "id": "aNriZ2bSZies"
   },
   "source": [
    "For RERA, mostly(80%) new construction homes are getting RERA Real Estate Regulation Act whereas (30%) of the resale houses got RERA. We can infer that the RERA is introduced recently (2016) or to get RERA requires some prerequsites which aren't being satisfied by majority of resale houses (Resale houses will be constructed before 2016)."
   ]
  },
  {
   "cell_type": "code",
   "execution_count": 15,
   "id": "P5-fJhR7RFj3",
   "metadata": {
    "colab": {
     "base_uri": "https://localhost:8080/",
     "height": 531
    },
    "id": "P5-fJhR7RFj3",
    "outputId": "fefc7691-cfec-460e-b17b-b56cd4d01c62"
   },
   "outputs": [
    {
     "data": {
      "text/plain": [
       "<matplotlib.axes._subplots.AxesSubplot at 0x7fcf560a5490>"
      ]
     },
     "execution_count": 15,
     "metadata": {},
     "output_type": "execute_result"
    },
    {
     "data": {
      "image/png": "[encoded data removed]",
      "text/plain": [
       "<Figure size 720x576 with 2 Axes>"
      ]
     },
     "metadata": {
      "needs_background": "light"
     },
     "output_type": "display_data"
    }
   ],
   "source": [
    "plt.figure(figsize=(10,8))\n",
    "\n",
    "plt.subplot(1,2,1)\n",
    "plt.title('Normal Room Houses')\n",
    "sns.countplot(x=NormalRoomsDF['BHK_NO.'],hue=NormalRoomsDF['RESALE'])\n",
    "\n",
    "plt.subplot(1,2,2)\n",
    "plt.title('Excessive Room Houses')\n",
    "sns.countplot(x=ExcessiveRoomsDF['BHK_NO.'],hue=ExcessiveRoomsDF['RESALE'])"
   ]
  },
  {
   "cell_type": "markdown",
   "id": "HxXYMqumQRjf",
   "metadata": {
    "id": "HxXYMqumQRjf"
   },
   "source": [
    "Excessive rooms (BHK>5)\n",
    "\n",
    "Only one out of 94 houses is newly constructed, others are on resale. The new house that is under construction is 6 BHK. \n",
    "\n",
    "New construction is typically done on 2-5 BHK houses, not on the houses that are above 5 BHK.\n",
    "\n",
    "Normal rooms (1,2,3 BHK)\n",
    "\n",
    "About 93% of total houses are of (1,2 and 3) BHK houses.  "
   ]
  },
  {
   "cell_type": "markdown",
   "id": "-lmlhqvRaTpB",
   "metadata": {
    "id": "-lmlhqvRaTpB"
   },
   "source": [
    "#### Grouping and Corelation"
   ]
  },
  {
   "cell_type": "code",
   "execution_count": 16,
   "id": "98dbddcd",
   "metadata": {
    "colab": {
     "base_uri": "https://localhost:8080/",
     "height": 1000
    },
    "id": "98dbddcd",
    "outputId": "7263ae03-351f-4bef-df67-b5941e4eb3fd"
   },
   "outputs": [
    {
     "name": "stderr",
     "output_type": "stream",
     "text": [
      "/usr/local/lib/python3.7/dist-packages/ipykernel_launcher.py:1: FutureWarning: Indexing with multiple keys (implicitly converted to a tuple of keys) will be deprecated, use a list instead.\n",
      "  \"\"\"Entry point for launching an IPython kernel.\n"
     ]
    },
    {
     "data": {
      "text/html": [
       "<div>\n",
       "<style scoped>\n",
       "    .dataframe tbody tr th:only-of-type {\n",
       "        vertical-align: middle;\n",
       "    }\n",
       "\n",
       "    .dataframe tbody tr th {\n",
       "        vertical-align: top;\n",
       "    }\n",
       "\n",
       "    .dataframe thead th {\n",
       "        text-align: right;\n",
       "    }\n",
       "</style>\n",
       "<table border=\"1\" class=\"dataframe\">\n",
       "  <thead>\n",
       "    <tr style=\"text-align: right;\">\n",
       "      <th></th>\n",
       "      <th></th>\n",
       "      <th></th>\n",
       "      <th>SQUARE_FT</th>\n",
       "      <th>TARGET(PRICE_IN_LACS)</th>\n",
       "    </tr>\n",
       "    <tr>\n",
       "      <th>RESALE</th>\n",
       "      <th>RERA</th>\n",
       "      <th>BHK_NO.</th>\n",
       "      <th></th>\n",
       "      <th></th>\n",
       "    </tr>\n",
       "  </thead>\n",
       "  <tbody>\n",
       "    <tr>\n",
       "      <th rowspan=\"11\" valign=\"top\">0</th>\n",
       "      <th rowspan=\"6\" valign=\"top\">0</th>\n",
       "      <th>1</th>\n",
       "      <td>528.700906</td>\n",
       "      <td>23.6</td>\n",
       "    </tr>\n",
       "    <tr>\n",
       "      <th>2</th>\n",
       "      <td>948.572235</td>\n",
       "      <td>37.0</td>\n",
       "    </tr>\n",
       "    <tr>\n",
       "      <th>3</th>\n",
       "      <td>1440.067768</td>\n",
       "      <td>66.9</td>\n",
       "    </tr>\n",
       "    <tr>\n",
       "      <th>4</th>\n",
       "      <td>2637.172500</td>\n",
       "      <td>210.0</td>\n",
       "    </tr>\n",
       "    <tr>\n",
       "      <th>5</th>\n",
       "      <td>3375.000000</td>\n",
       "      <td>550.0</td>\n",
       "    </tr>\n",
       "    <tr>\n",
       "      <th>6</th>\n",
       "      <td>11263.157890</td>\n",
       "      <td>1070.0</td>\n",
       "    </tr>\n",
       "    <tr>\n",
       "      <th rowspan=\"5\" valign=\"top\">1</th>\n",
       "      <th>1</th>\n",
       "      <td>444.672106</td>\n",
       "      <td>46.0</td>\n",
       "    </tr>\n",
       "    <tr>\n",
       "      <th>2</th>\n",
       "      <td>766.214450</td>\n",
       "      <td>59.6</td>\n",
       "    </tr>\n",
       "    <tr>\n",
       "      <th>3</th>\n",
       "      <td>1315.055648</td>\n",
       "      <td>100.0</td>\n",
       "    </tr>\n",
       "    <tr>\n",
       "      <th>4</th>\n",
       "      <td>2305.394354</td>\n",
       "      <td>180.0</td>\n",
       "    </tr>\n",
       "    <tr>\n",
       "      <th>5</th>\n",
       "      <td>4241.228071</td>\n",
       "      <td>340.0</td>\n",
       "    </tr>\n",
       "    <tr>\n",
       "      <th rowspan=\"23\" valign=\"top\">1</th>\n",
       "      <th rowspan=\"16\" valign=\"top\">0</th>\n",
       "      <th>1</th>\n",
       "      <td>602.873268</td>\n",
       "      <td>28.0</td>\n",
       "    </tr>\n",
       "    <tr>\n",
       "      <th>2</th>\n",
       "      <td>1043.296818</td>\n",
       "      <td>45.0</td>\n",
       "    </tr>\n",
       "    <tr>\n",
       "      <th>3</th>\n",
       "      <td>1530.054645</td>\n",
       "      <td>76.0</td>\n",
       "    </tr>\n",
       "    <tr>\n",
       "      <th>4</th>\n",
       "      <td>2577.403606</td>\n",
       "      <td>200.0</td>\n",
       "    </tr>\n",
       "    <tr>\n",
       "      <th>5</th>\n",
       "      <td>3577.197949</td>\n",
       "      <td>300.0</td>\n",
       "    </tr>\n",
       "    <tr>\n",
       "      <th>6</th>\n",
       "      <td>3550.032728</td>\n",
       "      <td>500.0</td>\n",
       "    </tr>\n",
       "    <tr>\n",
       "      <th>7</th>\n",
       "      <td>3563.596491</td>\n",
       "      <td>180.0</td>\n",
       "    </tr>\n",
       "    <tr>\n",
       "      <th>8</th>\n",
       "      <td>3994.224984</td>\n",
       "      <td>375.0</td>\n",
       "    </tr>\n",
       "    <tr>\n",
       "      <th>9</th>\n",
       "      <td>5866.666667</td>\n",
       "      <td>220.0</td>\n",
       "    </tr>\n",
       "    <tr>\n",
       "      <th>10</th>\n",
       "      <td>5928.370066</td>\n",
       "      <td>227.5</td>\n",
       "    </tr>\n",
       "    <tr>\n",
       "      <th>11</th>\n",
       "      <td>4000.000000</td>\n",
       "      <td>55.0</td>\n",
       "    </tr>\n",
       "    <tr>\n",
       "      <th>12</th>\n",
       "      <td>4824.561404</td>\n",
       "      <td>180.0</td>\n",
       "    </tr>\n",
       "    <tr>\n",
       "      <th>13</th>\n",
       "      <td>10460.251050</td>\n",
       "      <td>500.0</td>\n",
       "    </tr>\n",
       "    <tr>\n",
       "      <th>15</th>\n",
       "      <td>6947.368421</td>\n",
       "      <td>390.0</td>\n",
       "    </tr>\n",
       "    <tr>\n",
       "      <th>17</th>\n",
       "      <td>11000.343760</td>\n",
       "      <td>320.0</td>\n",
       "    </tr>\n",
       "    <tr>\n",
       "      <th>20</th>\n",
       "      <td>9491.561180</td>\n",
       "      <td>530.0</td>\n",
       "    </tr>\n",
       "    <tr>\n",
       "      <th rowspan=\"7\" valign=\"top\">1</th>\n",
       "      <th>1</th>\n",
       "      <td>625.000000</td>\n",
       "      <td>39.0</td>\n",
       "    </tr>\n",
       "    <tr>\n",
       "      <th>2</th>\n",
       "      <td>1057.674361</td>\n",
       "      <td>60.3</td>\n",
       "    </tr>\n",
       "    <tr>\n",
       "      <th>3</th>\n",
       "      <td>1600.492459</td>\n",
       "      <td>89.7</td>\n",
       "    </tr>\n",
       "    <tr>\n",
       "      <th>4</th>\n",
       "      <td>2594.951640</td>\n",
       "      <td>190.0</td>\n",
       "    </tr>\n",
       "    <tr>\n",
       "      <th>5</th>\n",
       "      <td>4888.888889</td>\n",
       "      <td>420.0</td>\n",
       "    </tr>\n",
       "    <tr>\n",
       "      <th>6</th>\n",
       "      <td>3500.063638</td>\n",
       "      <td>1100.0</td>\n",
       "    </tr>\n",
       "    <tr>\n",
       "      <th>7</th>\n",
       "      <td>24384.404926</td>\n",
       "      <td>140.0</td>\n",
       "    </tr>\n",
       "  </tbody>\n",
       "</table>\n",
       "</div>"
      ],
      "text/plain": [
       "                        SQUARE_FT  TARGET(PRICE_IN_LACS)\n",
       "RESALE RERA BHK_NO.                                     \n",
       "0      0    1          528.700906                   23.6\n",
       "            2          948.572235                   37.0\n",
       "            3         1440.067768                   66.9\n",
       "            4         2637.172500                  210.0\n",
       "            5         3375.000000                  550.0\n",
       "            6        11263.157890                 1070.0\n",
       "       1    1          444.672106                   46.0\n",
       "            2          766.214450                   59.6\n",
       "            3         1315.055648                  100.0\n",
       "            4         2305.394354                  180.0\n",
       "            5         4241.228071                  340.0\n",
       "1      0    1          602.873268                   28.0\n",
       "            2         1043.296818                   45.0\n",
       "            3         1530.054645                   76.0\n",
       "            4         2577.403606                  200.0\n",
       "            5         3577.197949                  300.0\n",
       "            6         3550.032728                  500.0\n",
       "            7         3563.596491                  180.0\n",
       "            8         3994.224984                  375.0\n",
       "            9         5866.666667                  220.0\n",
       "            10        5928.370066                  227.5\n",
       "            11        4000.000000                   55.0\n",
       "            12        4824.561404                  180.0\n",
       "            13       10460.251050                  500.0\n",
       "            15        6947.368421                  390.0\n",
       "            17       11000.343760                  320.0\n",
       "            20        9491.561180                  530.0\n",
       "       1    1          625.000000                   39.0\n",
       "            2         1057.674361                   60.3\n",
       "            3         1600.492459                   89.7\n",
       "            4         2594.951640                  190.0\n",
       "            5         4888.888889                  420.0\n",
       "            6         3500.063638                 1100.0\n",
       "            7        24384.404926                  140.0"
      ]
     },
     "execution_count": 16,
     "metadata": {},
     "output_type": "execute_result"
    }
   ],
   "source": [
    "housingdf.groupby(['RESALE','RERA','BHK_NO.'])['SQUARE_FT','TARGET(PRICE_IN_LACS)'].median()"
   ]
  },
  {
   "cell_type": "markdown",
   "id": "IzOTs5h_Ei2s",
   "metadata": {
    "id": "IzOTs5h_Ei2s"
   },
   "source": [
    "The area with respect to the corresponding BHK, for RERA approved newly constructed houses, the area is less than the area of houses that are not under RERA whereas the Resale RERA approved houses have more area than the houses which are not approved and the prices of RERA approved house is more comparatively to the ones not approved till 5BHK.  Coincidence?\n"
   ]
  },
  {
   "cell_type": "code",
   "execution_count": 17,
   "id": "9ea7b7d9",
   "metadata": {
    "colab": {
     "base_uri": "https://localhost:8080/",
     "height": 470
    },
    "id": "9ea7b7d9",
    "outputId": "72da607c-2eef-4a58-9a81-4ebe5bd24f62"
   },
   "outputs": [
    {
     "data": {
      "text/html": [
       "<div>\n",
       "<style scoped>\n",
       "    .dataframe tbody tr th:only-of-type {\n",
       "        vertical-align: middle;\n",
       "    }\n",
       "\n",
       "    .dataframe tbody tr th {\n",
       "        vertical-align: top;\n",
       "    }\n",
       "\n",
       "    .dataframe thead th {\n",
       "        text-align: right;\n",
       "    }\n",
       "</style>\n",
       "<table border=\"1\" class=\"dataframe\">\n",
       "  <thead>\n",
       "    <tr style=\"text-align: right;\">\n",
       "      <th></th>\n",
       "      <th>POSTED_BY</th>\n",
       "      <th>UNDER_CONSTRUCTION</th>\n",
       "      <th>RERA</th>\n",
       "      <th>BHK_NO.</th>\n",
       "      <th>BHK_OR_RK</th>\n",
       "      <th>SQUARE_FT</th>\n",
       "      <th>READY_TO_MOVE</th>\n",
       "      <th>RESALE</th>\n",
       "      <th>ADDRESS</th>\n",
       "      <th>LONGITUDE</th>\n",
       "      <th>LATITUDE</th>\n",
       "      <th>TARGET(PRICE_IN_LACS)</th>\n",
       "    </tr>\n",
       "  </thead>\n",
       "  <tbody>\n",
       "    <tr>\n",
       "      <th>93</th>\n",
       "      <td>Dealer</td>\n",
       "      <td>1</td>\n",
       "      <td>1</td>\n",
       "      <td>4</td>\n",
       "      <td>BHK</td>\n",
       "      <td>1725.490196</td>\n",
       "      <td>0</td>\n",
       "      <td>0</td>\n",
       "      <td>Deonar,Maharashtra</td>\n",
       "      <td>19.049513</td>\n",
       "      <td>72.919204</td>\n",
       "      <td>440.0</td>\n",
       "    </tr>\n",
       "    <tr>\n",
       "      <th>123</th>\n",
       "      <td>Dealer</td>\n",
       "      <td>1</td>\n",
       "      <td>1</td>\n",
       "      <td>4</td>\n",
       "      <td>BHK</td>\n",
       "      <td>1304.034182</td>\n",
       "      <td>0</td>\n",
       "      <td>0</td>\n",
       "      <td>Kanchpada,Maharashtra</td>\n",
       "      <td>18.960000</td>\n",
       "      <td>72.820000</td>\n",
       "      <td>470.0</td>\n",
       "    </tr>\n",
       "    <tr>\n",
       "      <th>669</th>\n",
       "      <td>Dealer</td>\n",
       "      <td>1</td>\n",
       "      <td>1</td>\n",
       "      <td>4</td>\n",
       "      <td>BHK</td>\n",
       "      <td>1429.272351</td>\n",
       "      <td>0</td>\n",
       "      <td>0</td>\n",
       "      <td>Worli,Lalitpur</td>\n",
       "      <td>19.016700</td>\n",
       "      <td>72.816700</td>\n",
       "      <td>670.0</td>\n",
       "    </tr>\n",
       "    <tr>\n",
       "      <th>1619</th>\n",
       "      <td>Builder</td>\n",
       "      <td>1</td>\n",
       "      <td>1</td>\n",
       "      <td>4</td>\n",
       "      <td>BHK</td>\n",
       "      <td>6363.636364</td>\n",
       "      <td>0</td>\n",
       "      <td>0</td>\n",
       "      <td>Savarkar Nagar,Maharashtra</td>\n",
       "      <td>20.013202</td>\n",
       "      <td>73.753094</td>\n",
       "      <td>350.0</td>\n",
       "    </tr>\n",
       "    <tr>\n",
       "      <th>2269</th>\n",
       "      <td>Dealer</td>\n",
       "      <td>0</td>\n",
       "      <td>0</td>\n",
       "      <td>4</td>\n",
       "      <td>BHK</td>\n",
       "      <td>1941.176471</td>\n",
       "      <td>1</td>\n",
       "      <td>0</td>\n",
       "      <td>Worli,Maharashtra</td>\n",
       "      <td>19.016700</td>\n",
       "      <td>72.816700</td>\n",
       "      <td>990.0</td>\n",
       "    </tr>\n",
       "    <tr>\n",
       "      <th>...</th>\n",
       "      <td>...</td>\n",
       "      <td>...</td>\n",
       "      <td>...</td>\n",
       "      <td>...</td>\n",
       "      <td>...</td>\n",
       "      <td>...</td>\n",
       "      <td>...</td>\n",
       "      <td>...</td>\n",
       "      <td>...</td>\n",
       "      <td>...</td>\n",
       "      <td>...</td>\n",
       "      <td>...</td>\n",
       "    </tr>\n",
       "    <tr>\n",
       "      <th>27600</th>\n",
       "      <td>Dealer</td>\n",
       "      <td>0</td>\n",
       "      <td>1</td>\n",
       "      <td>4</td>\n",
       "      <td>BHK</td>\n",
       "      <td>3428.571429</td>\n",
       "      <td>1</td>\n",
       "      <td>0</td>\n",
       "      <td>Mahalaxmi,Lalitpur</td>\n",
       "      <td>24.690280</td>\n",
       "      <td>78.418890</td>\n",
       "      <td>1680.0</td>\n",
       "    </tr>\n",
       "    <tr>\n",
       "      <th>27872</th>\n",
       "      <td>Dealer</td>\n",
       "      <td>0</td>\n",
       "      <td>1</td>\n",
       "      <td>4</td>\n",
       "      <td>BHK</td>\n",
       "      <td>3428.571429</td>\n",
       "      <td>1</td>\n",
       "      <td>0</td>\n",
       "      <td>Mahalaxmi,Maharashtra</td>\n",
       "      <td>18.978006</td>\n",
       "      <td>72.806154</td>\n",
       "      <td>1680.0</td>\n",
       "    </tr>\n",
       "    <tr>\n",
       "      <th>28477</th>\n",
       "      <td>Dealer</td>\n",
       "      <td>1</td>\n",
       "      <td>1</td>\n",
       "      <td>4</td>\n",
       "      <td>BHK</td>\n",
       "      <td>1449.557560</td>\n",
       "      <td>0</td>\n",
       "      <td>0</td>\n",
       "      <td>Worli,Maharashtra</td>\n",
       "      <td>19.016700</td>\n",
       "      <td>72.816700</td>\n",
       "      <td>670.0</td>\n",
       "    </tr>\n",
       "    <tr>\n",
       "      <th>28540</th>\n",
       "      <td>Builder</td>\n",
       "      <td>0</td>\n",
       "      <td>1</td>\n",
       "      <td>4</td>\n",
       "      <td>BHK</td>\n",
       "      <td>1228.277682</td>\n",
       "      <td>1</td>\n",
       "      <td>0</td>\n",
       "      <td>Sopan Baug,Maharashtra</td>\n",
       "      <td>18.960000</td>\n",
       "      <td>72.820000</td>\n",
       "      <td>270.0</td>\n",
       "    </tr>\n",
       "    <tr>\n",
       "      <th>29117</th>\n",
       "      <td>Dealer</td>\n",
       "      <td>0</td>\n",
       "      <td>1</td>\n",
       "      <td>4</td>\n",
       "      <td>BHK</td>\n",
       "      <td>1254.901961</td>\n",
       "      <td>1</td>\n",
       "      <td>0</td>\n",
       "      <td>Chembur (East),Lalitpur</td>\n",
       "      <td>19.058710</td>\n",
       "      <td>72.899690</td>\n",
       "      <td>320.0</td>\n",
       "    </tr>\n",
       "  </tbody>\n",
       "</table>\n",
       "<p>85 rows × 12 columns</p>\n",
       "</div>"
      ],
      "text/plain": [
       "      POSTED_BY  UNDER_CONSTRUCTION  ...   LATITUDE  TARGET(PRICE_IN_LACS)\n",
       "93       Dealer                   1  ...  72.919204                  440.0\n",
       "123      Dealer                   1  ...  72.820000                  470.0\n",
       "669      Dealer                   1  ...  72.816700                  670.0\n",
       "1619    Builder                   1  ...  73.753094                  350.0\n",
       "2269     Dealer                   0  ...  72.816700                  990.0\n",
       "...         ...                 ...  ...        ...                    ...\n",
       "27600    Dealer                   0  ...  78.418890                 1680.0\n",
       "27872    Dealer                   0  ...  72.806154                 1680.0\n",
       "28477    Dealer                   1  ...  72.816700                  670.0\n",
       "28540   Builder                   0  ...  72.820000                  270.0\n",
       "29117    Dealer                   0  ...  72.899690                  320.0\n",
       "\n",
       "[85 rows x 12 columns]"
      ]
     },
     "execution_count": 17,
     "metadata": {},
     "output_type": "execute_result"
    }
   ],
   "source": [
    "housingdf[(housingdf['RESALE']==0) & (housingdf['BHK_NO.']==4) & (housingdf['TARGET(PRICE_IN_LACS)']>200)]"
   ]
  },
  {
   "cell_type": "markdown",
   "id": "TeNaSak5L0nZ",
   "metadata": {
    "id": "TeNaSak5L0nZ"
   },
   "source": [
    "As address contains tones of different value, the name of city is extracted from address. Since there is no specific pattern in the address, the city names are not extracted as per the expectations."
   ]
  },
  {
   "cell_type": "code",
   "execution_count": 18,
   "id": "59f42cea",
   "metadata": {
    "id": "59f42cea"
   },
   "outputs": [],
   "source": [
    "housingdf['cities']=housingdf['ADDRESS'].str.split(',').str[1]"
   ]
  },
  {
   "cell_type": "code",
   "execution_count": 19,
   "id": "YLCw3cS1WJ-A",
   "metadata": {
    "colab": {
     "base_uri": "https://localhost:8080/"
    },
    "id": "YLCw3cS1WJ-A",
    "outputId": "135499e6-3187-4720-dc70-9d30653d4e67"
   },
   "outputs": [
    {
     "data": {
      "text/plain": [
       "0                    Ksfc Layout,Bangalore\n",
       "1                Vishweshwara Nagar,Mysore\n",
       "2                         Jigani,Bangalore\n",
       "3              Sector-1 Vaishali,Ghaziabad\n",
       "4                         New Town,Kolkata\n",
       "                       ...                \n",
       "29446                 Shamshabad Road,Agra\n",
       "29447    E3-108, Lake View Recidency,,Vapi\n",
       "29448                    Ajmer Road,Jaipur\n",
       "29449               Sholinganallur,Chennai\n",
       "29450                     Jagatpura,Jaipur\n",
       "Name: ADDRESS, Length: 29451, dtype: object"
      ]
     },
     "execution_count": 19,
     "metadata": {},
     "output_type": "execute_result"
    }
   ],
   "source": [
    "housingdf['ADDRESS']"
   ]
  },
  {
   "cell_type": "code",
   "execution_count": 20,
   "id": "618efafe",
   "metadata": {
    "colab": {
     "base_uri": "https://localhost:8080/"
    },
    "id": "618efafe",
    "outputId": "11e78c4f-8401-4bb3-c3a1-ddb20d9bc53e"
   },
   "outputs": [
    {
     "data": {
      "text/plain": [
       "Bangalore                4319\n",
       "Lalitpur                 2987\n",
       "Mumbai                   2020\n",
       "Pune                     1984\n",
       "Noida                    1765\n",
       "                         ... \n",
       " Pune Solapur Highway       1\n",
       "Sabarkantha                 1\n",
       " Kanpur Road                1\n",
       " Machabollaram              1\n",
       "Rajpura                     1\n",
       "Name: cities, Length: 433, dtype: int64"
      ]
     },
     "execution_count": 20,
     "metadata": {},
     "output_type": "execute_result"
    }
   ],
   "source": [
    "housingdf['cities'].value_counts()"
   ]
  },
  {
   "cell_type": "markdown",
   "id": "iZNASa_bMg_F",
   "metadata": {
    "id": "iZNASa_bMg_F"
   },
   "source": [
    "To get the idea on the houses that are in top cities"
   ]
  },
  {
   "cell_type": "code",
   "execution_count": 22,
   "id": "f0330103",
   "metadata": {
    "id": "f0330103"
   },
   "outputs": [],
   "source": [
    "topcitieshouses = housingdf[housingdf['cities'].isin(['Bangalore','Lalitpur','Mumbai','Pune','Noida'])]"
   ]
  },
  {
   "cell_type": "code",
   "execution_count": 23,
   "id": "aeab46aa",
   "metadata": {
    "colab": {
     "base_uri": "https://localhost:8080/",
     "height": 1000
    },
    "id": "aeab46aa",
    "outputId": "8ba98f86-6439-4a96-ae20-373b1b006476"
   },
   "outputs": [
    {
     "name": "stderr",
     "output_type": "stream",
     "text": [
      "/usr/local/lib/python3.7/dist-packages/ipykernel_launcher.py:2: FutureWarning: Indexing with multiple keys (implicitly converted to a tuple of keys) will be deprecated, use a list instead.\n",
      "  \n"
     ]
    },
    {
     "data": {
      "text/html": [
       "<div>\n",
       "<style scoped>\n",
       "    .dataframe tbody tr th:only-of-type {\n",
       "        vertical-align: middle;\n",
       "    }\n",
       "\n",
       "    .dataframe tbody tr th {\n",
       "        vertical-align: top;\n",
       "    }\n",
       "\n",
       "    .dataframe thead th {\n",
       "        text-align: right;\n",
       "    }\n",
       "</style>\n",
       "<table border=\"1\" class=\"dataframe\">\n",
       "  <thead>\n",
       "    <tr style=\"text-align: right;\">\n",
       "      <th></th>\n",
       "      <th></th>\n",
       "      <th>SQUARE_FT</th>\n",
       "      <th>TARGET(PRICE_IN_LACS)</th>\n",
       "    </tr>\n",
       "    <tr>\n",
       "      <th>BHK_NO.</th>\n",
       "      <th>cities</th>\n",
       "      <th></th>\n",
       "      <th></th>\n",
       "    </tr>\n",
       "  </thead>\n",
       "  <tbody>\n",
       "    <tr>\n",
       "      <th rowspan=\"5\" valign=\"top\">1</th>\n",
       "      <th>Bangalore</th>\n",
       "      <td>644.038294</td>\n",
       "      <td>38.0</td>\n",
       "    </tr>\n",
       "    <tr>\n",
       "      <th>Lalitpur</th>\n",
       "      <td>621.388598</td>\n",
       "      <td>55.0</td>\n",
       "    </tr>\n",
       "    <tr>\n",
       "      <th>Mumbai</th>\n",
       "      <td>615.146832</td>\n",
       "      <td>57.0</td>\n",
       "    </tr>\n",
       "    <tr>\n",
       "      <th>Noida</th>\n",
       "      <td>550.161812</td>\n",
       "      <td>23.0</td>\n",
       "    </tr>\n",
       "    <tr>\n",
       "      <th>Pune</th>\n",
       "      <td>610.023618</td>\n",
       "      <td>33.0</td>\n",
       "    </tr>\n",
       "    <tr>\n",
       "      <th rowspan=\"5\" valign=\"top\">2</th>\n",
       "      <th>Bangalore</th>\n",
       "      <td>1135.073780</td>\n",
       "      <td>59.5</td>\n",
       "    </tr>\n",
       "    <tr>\n",
       "      <th>Lalitpur</th>\n",
       "      <td>1013.282473</td>\n",
       "      <td>110.0</td>\n",
       "    </tr>\n",
       "    <tr>\n",
       "      <th>Mumbai</th>\n",
       "      <td>1009.693053</td>\n",
       "      <td>120.0</td>\n",
       "    </tr>\n",
       "    <tr>\n",
       "      <th>Noida</th>\n",
       "      <td>1069.976827</td>\n",
       "      <td>50.0</td>\n",
       "    </tr>\n",
       "    <tr>\n",
       "      <th>Pune</th>\n",
       "      <td>1018.079691</td>\n",
       "      <td>63.0</td>\n",
       "    </tr>\n",
       "    <tr>\n",
       "      <th rowspan=\"5\" valign=\"top\">3</th>\n",
       "      <th>Bangalore</th>\n",
       "      <td>1600.224593</td>\n",
       "      <td>99.0</td>\n",
       "    </tr>\n",
       "    <tr>\n",
       "      <th>Lalitpur</th>\n",
       "      <td>1466.781708</td>\n",
       "      <td>230.0</td>\n",
       "    </tr>\n",
       "    <tr>\n",
       "      <th>Mumbai</th>\n",
       "      <td>1482.294732</td>\n",
       "      <td>240.0</td>\n",
       "    </tr>\n",
       "    <tr>\n",
       "      <th>Noida</th>\n",
       "      <td>1612.339534</td>\n",
       "      <td>85.0</td>\n",
       "    </tr>\n",
       "    <tr>\n",
       "      <th>Pune</th>\n",
       "      <td>1537.172354</td>\n",
       "      <td>110.0</td>\n",
       "    </tr>\n",
       "    <tr>\n",
       "      <th rowspan=\"5\" valign=\"top\">4</th>\n",
       "      <th>Bangalore</th>\n",
       "      <td>3000.000000</td>\n",
       "      <td>250.0</td>\n",
       "    </tr>\n",
       "    <tr>\n",
       "      <th>Lalitpur</th>\n",
       "      <td>2574.959945</td>\n",
       "      <td>700.0</td>\n",
       "    </tr>\n",
       "    <tr>\n",
       "      <th>Mumbai</th>\n",
       "      <td>2414.741610</td>\n",
       "      <td>590.0</td>\n",
       "    </tr>\n",
       "    <tr>\n",
       "      <th>Noida</th>\n",
       "      <td>2850.276076</td>\n",
       "      <td>180.0</td>\n",
       "    </tr>\n",
       "    <tr>\n",
       "      <th>Pune</th>\n",
       "      <td>2883.922134</td>\n",
       "      <td>240.0</td>\n",
       "    </tr>\n",
       "    <tr>\n",
       "      <th rowspan=\"5\" valign=\"top\">5</th>\n",
       "      <th>Bangalore</th>\n",
       "      <td>4928.172495</td>\n",
       "      <td>500.0</td>\n",
       "    </tr>\n",
       "    <tr>\n",
       "      <th>Lalitpur</th>\n",
       "      <td>3331.202710</td>\n",
       "      <td>705.0</td>\n",
       "    </tr>\n",
       "    <tr>\n",
       "      <th>Mumbai</th>\n",
       "      <td>2525.030869</td>\n",
       "      <td>785.0</td>\n",
       "    </tr>\n",
       "    <tr>\n",
       "      <th>Noida</th>\n",
       "      <td>4500.160720</td>\n",
       "      <td>290.0</td>\n",
       "    </tr>\n",
       "    <tr>\n",
       "      <th>Pune</th>\n",
       "      <td>5500.146671</td>\n",
       "      <td>550.0</td>\n",
       "    </tr>\n",
       "    <tr>\n",
       "      <th rowspan=\"5\" valign=\"top\">6</th>\n",
       "      <th>Bangalore</th>\n",
       "      <td>7500.000000</td>\n",
       "      <td>1070.0</td>\n",
       "    </tr>\n",
       "    <tr>\n",
       "      <th>Lalitpur</th>\n",
       "      <td>3750.031819</td>\n",
       "      <td>1290.0</td>\n",
       "    </tr>\n",
       "    <tr>\n",
       "      <th>Mumbai</th>\n",
       "      <td>3499.981579</td>\n",
       "      <td>950.0</td>\n",
       "    </tr>\n",
       "    <tr>\n",
       "      <th>Noida</th>\n",
       "      <td>10050.251260</td>\n",
       "      <td>1200.0</td>\n",
       "    </tr>\n",
       "    <tr>\n",
       "      <th>Pune</th>\n",
       "      <td>4995.004995</td>\n",
       "      <td>600.0</td>\n",
       "    </tr>\n",
       "    <tr>\n",
       "      <th rowspan=\"2\" valign=\"top\">7</th>\n",
       "      <th>Bangalore</th>\n",
       "      <td>4652.959379</td>\n",
       "      <td>590.0</td>\n",
       "    </tr>\n",
       "    <tr>\n",
       "      <th>Lalitpur</th>\n",
       "      <td>9099.966289</td>\n",
       "      <td>6250.0</td>\n",
       "    </tr>\n",
       "    <tr>\n",
       "      <th rowspan=\"4\" valign=\"top\">8</th>\n",
       "      <th>Bangalore</th>\n",
       "      <td>2160.000000</td>\n",
       "      <td>310.0</td>\n",
       "    </tr>\n",
       "    <tr>\n",
       "      <th>Lalitpur</th>\n",
       "      <td>6600.006600</td>\n",
       "      <td>2000.0</td>\n",
       "    </tr>\n",
       "    <tr>\n",
       "      <th>Mumbai</th>\n",
       "      <td>6600.006600</td>\n",
       "      <td>2000.0</td>\n",
       "    </tr>\n",
       "    <tr>\n",
       "      <th>Pune</th>\n",
       "      <td>7097.321636</td>\n",
       "      <td>900.0</td>\n",
       "    </tr>\n",
       "    <tr>\n",
       "      <th>9</th>\n",
       "      <th>Bangalore</th>\n",
       "      <td>1313.580968</td>\n",
       "      <td>180.0</td>\n",
       "    </tr>\n",
       "    <tr>\n",
       "      <th>10</th>\n",
       "      <th>Bangalore</th>\n",
       "      <td>4490.000000</td>\n",
       "      <td>485.0</td>\n",
       "    </tr>\n",
       "    <tr>\n",
       "      <th>12</th>\n",
       "      <th>Bangalore</th>\n",
       "      <td>4824.561404</td>\n",
       "      <td>110.0</td>\n",
       "    </tr>\n",
       "    <tr>\n",
       "      <th>13</th>\n",
       "      <th>Bangalore</th>\n",
       "      <td>10460.251050</td>\n",
       "      <td>500.0</td>\n",
       "    </tr>\n",
       "    <tr>\n",
       "      <th>15</th>\n",
       "      <th>Bangalore</th>\n",
       "      <td>15001.153930</td>\n",
       "      <td>650.0</td>\n",
       "    </tr>\n",
       "    <tr>\n",
       "      <th>20</th>\n",
       "      <th>Bangalore</th>\n",
       "      <td>7000.000000</td>\n",
       "      <td>350.0</td>\n",
       "    </tr>\n",
       "  </tbody>\n",
       "</table>\n",
       "</div>"
      ],
      "text/plain": [
       "                      SQUARE_FT  TARGET(PRICE_IN_LACS)\n",
       "BHK_NO. cities                                        \n",
       "1       Bangalore    644.038294                   38.0\n",
       "        Lalitpur     621.388598                   55.0\n",
       "        Mumbai       615.146832                   57.0\n",
       "        Noida        550.161812                   23.0\n",
       "        Pune         610.023618                   33.0\n",
       "2       Bangalore   1135.073780                   59.5\n",
       "        Lalitpur    1013.282473                  110.0\n",
       "        Mumbai      1009.693053                  120.0\n",
       "        Noida       1069.976827                   50.0\n",
       "        Pune        1018.079691                   63.0\n",
       "3       Bangalore   1600.224593                   99.0\n",
       "        Lalitpur    1466.781708                  230.0\n",
       "        Mumbai      1482.294732                  240.0\n",
       "        Noida       1612.339534                   85.0\n",
       "        Pune        1537.172354                  110.0\n",
       "4       Bangalore   3000.000000                  250.0\n",
       "        Lalitpur    2574.959945                  700.0\n",
       "        Mumbai      2414.741610                  590.0\n",
       "        Noida       2850.276076                  180.0\n",
       "        Pune        2883.922134                  240.0\n",
       "5       Bangalore   4928.172495                  500.0\n",
       "        Lalitpur    3331.202710                  705.0\n",
       "        Mumbai      2525.030869                  785.0\n",
       "        Noida       4500.160720                  290.0\n",
       "        Pune        5500.146671                  550.0\n",
       "6       Bangalore   7500.000000                 1070.0\n",
       "        Lalitpur    3750.031819                 1290.0\n",
       "        Mumbai      3499.981579                  950.0\n",
       "        Noida      10050.251260                 1200.0\n",
       "        Pune        4995.004995                  600.0\n",
       "7       Bangalore   4652.959379                  590.0\n",
       "        Lalitpur    9099.966289                 6250.0\n",
       "8       Bangalore   2160.000000                  310.0\n",
       "        Lalitpur    6600.006600                 2000.0\n",
       "        Mumbai      6600.006600                 2000.0\n",
       "        Pune        7097.321636                  900.0\n",
       "9       Bangalore   1313.580968                  180.0\n",
       "10      Bangalore   4490.000000                  485.0\n",
       "12      Bangalore   4824.561404                  110.0\n",
       "13      Bangalore  10460.251050                  500.0\n",
       "15      Bangalore  15001.153930                  650.0\n",
       "20      Bangalore   7000.000000                  350.0"
      ]
     },
     "execution_count": 23,
     "metadata": {},
     "output_type": "execute_result"
    },
    {
     "data": {
      "text/plain": [
       "<Figure size 720x648 with 0 Axes>"
      ]
     },
     "metadata": {},
     "output_type": "display_data"
    }
   ],
   "source": [
    "plt.figure(figsize=(10,9))\n",
    "topcitieshouses.groupby(['BHK_NO.','cities'])['SQUARE_FT','TARGET(PRICE_IN_LACS)'].median()"
   ]
  },
  {
   "cell_type": "markdown",
   "id": "w15rJgMjEVb0",
   "metadata": {
    "id": "w15rJgMjEVb0"
   },
   "source": [
    "Area for the houses with 1,2,3,4 BHK are almost same in all the cities but from 5BHK houses, the area varies considerably as per the cities."
   ]
  },
  {
   "cell_type": "markdown",
   "id": "Bj4yyjLZT3ZH",
   "metadata": {
    "id": "Bj4yyjLZT3ZH"
   },
   "source": [
    "#### Heatmap and Scatterplot"
   ]
  },
  {
   "cell_type": "code",
   "execution_count": 24,
   "id": "7yVQ-GfJvl9b",
   "metadata": {
    "id": "7yVQ-GfJvl9b"
   },
   "outputs": [],
   "source": [
    "#corrHousingDF = housingdf.drop(columns=['POSTED_BY', 'UNDER_CONSTRUCTION', 'RERA', 'BHK_NO.','SQUARE_FT','READY_TO_MOVE', 'RESALE','TARGET(PRICE_IN_LACS)', 'cities'])\n",
    "\n",
    "\n",
    "corrHousingDF = housingdf.drop(columns=['BHK_OR_RK','LONGITUDE','LATITUDE','ADDRESS'])"
   ]
  },
  {
   "cell_type": "code",
   "execution_count": 25,
   "id": "Zas-Ja-Swfd7",
   "metadata": {
    "colab": {
     "base_uri": "https://localhost:8080/",
     "height": 417
    },
    "id": "Zas-Ja-Swfd7",
    "outputId": "3a69864c-f300-49b9-aabd-1751b5e5835c"
   },
   "outputs": [
    {
     "data": {
      "text/html": [
       "<div>\n",
       "<style scoped>\n",
       "    .dataframe tbody tr th:only-of-type {\n",
       "        vertical-align: middle;\n",
       "    }\n",
       "\n",
       "    .dataframe tbody tr th {\n",
       "        vertical-align: top;\n",
       "    }\n",
       "\n",
       "    .dataframe thead th {\n",
       "        text-align: right;\n",
       "    }\n",
       "</style>\n",
       "<table border=\"1\" class=\"dataframe\">\n",
       "  <thead>\n",
       "    <tr style=\"text-align: right;\">\n",
       "      <th></th>\n",
       "      <th>POSTED_BY</th>\n",
       "      <th>UNDER_CONSTRUCTION</th>\n",
       "      <th>RERA</th>\n",
       "      <th>BHK_NO.</th>\n",
       "      <th>SQUARE_FT</th>\n",
       "      <th>READY_TO_MOVE</th>\n",
       "      <th>RESALE</th>\n",
       "      <th>TARGET(PRICE_IN_LACS)</th>\n",
       "      <th>cities</th>\n",
       "    </tr>\n",
       "  </thead>\n",
       "  <tbody>\n",
       "    <tr>\n",
       "      <th>0</th>\n",
       "      <td>Owner</td>\n",
       "      <td>0</td>\n",
       "      <td>0</td>\n",
       "      <td>2</td>\n",
       "      <td>1300.236407</td>\n",
       "      <td>1</td>\n",
       "      <td>1</td>\n",
       "      <td>55.0</td>\n",
       "      <td>Bangalore</td>\n",
       "    </tr>\n",
       "    <tr>\n",
       "      <th>1</th>\n",
       "      <td>Dealer</td>\n",
       "      <td>0</td>\n",
       "      <td>0</td>\n",
       "      <td>2</td>\n",
       "      <td>1275.000000</td>\n",
       "      <td>1</td>\n",
       "      <td>1</td>\n",
       "      <td>51.0</td>\n",
       "      <td>Mysore</td>\n",
       "    </tr>\n",
       "    <tr>\n",
       "      <th>2</th>\n",
       "      <td>Owner</td>\n",
       "      <td>0</td>\n",
       "      <td>0</td>\n",
       "      <td>2</td>\n",
       "      <td>933.159722</td>\n",
       "      <td>1</td>\n",
       "      <td>1</td>\n",
       "      <td>43.0</td>\n",
       "      <td>Bangalore</td>\n",
       "    </tr>\n",
       "    <tr>\n",
       "      <th>3</th>\n",
       "      <td>Owner</td>\n",
       "      <td>0</td>\n",
       "      <td>1</td>\n",
       "      <td>2</td>\n",
       "      <td>929.921143</td>\n",
       "      <td>1</td>\n",
       "      <td>1</td>\n",
       "      <td>62.5</td>\n",
       "      <td>Ghaziabad</td>\n",
       "    </tr>\n",
       "    <tr>\n",
       "      <th>4</th>\n",
       "      <td>Dealer</td>\n",
       "      <td>1</td>\n",
       "      <td>0</td>\n",
       "      <td>2</td>\n",
       "      <td>999.009247</td>\n",
       "      <td>0</td>\n",
       "      <td>1</td>\n",
       "      <td>60.5</td>\n",
       "      <td>Kolkata</td>\n",
       "    </tr>\n",
       "    <tr>\n",
       "      <th>...</th>\n",
       "      <td>...</td>\n",
       "      <td>...</td>\n",
       "      <td>...</td>\n",
       "      <td>...</td>\n",
       "      <td>...</td>\n",
       "      <td>...</td>\n",
       "      <td>...</td>\n",
       "      <td>...</td>\n",
       "      <td>...</td>\n",
       "    </tr>\n",
       "    <tr>\n",
       "      <th>29446</th>\n",
       "      <td>Owner</td>\n",
       "      <td>0</td>\n",
       "      <td>0</td>\n",
       "      <td>3</td>\n",
       "      <td>2500.000000</td>\n",
       "      <td>1</td>\n",
       "      <td>1</td>\n",
       "      <td>45.0</td>\n",
       "      <td>Agra</td>\n",
       "    </tr>\n",
       "    <tr>\n",
       "      <th>29447</th>\n",
       "      <td>Owner</td>\n",
       "      <td>0</td>\n",
       "      <td>0</td>\n",
       "      <td>2</td>\n",
       "      <td>769.230769</td>\n",
       "      <td>1</td>\n",
       "      <td>1</td>\n",
       "      <td>16.0</td>\n",
       "      <td>Lake View Recidency</td>\n",
       "    </tr>\n",
       "    <tr>\n",
       "      <th>29448</th>\n",
       "      <td>Dealer</td>\n",
       "      <td>0</td>\n",
       "      <td>0</td>\n",
       "      <td>2</td>\n",
       "      <td>1022.641509</td>\n",
       "      <td>1</td>\n",
       "      <td>1</td>\n",
       "      <td>27.1</td>\n",
       "      <td>Jaipur</td>\n",
       "    </tr>\n",
       "    <tr>\n",
       "      <th>29449</th>\n",
       "      <td>Owner</td>\n",
       "      <td>0</td>\n",
       "      <td>0</td>\n",
       "      <td>2</td>\n",
       "      <td>927.079009</td>\n",
       "      <td>1</td>\n",
       "      <td>1</td>\n",
       "      <td>67.0</td>\n",
       "      <td>Chennai</td>\n",
       "    </tr>\n",
       "    <tr>\n",
       "      <th>29450</th>\n",
       "      <td>Dealer</td>\n",
       "      <td>0</td>\n",
       "      <td>1</td>\n",
       "      <td>2</td>\n",
       "      <td>896.774194</td>\n",
       "      <td>1</td>\n",
       "      <td>1</td>\n",
       "      <td>27.8</td>\n",
       "      <td>Jaipur</td>\n",
       "    </tr>\n",
       "  </tbody>\n",
       "</table>\n",
       "<p>29451 rows × 9 columns</p>\n",
       "</div>"
      ],
      "text/plain": [
       "      POSTED_BY  ...                cities\n",
       "0         Owner  ...             Bangalore\n",
       "1        Dealer  ...                Mysore\n",
       "2         Owner  ...             Bangalore\n",
       "3         Owner  ...             Ghaziabad\n",
       "4        Dealer  ...               Kolkata\n",
       "...         ...  ...                   ...\n",
       "29446     Owner  ...                  Agra\n",
       "29447     Owner  ...   Lake View Recidency\n",
       "29448    Dealer  ...                Jaipur\n",
       "29449     Owner  ...               Chennai\n",
       "29450    Dealer  ...                Jaipur\n",
       "\n",
       "[29451 rows x 9 columns]"
      ]
     },
     "execution_count": 25,
     "metadata": {},
     "output_type": "execute_result"
    }
   ],
   "source": [
    "corrHousingDF"
   ]
  },
  {
   "cell_type": "code",
   "execution_count": 26,
   "id": "5u5ziAeHwg3X",
   "metadata": {
    "colab": {
     "base_uri": "https://localhost:8080/",
     "height": 398
    },
    "id": "5u5ziAeHwg3X",
    "outputId": "0dc0f917-f899-4919-a2ff-89c2f47fccb6"
   },
   "outputs": [
    {
     "data": {
      "text/plain": [
       "<matplotlib.axes._subplots.AxesSubplot at 0x7fcf4d014790>"
      ]
     },
     "execution_count": 26,
     "metadata": {},
     "output_type": "execute_result"
    },
    {
     "data": {
      "image/png": "[encoded data removed]",
      "text/plain": [
       "<Figure size 432x288 with 2 Axes>"
      ]
     },
     "metadata": {
      "needs_background": "light"
     },
     "output_type": "display_data"
    }
   ],
   "source": [
    "sns.heatmap(corrHousingDF.corr(),annot=True,cmap='viridis')"
   ]
  },
  {
   "cell_type": "markdown",
   "id": "yqyBjtXLTOLE",
   "metadata": {
    "id": "yqyBjtXLTOLE"
   },
   "source": [
    "The Area plays a major role in affecting the price as per the heatmap but the city in which the house is located affects the price as well.\n",
    "\n",
    "'RESALE' is a negative affecting value which makes sense as the house would be RESALE, the price will be lower. Same effect is also captured for READY_TO_MOVE."
   ]
  },
  {
   "cell_type": "code",
   "execution_count": 27,
   "id": "DJvRnZoyxkK2",
   "metadata": {
    "colab": {
     "base_uri": "https://localhost:8080/",
     "height": 621
    },
    "id": "DJvRnZoyxkK2",
    "outputId": "b83fa31d-0375-47be-e50a-a7f8f8dee698"
   },
   "outputs": [
    {
     "data": {
      "image/png": "[encoded data removed]",
      "text/plain": [
       "<Figure size 864x720 with 1 Axes>"
      ]
     },
     "metadata": {
      "needs_background": "light"
     },
     "output_type": "display_data"
    }
   ],
   "source": [
    "# corrHousingDF['priceScaled'] =  (corrHousingDF['TARGET(PRICE_IN_LACS)']-corrHousingDF['TARGET(PRICE_IN_LACS)'].min())/(corrHousingDF['TARGET(PRICE_IN_LACS)'].max()-corrHousingDF['TARGET(PRICE_IN_LACS)'].min())\n",
    "# corrHousingDF['areaScaled'] = (corrHousingDF['SQUARE_FT']-corrHousingDF['SQUARE_FT'].min())/(corrHousingDF['SQUARE_FT'].max()-corrHousingDF['SQUARE_FT'].min())\n",
    "corrHousingDF['priceScaled'] = np.log(corrHousingDF['TARGET(PRICE_IN_LACS)'])\n",
    "corrHousingDF['areaScaled']= np.log(corrHousingDF['SQUARE_FT'])\n",
    "plt.figure(figsize=(12,10))\n",
    "plt.title('Area V/s Price')\n",
    "sns.scatterplot(data=corrHousingDF,x='priceScaled',y='areaScaled',hue='BHK_NO.')\n",
    "#sns.scatterplot(data=corrHousingDF,x='TARGET(PRICE_IN_LACS)',y='SQUARE_FT')\n",
    "plt.show()"
   ]
  },
  {
   "cell_type": "markdown",
   "id": "037Sknk8SMan",
   "metadata": {
    "id": "037Sknk8SMan"
   },
   "source": [
    "The relation between normal values of Price and area wasn't clear because of the scaling, after applying the log, the relation is little linear, more scattered."
   ]
  },
  {
   "cell_type": "markdown",
   "id": "9157bd4e",
   "metadata": {
    "id": "3zXwyklk3E7b"
   },
   "source": [
    "# Running Regression"
   ]
  },
  {
   "cell_type": "code",
   "execution_count": 5,
   "id": "a5cd06bd",
   "metadata": {},
   "outputs": [
    {
     "data": {
      "text/html": [
       "<div>\n",
       "<style scoped>\n",
       "    .dataframe tbody tr th:only-of-type {\n",
       "        vertical-align: middle;\n",
       "    }\n",
       "\n",
       "    .dataframe tbody tr th {\n",
       "        vertical-align: top;\n",
       "    }\n",
       "\n",
       "    .dataframe thead th {\n",
       "        text-align: right;\n",
       "    }\n",
       "</style>\n",
       "<table border=\"1\" class=\"dataframe\">\n",
       "  <thead>\n",
       "    <tr style=\"text-align: right;\">\n",
       "      <th></th>\n",
       "      <th>POSTED_BY</th>\n",
       "      <th>UNDER_CONSTRUCTION</th>\n",
       "      <th>RERA</th>\n",
       "      <th>BHK_NO.</th>\n",
       "      <th>BHK_OR_RK</th>\n",
       "      <th>SQUARE_FT</th>\n",
       "      <th>READY_TO_MOVE</th>\n",
       "      <th>RESALE</th>\n",
       "      <th>ADDRESS</th>\n",
       "      <th>LONGITUDE</th>\n",
       "      <th>LATITUDE</th>\n",
       "      <th>TARGET(PRICE_IN_LACS)</th>\n",
       "    </tr>\n",
       "  </thead>\n",
       "  <tbody>\n",
       "    <tr>\n",
       "      <th>0</th>\n",
       "      <td>Owner</td>\n",
       "      <td>0</td>\n",
       "      <td>0</td>\n",
       "      <td>2</td>\n",
       "      <td>BHK</td>\n",
       "      <td>1300.236407</td>\n",
       "      <td>1</td>\n",
       "      <td>1</td>\n",
       "      <td>Ksfc Layout,Bangalore</td>\n",
       "      <td>12.969910</td>\n",
       "      <td>77.597960</td>\n",
       "      <td>55.0</td>\n",
       "    </tr>\n",
       "    <tr>\n",
       "      <th>1</th>\n",
       "      <td>Dealer</td>\n",
       "      <td>0</td>\n",
       "      <td>0</td>\n",
       "      <td>2</td>\n",
       "      <td>BHK</td>\n",
       "      <td>1275.000000</td>\n",
       "      <td>1</td>\n",
       "      <td>1</td>\n",
       "      <td>Vishweshwara Nagar,Mysore</td>\n",
       "      <td>12.274538</td>\n",
       "      <td>76.644605</td>\n",
       "      <td>51.0</td>\n",
       "    </tr>\n",
       "    <tr>\n",
       "      <th>2</th>\n",
       "      <td>Owner</td>\n",
       "      <td>0</td>\n",
       "      <td>0</td>\n",
       "      <td>2</td>\n",
       "      <td>BHK</td>\n",
       "      <td>933.159722</td>\n",
       "      <td>1</td>\n",
       "      <td>1</td>\n",
       "      <td>Jigani,Bangalore</td>\n",
       "      <td>12.778033</td>\n",
       "      <td>77.632191</td>\n",
       "      <td>43.0</td>\n",
       "    </tr>\n",
       "    <tr>\n",
       "      <th>3</th>\n",
       "      <td>Owner</td>\n",
       "      <td>0</td>\n",
       "      <td>1</td>\n",
       "      <td>2</td>\n",
       "      <td>BHK</td>\n",
       "      <td>929.921143</td>\n",
       "      <td>1</td>\n",
       "      <td>1</td>\n",
       "      <td>Sector-1 Vaishali,Ghaziabad</td>\n",
       "      <td>28.642300</td>\n",
       "      <td>77.344500</td>\n",
       "      <td>62.5</td>\n",
       "    </tr>\n",
       "    <tr>\n",
       "      <th>4</th>\n",
       "      <td>Dealer</td>\n",
       "      <td>1</td>\n",
       "      <td>0</td>\n",
       "      <td>2</td>\n",
       "      <td>BHK</td>\n",
       "      <td>999.009247</td>\n",
       "      <td>0</td>\n",
       "      <td>1</td>\n",
       "      <td>New Town,Kolkata</td>\n",
       "      <td>22.592200</td>\n",
       "      <td>88.484911</td>\n",
       "      <td>60.5</td>\n",
       "    </tr>\n",
       "  </tbody>\n",
       "</table>\n",
       "</div>"
      ],
      "text/plain": [
       "  POSTED_BY  UNDER_CONSTRUCTION  RERA  BHK_NO. BHK_OR_RK    SQUARE_FT  \\\n",
       "0     Owner                   0     0        2       BHK  1300.236407   \n",
       "1    Dealer                   0     0        2       BHK  1275.000000   \n",
       "2     Owner                   0     0        2       BHK   933.159722   \n",
       "3     Owner                   0     1        2       BHK   929.921143   \n",
       "4    Dealer                   1     0        2       BHK   999.009247   \n",
       "\n",
       "   READY_TO_MOVE  RESALE                      ADDRESS  LONGITUDE   LATITUDE  \\\n",
       "0              1       1        Ksfc Layout,Bangalore  12.969910  77.597960   \n",
       "1              1       1    Vishweshwara Nagar,Mysore  12.274538  76.644605   \n",
       "2              1       1             Jigani,Bangalore  12.778033  77.632191   \n",
       "3              1       1  Sector-1 Vaishali,Ghaziabad  28.642300  77.344500   \n",
       "4              0       1             New Town,Kolkata  22.592200  88.484911   \n",
       "\n",
       "   TARGET(PRICE_IN_LACS)  \n",
       "0                   55.0  \n",
       "1                   51.0  \n",
       "2                   43.0  \n",
       "3                   62.5  \n",
       "4                   60.5  "
      ]
     },
     "execution_count": 5,
     "metadata": {},
     "output_type": "execute_result"
    }
   ],
   "source": [
    "housingdf.head()"
   ]
  },
  {
   "cell_type": "code",
   "execution_count": 3,
   "id": "8e385723",
   "metadata": {},
   "outputs": [],
   "source": [
    "# Here the Maharshtra is a state but the values which got citynames as Maharashtra that are located in Mumbai,\n",
    "# so any house in Maharashtra as cityname is Tier 1\n",
    "tier1 = ['Ahmedabad', 'Bangalore', 'Chennai', 'Delhi', 'Hyderabad', 'Kolkata', 'Mumbai', 'Pune','Maharashtra']\n",
    "\n",
    "tier2 = 'Agra, Ajmer, Aligarh, Amravati, Amritsar, Asansol, Aurangabad, Bareilly, Belgaum, Bhavnagar, Bhiwandi, Bhopal, Bhubaneswar, Bikaner, Bilaspur, Bokaro Steel City, Chandigarh, Coimbatore, Cuttack, Dehradun, Dhanbad, Bhilai, Durgapur, Erode, Faridabad, Firozabad, Ghaziabad, Gorakhpur, Gulbarga, Guntur, Gwalior, Gurugram, Guwahati, Hamirpur, Hubli–Dharwad, Indore, Jabalpur, Jaipur, Jalandhar, Jalgaon, Jammu, Jamnagar, Jamshedpur, Jhansi, Jodhpur, Kakinada, Kannur, Kanpur, Karnal, Kochi, Kolhapur, Kollam, Kozhikode, Kurnool, Ludhiana, Lucknow, Madurai, Malappuram, Mathura, Mangalore, Meerut, Moradabad, Mysore, Nagpur, Nanded, Nashik, Nellore, Noida, Patna, Puducherry, Purulia, Prayagraj, Raipur, Rajkot, Rajamahendravaram, Ranchi, Rourkela, Ratlam, Salem, Sangli, Shimla, Siliguri, Solapur, Srinagar, Surat, Thanjavur, Thiruvananthapuram, Thrissur, Tiruchirappalli, Tirunelveli, Tiruvannamalai, Ujjain, Vijayapura, Vadodara, Varanasi, Vasai-Virar City, Vijayawada, Visakhapatnam, Vellore, Warangal'\n",
    "tier2 = tier2.split(', ')"
   ]
  },
  {
   "cell_type": "code",
   "execution_count": 4,
   "id": "e9bb89e4",
   "metadata": {},
   "outputs": [
    {
     "data": {
      "text/plain": [
       "0                   Bangalore\n",
       "1                      Mysore\n",
       "2                   Bangalore\n",
       "3                   Ghaziabad\n",
       "4                     Kolkata\n",
       "                 ...         \n",
       "29446                    Agra\n",
       "29447     Lake View Recidency\n",
       "29448                  Jaipur\n",
       "29449                 Chennai\n",
       "29450                  Jaipur\n",
       "Name: citynames, Length: 29451, dtype: object"
      ]
     },
     "execution_count": 4,
     "metadata": {},
     "output_type": "execute_result"
    }
   ],
   "source": [
    "housingdf['citynames']=housingdf['ADDRESS'].str.rsplit(',').str[1]\n",
    "housingdf['citynames']"
   ]
  },
  {
   "cell_type": "code",
   "execution_count": 5,
   "id": "6d1c1f44",
   "metadata": {},
   "outputs": [],
   "source": [
    "# Classification of the cities as per the tier level, Total tier = 3\n",
    "def returntier(city):\n",
    "    if city in tier1:\n",
    "        return('Tier1')\n",
    "    elif city in tier2:\n",
    "        return('Tier2')\n",
    "    else:\n",
    "        return('Tier3')"
   ]
  },
  {
   "cell_type": "code",
   "execution_count": 6,
   "id": "a3bbaa4a",
   "metadata": {},
   "outputs": [],
   "source": [
    "housingdf['tier'] = housingdf['citynames'].apply(lambda x: returntier(x))"
   ]
  },
  {
   "cell_type": "code",
   "execution_count": 8,
   "id": "a28ae3e0",
   "metadata": {},
   "outputs": [
    {
     "data": {
      "text/html": [
       "<div>\n",
       "<style scoped>\n",
       "    .dataframe tbody tr th:only-of-type {\n",
       "        vertical-align: middle;\n",
       "    }\n",
       "\n",
       "    .dataframe tbody tr th {\n",
       "        vertical-align: top;\n",
       "    }\n",
       "\n",
       "    .dataframe thead th {\n",
       "        text-align: right;\n",
       "    }\n",
       "</style>\n",
       "<table border=\"1\" class=\"dataframe\">\n",
       "  <thead>\n",
       "    <tr style=\"text-align: right;\">\n",
       "      <th></th>\n",
       "      <th>POSTED_BY</th>\n",
       "      <th>BHK_NO.</th>\n",
       "      <th>SQUARE_FT</th>\n",
       "      <th>RESALE</th>\n",
       "      <th>TARGET(PRICE_IN_LACS)</th>\n",
       "      <th>tier</th>\n",
       "    </tr>\n",
       "  </thead>\n",
       "  <tbody>\n",
       "    <tr>\n",
       "      <th>0</th>\n",
       "      <td>Owner</td>\n",
       "      <td>2</td>\n",
       "      <td>1300.236407</td>\n",
       "      <td>1</td>\n",
       "      <td>55.0</td>\n",
       "      <td>Tier1</td>\n",
       "    </tr>\n",
       "    <tr>\n",
       "      <th>1</th>\n",
       "      <td>Dealer</td>\n",
       "      <td>2</td>\n",
       "      <td>1275.000000</td>\n",
       "      <td>1</td>\n",
       "      <td>51.0</td>\n",
       "      <td>Tier2</td>\n",
       "    </tr>\n",
       "    <tr>\n",
       "      <th>2</th>\n",
       "      <td>Owner</td>\n",
       "      <td>2</td>\n",
       "      <td>933.159722</td>\n",
       "      <td>1</td>\n",
       "      <td>43.0</td>\n",
       "      <td>Tier1</td>\n",
       "    </tr>\n",
       "    <tr>\n",
       "      <th>3</th>\n",
       "      <td>Owner</td>\n",
       "      <td>2</td>\n",
       "      <td>929.921143</td>\n",
       "      <td>1</td>\n",
       "      <td>62.5</td>\n",
       "      <td>Tier2</td>\n",
       "    </tr>\n",
       "    <tr>\n",
       "      <th>4</th>\n",
       "      <td>Dealer</td>\n",
       "      <td>2</td>\n",
       "      <td>999.009247</td>\n",
       "      <td>1</td>\n",
       "      <td>60.5</td>\n",
       "      <td>Tier1</td>\n",
       "    </tr>\n",
       "  </tbody>\n",
       "</table>\n",
       "</div>"
      ],
      "text/plain": [
       "  POSTED_BY  BHK_NO.    SQUARE_FT  RESALE  TARGET(PRICE_IN_LACS)   tier\n",
       "0     Owner        2  1300.236407       1                   55.0  Tier1\n",
       "1    Dealer        2  1275.000000       1                   51.0  Tier2\n",
       "2     Owner        2   933.159722       1                   43.0  Tier1\n",
       "3     Owner        2   929.921143       1                   62.5  Tier2\n",
       "4    Dealer        2   999.009247       1                   60.5  Tier1"
      ]
     },
     "execution_count": 8,
     "metadata": {},
     "output_type": "execute_result"
    }
   ],
   "source": [
    "newdf = housingdf[['POSTED_BY', 'BHK_NO.',\n",
    "       'SQUARE_FT', 'RESALE', 'TARGET(PRICE_IN_LACS)','tier']]\n",
    "newdf.head()"
   ]
  },
  {
   "cell_type": "code",
   "execution_count": 10,
   "id": "ef6b707a",
   "metadata": {},
   "outputs": [
    {
     "data": {
      "text/html": [
       "<div>\n",
       "<style scoped>\n",
       "    .dataframe tbody tr th:only-of-type {\n",
       "        vertical-align: middle;\n",
       "    }\n",
       "\n",
       "    .dataframe tbody tr th {\n",
       "        vertical-align: top;\n",
       "    }\n",
       "\n",
       "    .dataframe thead th {\n",
       "        text-align: right;\n",
       "    }\n",
       "</style>\n",
       "<table border=\"1\" class=\"dataframe\">\n",
       "  <thead>\n",
       "    <tr style=\"text-align: right;\">\n",
       "      <th></th>\n",
       "      <th>BHK_NO.</th>\n",
       "      <th>SQUARE_FT</th>\n",
       "      <th>RESALE</th>\n",
       "      <th>TARGET(PRICE_IN_LACS)</th>\n",
       "      <th>POSTED_BY_Builder</th>\n",
       "      <th>POSTED_BY_Dealer</th>\n",
       "      <th>tier_Tier1</th>\n",
       "      <th>tier_Tier2</th>\n",
       "    </tr>\n",
       "  </thead>\n",
       "  <tbody>\n",
       "    <tr>\n",
       "      <th>0</th>\n",
       "      <td>2</td>\n",
       "      <td>1300.236407</td>\n",
       "      <td>1</td>\n",
       "      <td>55.0</td>\n",
       "      <td>0</td>\n",
       "      <td>0</td>\n",
       "      <td>1</td>\n",
       "      <td>0</td>\n",
       "    </tr>\n",
       "    <tr>\n",
       "      <th>1</th>\n",
       "      <td>2</td>\n",
       "      <td>1275.000000</td>\n",
       "      <td>1</td>\n",
       "      <td>51.0</td>\n",
       "      <td>0</td>\n",
       "      <td>1</td>\n",
       "      <td>0</td>\n",
       "      <td>1</td>\n",
       "    </tr>\n",
       "    <tr>\n",
       "      <th>2</th>\n",
       "      <td>2</td>\n",
       "      <td>933.159722</td>\n",
       "      <td>1</td>\n",
       "      <td>43.0</td>\n",
       "      <td>0</td>\n",
       "      <td>0</td>\n",
       "      <td>1</td>\n",
       "      <td>0</td>\n",
       "    </tr>\n",
       "    <tr>\n",
       "      <th>3</th>\n",
       "      <td>2</td>\n",
       "      <td>929.921143</td>\n",
       "      <td>1</td>\n",
       "      <td>62.5</td>\n",
       "      <td>0</td>\n",
       "      <td>0</td>\n",
       "      <td>0</td>\n",
       "      <td>1</td>\n",
       "    </tr>\n",
       "    <tr>\n",
       "      <th>4</th>\n",
       "      <td>2</td>\n",
       "      <td>999.009247</td>\n",
       "      <td>1</td>\n",
       "      <td>60.5</td>\n",
       "      <td>0</td>\n",
       "      <td>1</td>\n",
       "      <td>1</td>\n",
       "      <td>0</td>\n",
       "    </tr>\n",
       "  </tbody>\n",
       "</table>\n",
       "</div>"
      ],
      "text/plain": [
       "   BHK_NO.    SQUARE_FT  RESALE  TARGET(PRICE_IN_LACS)  POSTED_BY_Builder  \\\n",
       "0        2  1300.236407       1                   55.0                  0   \n",
       "1        2  1275.000000       1                   51.0                  0   \n",
       "2        2   933.159722       1                   43.0                  0   \n",
       "3        2   929.921143       1                   62.5                  0   \n",
       "4        2   999.009247       1                   60.5                  0   \n",
       "\n",
       "   POSTED_BY_Dealer  tier_Tier1  tier_Tier2  \n",
       "0                 0           1           0  \n",
       "1                 1           0           1  \n",
       "2                 0           1           0  \n",
       "3                 0           0           1  \n",
       "4                 1           1           0  "
      ]
     },
     "execution_count": 10,
     "metadata": {},
     "output_type": "execute_result"
    }
   ],
   "source": [
    "newdf=pd.get_dummies(newdf,['POSTED_BY','tier'])\n",
    "newdf.drop(columns=['POSTED_BY_Owner','tier_Tier3'],inplace=True,axis=1)\n",
    "newdf.head()"
   ]
  },
  {
   "cell_type": "code",
   "execution_count": 11,
   "id": "e18e6311",
   "metadata": {},
   "outputs": [],
   "source": [
    "newdf['logPrice'] = np.log(newdf['TARGET(PRICE_IN_LACS)'])\n",
    "newdf['logArea'] = np.log(newdf['SQUARE_FT'])\n",
    "newdf.drop(columns=['TARGET(PRICE_IN_LACS)','SQUARE_FT'],axis=1,inplace=True)"
   ]
  },
  {
   "cell_type": "code",
   "execution_count": null,
   "id": "3b560292",
   "metadata": {},
   "outputs": [],
   "source": [
    "sns.pairplot(newdf,hue='RESALE')"
   ]
  },
  {
   "cell_type": "code",
   "execution_count": 12,
   "id": "82a4d8d9",
   "metadata": {},
   "outputs": [
    {
     "data": {
      "text/plain": [
       "<AxesSubplot:>"
      ]
     },
     "execution_count": 12,
     "metadata": {},
     "output_type": "execute_result"
    },
    {
     "data": {
      "image/png": "[encoded data removed]",
      "text/plain": [
       "<Figure size 432x288 with 2 Axes>"
      ]
     },
     "metadata": {
      "needs_background": "light"
     },
     "output_type": "display_data"
    }
   ],
   "source": [
    "sns.heatmap(newdf.corr())"
   ]
  },
  {
   "cell_type": "code",
   "execution_count": 13,
   "id": "0785c09f",
   "metadata": {},
   "outputs": [],
   "source": [
    "#X = newdf[[]]\n",
    "X=newdf[['BHK_NO.', 'RESALE', 'POSTED_BY_Builder', 'POSTED_BY_Dealer',\n",
    "       'tier_Tier1', 'tier_Tier2', 'logArea']]\n",
    "y= newdf[['logPrice']]"
   ]
  },
  {
   "cell_type": "code",
   "execution_count": 14,
   "id": "b3759c30",
   "metadata": {},
   "outputs": [
    {
     "name": "stdout",
     "output_type": "stream",
     "text": [
      "                                 OLS Regression Results                                \n",
      "=======================================================================================\n",
      "Dep. Variable:               logPrice   R-squared (uncentered):                   0.981\n",
      "Model:                            OLS   Adj. R-squared (uncentered):              0.981\n",
      "Method:                 Least Squares   F-statistic:                          2.172e+05\n",
      "Date:                Wed, 13 Oct 2021   Prob (F-statistic):                        0.00\n",
      "Time:                        16:29:02   Log-Likelihood:                         -26418.\n",
      "No. Observations:               29451   AIC:                                  5.285e+04\n",
      "Df Residuals:                   29444   BIC:                                  5.291e+04\n",
      "Df Model:                           7                                                  \n",
      "Covariance Type:            nonrobust                                                  \n",
      "=====================================================================================\n",
      "                        coef    std err          t      P>|t|      [0.025      0.975]\n",
      "-------------------------------------------------------------------------------------\n",
      "BHK_NO.               0.2323      0.005     50.798      0.000       0.223       0.241\n",
      "RESALE               -0.4509      0.015    -29.784      0.000      -0.481      -0.421\n",
      "POSTED_BY_Builder    -0.4451      0.029    -15.606      0.000      -0.501      -0.389\n",
      "POSTED_BY_Dealer      0.4006      0.008     53.081      0.000       0.386       0.415\n",
      "tier_Tier1            0.0598      0.009      6.596      0.000       0.042       0.078\n",
      "tier_Tier2           -0.4999      0.010    -51.931      0.000      -0.519      -0.481\n",
      "logArea               0.5630      0.003    187.335      0.000       0.557       0.569\n",
      "==============================================================================\n",
      "Omnibus:                     2833.057   Durbin-Watson:                   2.020\n",
      "Prob(Omnibus):                  0.000   Jarque-Bera (JB):            19324.357\n",
      "Skew:                           0.185   Prob(JB):                         0.00\n",
      "Kurtosis:                       6.951   Cond. No.                         65.9\n",
      "==============================================================================\n",
      "\n",
      "Notes:\n",
      "[1] R² is computed without centering (uncentered) since the model does not contain a constant.\n",
      "[2] Standard Errors assume that the covariance matrix of the errors is correctly specified.\n"
     ]
    }
   ],
   "source": [
    "\n",
    "import statsmodels.api as smf\n",
    "#features = ['BHK_NO.', 'SQUARE_FT', 'RESALE']\n",
    "olsmodel3 = smf.OLS(y,X).fit()\n",
    "print(olsmodel3.summary())"
   ]
  },
  {
   "cell_type": "markdown",
   "id": "0598fc87",
   "metadata": {},
   "source": [
    "#### Since the Heatmap and the OLS report depicts the positive relation of BHK_NO., POSTED_BY_Dealer, tier1, logArea and the negative relation of remaining features, there is no multi-collinearity. So we are processing the Linear Regression model on the basis of this features."
   ]
  },
  {
   "cell_type": "code",
   "execution_count": 15,
   "id": "db0d1f10",
   "metadata": {},
   "outputs": [
    {
     "name": "stdout",
     "output_type": "stream",
     "text": [
      "Training sample: 23,560\n",
      "Test sample: 5,891\n"
     ]
    }
   ],
   "source": [
    "# \"Code taken from Prof. McGraw's Lecture\"\n",
    "from sklearn.model_selection import train_test_split\n",
    "\n",
    "def create_splits(X, y):\n",
    "    return train_test_split(X, y, test_size=0.20)\n",
    "\n",
    "X_train, X_test, y_train, y_test = create_splits(X, y)\n",
    "\n",
    "print(f'Training sample: {X_train.shape[0]:,}')\n",
    "print(f'Test sample: {X_test.shape[0]:,}')"
   ]
  },
  {
   "cell_type": "code",
   "execution_count": 22,
   "id": "af79fd0a",
   "metadata": {},
   "outputs": [
    {
     "data": {
      "text/plain": [
       "Pipeline(steps=[('scaling', StandardScaler()), ('model', LinearRegression())])"
      ]
     },
     "execution_count": 22,
     "metadata": {},
     "output_type": "execute_result"
    }
   ],
   "source": [
    "from sklearn.pipeline import Pipeline\n",
    "from sklearn.preprocessing import StandardScaler\n",
    "from sklearn.linear_model import LinearRegression\n",
    "\n",
    "def regressfun(x,y, regmodel):\n",
    "    regmodel=regmodel\n",
    "    modeling_pipeline = Pipeline([\n",
    "        ('scaling', StandardScaler()),\n",
    "        ('model', regmodel)\n",
    "    ])\n",
    "    return(modeling_pipeline.fit(x,y))\n",
    "m= regressfun(X_train,y_train,LinearRegression())\n",
    "m"
   ]
  },
  {
   "cell_type": "code",
   "execution_count": 19,
   "id": "f98c9f66",
   "metadata": {},
   "outputs": [],
   "source": [
    "preds = m.predict(X_test)"
   ]
  },
  {
   "cell_type": "code",
   "execution_count": 25,
   "id": "238196cf",
   "metadata": {},
   "outputs": [],
   "source": [
    "def plotscatter(preds,y_test):\n",
    "    plt.figure(figsize=(10,8))\n",
    "    plt.title('Predictions vs Actual')\n",
    "    plt.xlabel('Predictions')\n",
    "    plt.ylabel('Actual')\n",
    "    plt.scatter(preds,y_test)\n",
    "    plt.show()"
   ]
  },
  {
   "cell_type": "code",
   "execution_count": 49,
   "id": "17aedd28",
   "metadata": {},
   "outputs": [
    {
     "data": {
      "image/png": "[encoded data removed]",
      "text/plain": [
       "<Figure size 720x576 with 1 Axes>"
      ]
     },
     "metadata": {
      "needs_background": "light"
     },
     "output_type": "display_data"
    }
   ],
   "source": [
    "plotscatter(preds,y_test)"
   ]
  },
  {
   "cell_type": "code",
   "execution_count": 46,
   "id": "4a72b6b0",
   "metadata": {},
   "outputs": [
    {
     "data": {
      "image/png": "[encoded data removed]",
      "text/plain": [
       "<Figure size 432x288 with 1 Axes>"
      ]
     },
     "metadata": {
      "needs_background": "light"
     },
     "output_type": "display_data"
    }
   ],
   "source": [
    "\n",
    "yhat_residuals = y_test - preds\n",
    "\n",
    "plt.hist(yhat_residuals, bins=25)\n",
    "plt.title('Residual Distribution')\n",
    "plt.show()"
   ]
  },
  {
   "cell_type": "code",
   "execution_count": 47,
   "id": "f7471c3f",
   "metadata": {},
   "outputs": [
    {
     "data": {
      "image/png": "[encoded data removed]",
      "text/plain": [
       "<Figure size 432x288 with 1 Axes>"
      ]
     },
     "metadata": {
      "needs_background": "light"
     },
     "output_type": "display_data"
    }
   ],
   "source": [
    "plt.plot(preds, yhat_residuals, 'ro', alpha=0.25)\n",
    "plt.hlines(0,0,60)\n",
    "plt.xlim(0,60)\n",
    "plt.title('Predictions vs. Residuals')\n",
    "plt.xlabel('Predicted')\n",
    "plt.ylabel('Residual')\n",
    "plt.show()"
   ]
  },
  {
   "cell_type": "code",
   "execution_count": 48,
   "id": "0d0d2f98",
   "metadata": {},
   "outputs": [
    {
     "data": {
      "image/png": "[encoded data removed]",
      "text/plain": [
       "<Figure size 432x288 with 1 Axes>"
      ]
     },
     "metadata": {
      "needs_background": "light"
     },
     "output_type": "display_data"
    }
   ],
   "source": [
    "plt.plot(y_test, yhat_residuals, 'ro', alpha=0.25)\n",
    "plt.hlines(0,0,60)\n",
    "plt.xlim(0,60)\n",
    "plt.title('Actual vs. Residuals')\n",
    "plt.xlabel('Actual')\n",
    "plt.ylabel('Residual')\n",
    "plt.show()"
   ]
  },
  {
   "cell_type": "markdown",
   "id": "ea3e67ff",
   "metadata": {},
   "source": [
    "### Insight\n",
    "The score on test data that we got is considerable less than train data.\n",
    "\n",
    "The prediction has residual ranging from -4 to 4, since it is log values, it will be seen as relatively lower values.\n",
    "\n"
   ]
  },
  {
   "cell_type": "code",
   "execution_count": null,
   "id": "19b2b787",
   "metadata": {},
   "outputs": [],
   "source": []
  },
  {
   "cell_type": "code",
   "execution_count": null,
   "id": "1fba4ac4",
   "metadata": {},
   "outputs": [],
   "source": []
  }
 ],
 "metadata": {
  "colab": {
   "collapsed_sections": [
    "UAHL2pV-UQHt",
    "W0-CB9oKGZiE",
    "KPKaqSydTvsg"
   ],
   "name": "HousingDataset-Assignment3-602.ipynb",
   "provenance": []
  },
  "kernelspec": {
   "display_name": "Python 3",
   "language": "python",
   "name": "python3"
  },
  "language_info": {
   "codemirror_mode": {
    "name": "ipython",
    "version": 3
   },
   "file_extension": ".py",
   "mimetype": "text/x-python",
   "name": "python",
   "nbconvert_exporter": "python",
   "pygments_lexer": "ipython3",
   "version": "3.8.8"
  }
 },
 "nbformat": 4,
 "nbformat_minor": 5
}
