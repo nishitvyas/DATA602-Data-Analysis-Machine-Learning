{
  "nbformat": 4,
  "nbformat_minor": 5,
  "metadata": {
    "kernelspec": {
      "display_name": "Python 3",
      "language": "python",
      "name": "python3"
    },
    "language_info": {
      "codemirror_mode": {
        "name": "ipython",
        "version": 3
      },
      "file_extension": ".py",
      "mimetype": "text/x-python",
      "name": "python",
      "nbconvert_exporter": "python",
      "pygments_lexer": "ipython3",
      "version": "3.8.8"
    },
    "colab": {
      "name": "FHousingDataset-Assignment3-602.ipynb",
      "provenance": [],
      "collapsed_sections": [
        "UAHL2pV-UQHt",
        "W0-CB9oKGZiE",
        "6I5-4pf-LjKJ",
        "Egw3Gw3kLtTf",
        "0Y7O5HBML-55",
        "-lmlhqvRaTpB",
        "Bj4yyjLZT3ZH"
      ]
    }
  },
  "cells": [
    {
      "cell_type": "markdown",
      "metadata": {
        "id": "UAHL2pV-UQHt"
      },
      "source": [
        "#### Import data and Libraries"
      ],
      "id": "UAHL2pV-UQHt"
    },
    {
      "cell_type": "code",
      "metadata": {
        "id": "c27b860f"
      },
      "source": [
        "import numpy as np\n",
        "import pandas as pd\n",
        "import matplotlib.pyplot as plt\n",
        "import matplotlib.gridspec as gridspec\n",
        "import seaborn as sns\n",
        "%matplotlib inline"
      ],
      "id": "c27b860f",
      "execution_count": 2,
      "outputs": []
    },
    {
      "cell_type": "code",
      "metadata": {
        "id": "1f354d0d"
      },
      "source": [
        "housingdf= pd.read_csv('Train.csv')"
      ],
      "id": "1f354d0d",
      "execution_count": 3,
      "outputs": []
    },
    {
      "cell_type": "code",
      "metadata": {
        "colab": {
          "base_uri": "https://localhost:8080/"
        },
        "id": "a3024314",
        "outputId": "517b5ff3-9bd2-4019-892f-a6112c9c747b"
      },
      "source": [
        "housingdf.head()"
      ],
      "id": "a3024314",
      "execution_count": null,
      "outputs": [
        {
          "output_type": "execute_result",
          "data": {
            "text/html": [
              "<div>\n",
              "<style scoped>\n",
              "    .dataframe tbody tr th:only-of-type {\n",
              "        vertical-align: middle;\n",
              "    }\n",
              "\n",
              "    .dataframe tbody tr th {\n",
              "        vertical-align: top;\n",
              "    }\n",
              "\n",
              "    .dataframe thead th {\n",
              "        text-align: right;\n",
              "    }\n",
              "</style>\n",
              "<table border=\"1\" class=\"dataframe\">\n",
              "  <thead>\n",
              "    <tr style=\"text-align: right;\">\n",
              "      <th></th>\n",
              "      <th>POSTED_BY</th>\n",
              "      <th>UNDER_CONSTRUCTION</th>\n",
              "      <th>RERA</th>\n",
              "      <th>BHK_NO.</th>\n",
              "      <th>BHK_OR_RK</th>\n",
              "      <th>SQUARE_FT</th>\n",
              "      <th>READY_TO_MOVE</th>\n",
              "      <th>RESALE</th>\n",
              "      <th>ADDRESS</th>\n",
              "      <th>LONGITUDE</th>\n",
              "      <th>LATITUDE</th>\n",
              "      <th>TARGET(PRICE_IN_LACS)</th>\n",
              "    </tr>\n",
              "  </thead>\n",
              "  <tbody>\n",
              "    <tr>\n",
              "      <th>0</th>\n",
              "      <td>Owner</td>\n",
              "      <td>0</td>\n",
              "      <td>0</td>\n",
              "      <td>2</td>\n",
              "      <td>BHK</td>\n",
              "      <td>1300.236407</td>\n",
              "      <td>1</td>\n",
              "      <td>1</td>\n",
              "      <td>Ksfc Layout,Bangalore</td>\n",
              "      <td>12.969910</td>\n",
              "      <td>77.597960</td>\n",
              "      <td>55.0</td>\n",
              "    </tr>\n",
              "    <tr>\n",
              "      <th>1</th>\n",
              "      <td>Dealer</td>\n",
              "      <td>0</td>\n",
              "      <td>0</td>\n",
              "      <td>2</td>\n",
              "      <td>BHK</td>\n",
              "      <td>1275.000000</td>\n",
              "      <td>1</td>\n",
              "      <td>1</td>\n",
              "      <td>Vishweshwara Nagar,Mysore</td>\n",
              "      <td>12.274538</td>\n",
              "      <td>76.644605</td>\n",
              "      <td>51.0</td>\n",
              "    </tr>\n",
              "    <tr>\n",
              "      <th>2</th>\n",
              "      <td>Owner</td>\n",
              "      <td>0</td>\n",
              "      <td>0</td>\n",
              "      <td>2</td>\n",
              "      <td>BHK</td>\n",
              "      <td>933.159722</td>\n",
              "      <td>1</td>\n",
              "      <td>1</td>\n",
              "      <td>Jigani,Bangalore</td>\n",
              "      <td>12.778033</td>\n",
              "      <td>77.632191</td>\n",
              "      <td>43.0</td>\n",
              "    </tr>\n",
              "    <tr>\n",
              "      <th>3</th>\n",
              "      <td>Owner</td>\n",
              "      <td>0</td>\n",
              "      <td>1</td>\n",
              "      <td>2</td>\n",
              "      <td>BHK</td>\n",
              "      <td>929.921143</td>\n",
              "      <td>1</td>\n",
              "      <td>1</td>\n",
              "      <td>Sector-1 Vaishali,Ghaziabad</td>\n",
              "      <td>28.642300</td>\n",
              "      <td>77.344500</td>\n",
              "      <td>62.5</td>\n",
              "    </tr>\n",
              "    <tr>\n",
              "      <th>4</th>\n",
              "      <td>Dealer</td>\n",
              "      <td>1</td>\n",
              "      <td>0</td>\n",
              "      <td>2</td>\n",
              "      <td>BHK</td>\n",
              "      <td>999.009247</td>\n",
              "      <td>0</td>\n",
              "      <td>1</td>\n",
              "      <td>New Town,Kolkata</td>\n",
              "      <td>22.592200</td>\n",
              "      <td>88.484911</td>\n",
              "      <td>60.5</td>\n",
              "    </tr>\n",
              "  </tbody>\n",
              "</table>\n",
              "</div>"
            ],
            "text/plain": [
              "  POSTED_BY  UNDER_CONSTRUCTION  RERA  BHK_NO. BHK_OR_RK    SQUARE_FT  \\\n",
              "0     Owner                   0     0        2       BHK  1300.236407   \n",
              "1    Dealer                   0     0        2       BHK  1275.000000   \n",
              "2     Owner                   0     0        2       BHK   933.159722   \n",
              "3     Owner                   0     1        2       BHK   929.921143   \n",
              "4    Dealer                   1     0        2       BHK   999.009247   \n",
              "\n",
              "   READY_TO_MOVE  RESALE                      ADDRESS  LONGITUDE   LATITUDE  \\\n",
              "0              1       1        Ksfc Layout,Bangalore  12.969910  77.597960   \n",
              "1              1       1    Vishweshwara Nagar,Mysore  12.274538  76.644605   \n",
              "2              1       1             Jigani,Bangalore  12.778033  77.632191   \n",
              "3              1       1  Sector-1 Vaishali,Ghaziabad  28.642300  77.344500   \n",
              "4              0       1             New Town,Kolkata  22.592200  88.484911   \n",
              "\n",
              "   TARGET(PRICE_IN_LACS)  \n",
              "0                   55.0  \n",
              "1                   51.0  \n",
              "2                   43.0  \n",
              "3                   62.5  \n",
              "4                   60.5  "
            ]
          },
          "metadata": {},
          "execution_count": 5
        }
      ]
    },
    {
      "cell_type": "markdown",
      "metadata": {
        "id": "W0-CB9oKGZiE"
      },
      "source": [
        "#### Insights / Summary"
      ],
      "id": "W0-CB9oKGZiE"
    },
    {
      "cell_type": "markdown",
      "metadata": {
        "id": "S4spcVxgGeMW"
      },
      "source": [
        "1. This dataset is about the house prices of different cities in India. The dataset has 12 columns including the target column 'Price'. There is no missing values. This dataset depicts how the TARGET PRICE is affected by other columns. \n",
        "\n",
        "2. RERA(Real Estate Regulation and Development Act) has came in to effect after 2016 May, as we do not know the year of the construction, we cannot find whether the particular property should be verified by RERA or not. The RERA approval for the property constructed after 2016 is very necessary. Very few homes are RERA approved so they may be newly constructed.\n",
        "\n",
        "3. Majority (84%) of the houses are already constructed (For the Resale). 2074 houses are totally new construction\n",
        "3916 houses are under-construction which are for resale.\n",
        "\n",
        "4. About 93% of total houses are of (1,2 and 3) BHK houses, these houses are assumed to be the normal houses. \n",
        "\n",
        "5. Excessive rooms (BHK>5): The houses which is more than 5BHK are assumed to be Excessive rooms houses. Only one out of 94 houses is newly constructed, others are on resale. The new house that is under construction is 6 BHK.\n",
        "\n",
        "6. New construction is typically done on 2-5 BHK houses not on the houses that are above 5 BHK.\n",
        "\n",
        "7. RK type of house has only one room.\n",
        "\n",
        "8. Bangalore is the city where houses of every types are found (The houses with 15, 20, 14 etc rooms are only found in Bangalore as per the dataset)\n",
        "\n",
        "9. Area for the houses with 1,2,3,4 BHK are almost same in all the cities but from 5BHK houses, the area varies considerably as per the cities.\n",
        "\n",
        "10. The price of house is majorly depend on the area of the house. Apart from the area of the house, the considerable factors are number of rooms, RERA approved."
      ],
      "id": "S4spcVxgGeMW"
    },
    {
      "cell_type": "markdown",
      "metadata": {
        "id": "6I5-4pf-LjKJ"
      },
      "source": [
        "#### info() and describe()"
      ],
      "id": "6I5-4pf-LjKJ"
    },
    {
      "cell_type": "code",
      "metadata": {
        "id": "f2ded98d",
        "colab": {
          "base_uri": "https://localhost:8080/"
        },
        "outputId": "e6af8d1e-d053-4b3b-a709-55bad0b440f4"
      },
      "source": [
        "housingdf.info()"
      ],
      "id": "f2ded98d",
      "execution_count": null,
      "outputs": [
        {
          "output_type": "stream",
          "name": "stdout",
          "text": [
            "<class 'pandas.core.frame.DataFrame'>\n",
            "RangeIndex: 29451 entries, 0 to 29450\n",
            "Data columns (total 12 columns):\n",
            " #   Column                 Non-Null Count  Dtype  \n",
            "---  ------                 --------------  -----  \n",
            " 0   POSTED_BY              29451 non-null  object \n",
            " 1   UNDER_CONSTRUCTION     29451 non-null  int64  \n",
            " 2   RERA                   29451 non-null  int64  \n",
            " 3   BHK_NO.                29451 non-null  int64  \n",
            " 4   BHK_OR_RK              29451 non-null  object \n",
            " 5   SQUARE_FT              29451 non-null  float64\n",
            " 6   READY_TO_MOVE          29451 non-null  int64  \n",
            " 7   RESALE                 29451 non-null  int64  \n",
            " 8   ADDRESS                29451 non-null  object \n",
            " 9   LONGITUDE              29451 non-null  float64\n",
            " 10  LATITUDE               29451 non-null  float64\n",
            " 11  TARGET(PRICE_IN_LACS)  29451 non-null  float64\n",
            "dtypes: float64(4), int64(5), object(3)\n",
            "memory usage: 2.7+ MB\n"
          ]
        }
      ]
    },
    {
      "cell_type": "code",
      "metadata": {
        "id": "b5d694fc",
        "colab": {
          "base_uri": "https://localhost:8080/"
        },
        "outputId": "f4a3b790-c895-49bf-eedc-5a332b8bded2"
      },
      "source": [
        "housingdf.isna().sum()"
      ],
      "id": "b5d694fc",
      "execution_count": null,
      "outputs": [
        {
          "output_type": "execute_result",
          "data": {
            "text/plain": [
              "POSTED_BY                0\n",
              "UNDER_CONSTRUCTION       0\n",
              "RERA                     0\n",
              "BHK_NO.                  0\n",
              "BHK_OR_RK                0\n",
              "SQUARE_FT                0\n",
              "READY_TO_MOVE            0\n",
              "RESALE                   0\n",
              "ADDRESS                  0\n",
              "LONGITUDE                0\n",
              "LATITUDE                 0\n",
              "TARGET(PRICE_IN_LACS)    0\n",
              "dtype: int64"
            ]
          },
          "metadata": {},
          "execution_count": 5
        }
      ]
    },
    {
      "cell_type": "markdown",
      "metadata": {
        "id": "f5e1d177"
      },
      "source": [
        "No missing values in any column."
      ],
      "id": "f5e1d177"
    },
    {
      "cell_type": "code",
      "metadata": {
        "id": "596fa422",
        "colab": {
          "base_uri": "https://localhost:8080/"
        },
        "outputId": "88621bf8-a40e-4eea-be39-07cfbf6bd295"
      },
      "source": [
        "housingdf.describe()"
      ],
      "id": "596fa422",
      "execution_count": null,
      "outputs": [
        {
          "output_type": "execute_result",
          "data": {
            "text/html": [
              "<div>\n",
              "<style scoped>\n",
              "    .dataframe tbody tr th:only-of-type {\n",
              "        vertical-align: middle;\n",
              "    }\n",
              "\n",
              "    .dataframe tbody tr th {\n",
              "        vertical-align: top;\n",
              "    }\n",
              "\n",
              "    .dataframe thead th {\n",
              "        text-align: right;\n",
              "    }\n",
              "</style>\n",
              "<table border=\"1\" class=\"dataframe\">\n",
              "  <thead>\n",
              "    <tr style=\"text-align: right;\">\n",
              "      <th></th>\n",
              "      <th>UNDER_CONSTRUCTION</th>\n",
              "      <th>RERA</th>\n",
              "      <th>BHK_NO.</th>\n",
              "      <th>SQUARE_FT</th>\n",
              "      <th>READY_TO_MOVE</th>\n",
              "      <th>RESALE</th>\n",
              "      <th>LONGITUDE</th>\n",
              "      <th>LATITUDE</th>\n",
              "      <th>TARGET(PRICE_IN_LACS)</th>\n",
              "    </tr>\n",
              "  </thead>\n",
              "  <tbody>\n",
              "    <tr>\n",
              "      <th>count</th>\n",
              "      <td>29451.000000</td>\n",
              "      <td>29451.000000</td>\n",
              "      <td>29451.000000</td>\n",
              "      <td>2.945100e+04</td>\n",
              "      <td>29451.000000</td>\n",
              "      <td>29451.000000</td>\n",
              "      <td>29451.000000</td>\n",
              "      <td>29451.000000</td>\n",
              "      <td>29451.000000</td>\n",
              "    </tr>\n",
              "    <tr>\n",
              "      <th>mean</th>\n",
              "      <td>0.179756</td>\n",
              "      <td>0.317918</td>\n",
              "      <td>2.392279</td>\n",
              "      <td>1.980217e+04</td>\n",
              "      <td>0.820244</td>\n",
              "      <td>0.929578</td>\n",
              "      <td>21.300255</td>\n",
              "      <td>76.837695</td>\n",
              "      <td>142.898746</td>\n",
              "    </tr>\n",
              "    <tr>\n",
              "      <th>std</th>\n",
              "      <td>0.383991</td>\n",
              "      <td>0.465675</td>\n",
              "      <td>0.879091</td>\n",
              "      <td>1.901335e+06</td>\n",
              "      <td>0.383991</td>\n",
              "      <td>0.255861</td>\n",
              "      <td>6.205306</td>\n",
              "      <td>10.557747</td>\n",
              "      <td>656.880713</td>\n",
              "    </tr>\n",
              "    <tr>\n",
              "      <th>min</th>\n",
              "      <td>0.000000</td>\n",
              "      <td>0.000000</td>\n",
              "      <td>1.000000</td>\n",
              "      <td>3.000000e+00</td>\n",
              "      <td>0.000000</td>\n",
              "      <td>0.000000</td>\n",
              "      <td>-37.713008</td>\n",
              "      <td>-121.761248</td>\n",
              "      <td>0.250000</td>\n",
              "    </tr>\n",
              "    <tr>\n",
              "      <th>25%</th>\n",
              "      <td>0.000000</td>\n",
              "      <td>0.000000</td>\n",
              "      <td>2.000000</td>\n",
              "      <td>9.000211e+02</td>\n",
              "      <td>1.000000</td>\n",
              "      <td>1.000000</td>\n",
              "      <td>18.452663</td>\n",
              "      <td>73.798100</td>\n",
              "      <td>38.000000</td>\n",
              "    </tr>\n",
              "    <tr>\n",
              "      <th>50%</th>\n",
              "      <td>0.000000</td>\n",
              "      <td>0.000000</td>\n",
              "      <td>2.000000</td>\n",
              "      <td>1.175057e+03</td>\n",
              "      <td>1.000000</td>\n",
              "      <td>1.000000</td>\n",
              "      <td>20.750000</td>\n",
              "      <td>77.324137</td>\n",
              "      <td>62.000000</td>\n",
              "    </tr>\n",
              "    <tr>\n",
              "      <th>75%</th>\n",
              "      <td>0.000000</td>\n",
              "      <td>1.000000</td>\n",
              "      <td>3.000000</td>\n",
              "      <td>1.550688e+03</td>\n",
              "      <td>1.000000</td>\n",
              "      <td>1.000000</td>\n",
              "      <td>26.900926</td>\n",
              "      <td>77.828740</td>\n",
              "      <td>100.000000</td>\n",
              "    </tr>\n",
              "    <tr>\n",
              "      <th>max</th>\n",
              "      <td>1.000000</td>\n",
              "      <td>1.000000</td>\n",
              "      <td>20.000000</td>\n",
              "      <td>2.545455e+08</td>\n",
              "      <td>1.000000</td>\n",
              "      <td>1.000000</td>\n",
              "      <td>59.912884</td>\n",
              "      <td>152.962676</td>\n",
              "      <td>30000.000000</td>\n",
              "    </tr>\n",
              "  </tbody>\n",
              "</table>\n",
              "</div>"
            ],
            "text/plain": [
              "       UNDER_CONSTRUCTION          RERA       BHK_NO.     SQUARE_FT  \\\n",
              "count        29451.000000  29451.000000  29451.000000  2.945100e+04   \n",
              "mean             0.179756      0.317918      2.392279  1.980217e+04   \n",
              "std              0.383991      0.465675      0.879091  1.901335e+06   \n",
              "min              0.000000      0.000000      1.000000  3.000000e+00   \n",
              "25%              0.000000      0.000000      2.000000  9.000211e+02   \n",
              "50%              0.000000      0.000000      2.000000  1.175057e+03   \n",
              "75%              0.000000      1.000000      3.000000  1.550688e+03   \n",
              "max              1.000000      1.000000     20.000000  2.545455e+08   \n",
              "\n",
              "       READY_TO_MOVE        RESALE     LONGITUDE      LATITUDE  \\\n",
              "count   29451.000000  29451.000000  29451.000000  29451.000000   \n",
              "mean        0.820244      0.929578     21.300255     76.837695   \n",
              "std         0.383991      0.255861      6.205306     10.557747   \n",
              "min         0.000000      0.000000    -37.713008   -121.761248   \n",
              "25%         1.000000      1.000000     18.452663     73.798100   \n",
              "50%         1.000000      1.000000     20.750000     77.324137   \n",
              "75%         1.000000      1.000000     26.900926     77.828740   \n",
              "max         1.000000      1.000000     59.912884    152.962676   \n",
              "\n",
              "       TARGET(PRICE_IN_LACS)  \n",
              "count           29451.000000  \n",
              "mean              142.898746  \n",
              "std               656.880713  \n",
              "min                 0.250000  \n",
              "25%                38.000000  \n",
              "50%                62.000000  \n",
              "75%               100.000000  \n",
              "max             30000.000000  "
            ]
          },
          "metadata": {},
          "execution_count": 6
        }
      ]
    },
    {
      "cell_type": "markdown",
      "metadata": {
        "id": "Egw3Gw3kLtTf"
      },
      "source": [
        "#### Basic Visualization"
      ],
      "id": "Egw3Gw3kLtTf"
    },
    {
      "cell_type": "code",
      "metadata": {
        "id": "9e3baf09",
        "colab": {
          "base_uri": "https://localhost:8080/"
        },
        "outputId": "b327ba6d-1f4c-4c93-cc25-83a799f40f0b"
      },
      "source": [
        "# fig, axs = plt.subplots(nrows=2,ncols=2)\n",
        "\n",
        "# axs[0,0]=df['READY_TO_MOVE'].value_counts().plot.barh()\n",
        "# axs[0,1]=df['RESALE'].value_counts().plot.barh()\n",
        "# axs[1,0]= df['RERA'].value_counts().plot.barh()\n",
        "# axs[1,1]=df['UNDER_CONSTRUCTION'].value_counts().plot.barh()\n",
        "plt.figure(figsize=(12,6))\n",
        "plt.subplot(2,2,1)\n",
        "housingdf['UNDER_CONSTRUCTION'].value_counts().plot.barh()\n",
        "plt.yticks([0,1],['Already Constructed','Under Construction'])\n",
        "\n",
        "plt.subplot(2,2,2)\n",
        "housingdf['RERA'].value_counts().plot.barh()\n",
        "plt.yticks([0,1],['Not RERA','RERA'])\n",
        "\n",
        "plt.subplot(2,2,3)\n",
        "housingdf['RESALE'].value_counts().plot.barh()\n",
        "plt.yticks([1,0],['Newly Constructed Houses','Resale Houses'])\n",
        "\n",
        "plt.subplot(2,2,4)\n",
        "housingdf['READY_TO_MOVE'].value_counts().plot.barh()\n",
        "plt.yticks([0,1],['Not Ready to move Houses','Ready to move Houses'])\n",
        "\n",
        "plt.tight_layout()\n",
        "plt.show()\n"
      ],
      "id": "9e3baf09",
      "execution_count": null,
      "outputs": [
        {
          "output_type": "display_data",
          "data": {
            "image/png": "[encoded data removed]",
            "text/plain": [
              "<Figure size 864x432 with 4 Axes>"
            ]
          },
          "metadata": {
            "needs_background": "light"
          }
        }
      ]
    },
    {
      "cell_type": "code",
      "metadata": {
        "colab": {
          "base_uri": "https://localhost:8080/"
        },
        "id": "Ph6kCA2ELNsE",
        "outputId": "e389dd54-f1a5-471a-fa9f-a70fbc94b5db"
      },
      "source": [
        "plt.title('Distribution of houses as per the house posted by')\n",
        "housingdf['POSTED_BY'].value_counts().plot.barh()\n",
        "plt.show()"
      ],
      "id": "Ph6kCA2ELNsE",
      "execution_count": null,
      "outputs": [
        {
          "output_type": "display_data",
          "data": {
            "image/png": "[encoded data removed]",
            "text/plain": [
              "<Figure size 432x288 with 1 Axes>"
            ]
          },
          "metadata": {
            "needs_background": "light"
          }
        }
      ]
    },
    {
      "cell_type": "code",
      "metadata": {
        "colab": {
          "base_uri": "https://localhost:8080/"
        },
        "id": "0-mpzxSsLQkT",
        "outputId": "7fc6d15d-5192-42c7-bc52-f889fa8a7026"
      },
      "source": [
        "plt.figure(figsize=(15,4))\n",
        "plt.subplot(1,2,1)\n",
        "plt.title('Houses having rooms greater than 5 rooms')\n",
        "plt.xlabel('Counts')\n",
        "plt.ylabel('Room types')\n",
        "housingdf[housingdf['BHK_NO.']>5]['BHK_NO.'].value_counts().plot.barh()\n",
        "\n",
        "plt.subplot(1,2,2)\n",
        "plt.title('Houses having at most 5 rooms')\n",
        "plt.xlabel('Counts')\n",
        "plt.ylabel('Room types')\n",
        "housingdf[housingdf['BHK_NO.']<=5]['BHK_NO.'].value_counts().plot.barh()"
      ],
      "id": "0-mpzxSsLQkT",
      "execution_count": null,
      "outputs": [
        {
          "output_type": "execute_result",
          "data": {
            "text/plain": [
              "<matplotlib.axes._subplots.AxesSubplot at 0x7f4415f5e310>"
            ]
          },
          "metadata": {},
          "execution_count": 9
        },
        {
          "output_type": "display_data",
          "data": {
            "image/png": "[encoded data removed]",
            "text/plain": [
              "<Figure size 1080x288 with 2 Axes>"
            ]
          },
          "metadata": {
            "needs_background": "light"
          }
        }
      ]
    },
    {
      "cell_type": "markdown",
      "metadata": {
        "id": "0Y7O5HBML-55"
      },
      "source": [
        "#### Partition on the basis of BHK_NO."
      ],
      "id": "0Y7O5HBML-55"
    },
    {
      "cell_type": "code",
      "metadata": {
        "id": "3d804467"
      },
      "source": [
        "ExcessiveRoomsDF=housingdf[(housingdf['BHK_NO.']>5)]\n",
        "NormalRoomsDF=housingdf[housingdf['BHK_NO.']<=5]"
      ],
      "id": "3d804467",
      "execution_count": null,
      "outputs": []
    },
    {
      "cell_type": "code",
      "metadata": {
        "colab": {
          "base_uri": "https://localhost:8080/"
        },
        "id": "f520c611",
        "outputId": "a8b805ef-dd8b-4c2e-940a-ac5889e51a30"
      },
      "source": [
        "plt.figure(figsize=(10,8))\n",
        "plt.title('Prices Distribution of the ExcessiveRooms Houses')\n",
        "sns.boxplot(data=ExcessiveRoomsDF,x='BHK_NO.',y='TARGET(PRICE_IN_LACS)')\n",
        "plt.show()"
      ],
      "id": "f520c611",
      "execution_count": null,
      "outputs": [
        {
          "output_type": "display_data",
          "data": {
            "image/png": "[encoded data removed]",
            "text/plain": [
              "<Figure size 720x576 with 1 Axes>"
            ]
          },
          "metadata": {
            "needs_background": "light"
          }
        }
      ]
    },
    {
      "cell_type": "code",
      "metadata": {
        "colab": {
          "base_uri": "https://localhost:8080/"
        },
        "id": "996e20d3",
        "outputId": "bc811f81-fb1a-4ac1-d622-ce928f019a66"
      },
      "source": [
        "#Potential Outliers Details that are seen in the above boxplot\n",
        "ExcessiveRoomsDF[ExcessiveRoomsDF['TARGET(PRICE_IN_LACS)']>2000]"
      ],
      "id": "996e20d3",
      "execution_count": null,
      "outputs": [
        {
          "output_type": "execute_result",
          "data": {
            "text/html": [
              "<div>\n",
              "<style scoped>\n",
              "    .dataframe tbody tr th:only-of-type {\n",
              "        vertical-align: middle;\n",
              "    }\n",
              "\n",
              "    .dataframe tbody tr th {\n",
              "        vertical-align: top;\n",
              "    }\n",
              "\n",
              "    .dataframe thead th {\n",
              "        text-align: right;\n",
              "    }\n",
              "</style>\n",
              "<table border=\"1\" class=\"dataframe\">\n",
              "  <thead>\n",
              "    <tr style=\"text-align: right;\">\n",
              "      <th></th>\n",
              "      <th>POSTED_BY</th>\n",
              "      <th>UNDER_CONSTRUCTION</th>\n",
              "      <th>RERA</th>\n",
              "      <th>BHK_NO.</th>\n",
              "      <th>BHK_OR_RK</th>\n",
              "      <th>SQUARE_FT</th>\n",
              "      <th>READY_TO_MOVE</th>\n",
              "      <th>RESALE</th>\n",
              "      <th>ADDRESS</th>\n",
              "      <th>LONGITUDE</th>\n",
              "      <th>LATITUDE</th>\n",
              "      <th>TARGET(PRICE_IN_LACS)</th>\n",
              "    </tr>\n",
              "  </thead>\n",
              "  <tbody>\n",
              "    <tr>\n",
              "      <th>6720</th>\n",
              "      <td>Dealer</td>\n",
              "      <td>0</td>\n",
              "      <td>0</td>\n",
              "      <td>6</td>\n",
              "      <td>BHK</td>\n",
              "      <td>5400.016615</td>\n",
              "      <td>1</td>\n",
              "      <td>1</td>\n",
              "      <td>Adarsh Nagar,Lalitpur</td>\n",
              "      <td>26.906098</td>\n",
              "      <td>75.825254</td>\n",
              "      <td>2600.0</td>\n",
              "    </tr>\n",
              "    <tr>\n",
              "      <th>12285</th>\n",
              "      <td>Dealer</td>\n",
              "      <td>0</td>\n",
              "      <td>1</td>\n",
              "      <td>6</td>\n",
              "      <td>BHK</td>\n",
              "      <td>3900.011143</td>\n",
              "      <td>1</td>\n",
              "      <td>1</td>\n",
              "      <td>Juhu,Maharashtra</td>\n",
              "      <td>19.102600</td>\n",
              "      <td>72.824300</td>\n",
              "      <td>2100.0</td>\n",
              "    </tr>\n",
              "    <tr>\n",
              "      <th>12834</th>\n",
              "      <td>Dealer</td>\n",
              "      <td>0</td>\n",
              "      <td>0</td>\n",
              "      <td>6</td>\n",
              "      <td>BHK</td>\n",
              "      <td>6000.000000</td>\n",
              "      <td>1</td>\n",
              "      <td>1</td>\n",
              "      <td>Shiv Sagar Estate,Maharashtra</td>\n",
              "      <td>19.098373</td>\n",
              "      <td>72.846220</td>\n",
              "      <td>6000.0</td>\n",
              "    </tr>\n",
              "    <tr>\n",
              "      <th>16297</th>\n",
              "      <td>Dealer</td>\n",
              "      <td>0</td>\n",
              "      <td>0</td>\n",
              "      <td>6</td>\n",
              "      <td>BHK</td>\n",
              "      <td>4200.033600</td>\n",
              "      <td>1</td>\n",
              "      <td>1</td>\n",
              "      <td>Malabar Hill,Lalitpur</td>\n",
              "      <td>18.951632</td>\n",
              "      <td>72.798626</td>\n",
              "      <td>4500.0</td>\n",
              "    </tr>\n",
              "    <tr>\n",
              "      <th>20915</th>\n",
              "      <td>Dealer</td>\n",
              "      <td>0</td>\n",
              "      <td>0</td>\n",
              "      <td>7</td>\n",
              "      <td>BHK</td>\n",
              "      <td>10000.000000</td>\n",
              "      <td>1</td>\n",
              "      <td>1</td>\n",
              "      <td>Pali Hill,Lalitpur</td>\n",
              "      <td>24.480000</td>\n",
              "      <td>78.420000</td>\n",
              "      <td>3500.0</td>\n",
              "    </tr>\n",
              "    <tr>\n",
              "      <th>24735</th>\n",
              "      <td>Dealer</td>\n",
              "      <td>0</td>\n",
              "      <td>0</td>\n",
              "      <td>7</td>\n",
              "      <td>BHK</td>\n",
              "      <td>8199.932578</td>\n",
              "      <td>1</td>\n",
              "      <td>1</td>\n",
              "      <td>Breach Candy,Lalitpur</td>\n",
              "      <td>18.972317</td>\n",
              "      <td>72.806327</td>\n",
              "      <td>9000.0</td>\n",
              "    </tr>\n",
              "  </tbody>\n",
              "</table>\n",
              "</div>"
            ],
            "text/plain": [
              "      POSTED_BY  UNDER_CONSTRUCTION  ...   LATITUDE  TARGET(PRICE_IN_LACS)\n",
              "6720     Dealer                   0  ...  75.825254                 2600.0\n",
              "12285    Dealer                   0  ...  72.824300                 2100.0\n",
              "12834    Dealer                   0  ...  72.846220                 6000.0\n",
              "16297    Dealer                   0  ...  72.798626                 4500.0\n",
              "20915    Dealer                   0  ...  78.420000                 3500.0\n",
              "24735    Dealer                   0  ...  72.806327                 9000.0\n",
              "\n",
              "[6 rows x 12 columns]"
            ]
          },
          "metadata": {},
          "execution_count": 12
        }
      ]
    },
    {
      "cell_type": "markdown",
      "metadata": {
        "id": "67f24ffb"
      },
      "source": [
        "From the boxplot and filtered DataFrame, it is seen that the expensive houses are in Lalitpur(4 houses out of 6), Lalitpur can be a posh area"
      ],
      "id": "67f24ffb"
    },
    {
      "cell_type": "code",
      "metadata": {
        "id": "36be5ebd",
        "colab": {
          "base_uri": "https://localhost:8080/"
        },
        "outputId": "65a2e721-badd-428f-fd15-15723675837c"
      },
      "source": [
        "ExcessiveRoomsDF[(ExcessiveRoomsDF['RESALE']==0)]"
      ],
      "id": "36be5ebd",
      "execution_count": null,
      "outputs": [
        {
          "output_type": "execute_result",
          "data": {
            "text/html": [
              "<div>\n",
              "<style scoped>\n",
              "    .dataframe tbody tr th:only-of-type {\n",
              "        vertical-align: middle;\n",
              "    }\n",
              "\n",
              "    .dataframe tbody tr th {\n",
              "        vertical-align: top;\n",
              "    }\n",
              "\n",
              "    .dataframe thead th {\n",
              "        text-align: right;\n",
              "    }\n",
              "</style>\n",
              "<table border=\"1\" class=\"dataframe\">\n",
              "  <thead>\n",
              "    <tr style=\"text-align: right;\">\n",
              "      <th></th>\n",
              "      <th>POSTED_BY</th>\n",
              "      <th>UNDER_CONSTRUCTION</th>\n",
              "      <th>RERA</th>\n",
              "      <th>BHK_NO.</th>\n",
              "      <th>BHK_OR_RK</th>\n",
              "      <th>SQUARE_FT</th>\n",
              "      <th>READY_TO_MOVE</th>\n",
              "      <th>RESALE</th>\n",
              "      <th>ADDRESS</th>\n",
              "      <th>LONGITUDE</th>\n",
              "      <th>LATITUDE</th>\n",
              "      <th>TARGET(PRICE_IN_LACS)</th>\n",
              "    </tr>\n",
              "  </thead>\n",
              "  <tbody>\n",
              "    <tr>\n",
              "      <th>1289</th>\n",
              "      <td>Dealer</td>\n",
              "      <td>0</td>\n",
              "      <td>0</td>\n",
              "      <td>6</td>\n",
              "      <td>BHK</td>\n",
              "      <td>11263.15789</td>\n",
              "      <td>1</td>\n",
              "      <td>0</td>\n",
              "      <td>Sathya Sai Layout,Bangalore</td>\n",
              "      <td>12.929162</td>\n",
              "      <td>77.629041</td>\n",
              "      <td>1070.0</td>\n",
              "    </tr>\n",
              "  </tbody>\n",
              "</table>\n",
              "</div>"
            ],
            "text/plain": [
              "     POSTED_BY  UNDER_CONSTRUCTION  ...   LATITUDE  TARGET(PRICE_IN_LACS)\n",
              "1289    Dealer                   0  ...  77.629041                 1070.0\n",
              "\n",
              "[1 rows x 12 columns]"
            ]
          },
          "metadata": {},
          "execution_count": 13
        }
      ]
    },
    {
      "cell_type": "markdown",
      "metadata": {
        "id": "zO9RjrlDKnmE"
      },
      "source": [
        "This is only the house which lies under the Excessive rooms category and is under construction. Other houses from this category are already constructed."
      ],
      "id": "zO9RjrlDKnmE"
    },
    {
      "cell_type": "code",
      "metadata": {
        "colab": {
          "base_uri": "https://localhost:8080/"
        },
        "id": "86843d8f",
        "outputId": "cdfd030b-b3fb-4252-bccb-4b3180245c55"
      },
      "source": [
        "\n",
        "#Distribution of the Normal and Excessive room houses by RERA\n",
        "\n",
        "plt.figure(figsize=(10,8))\n",
        "\n",
        "plt.subplot(1,2,1)\n",
        "plt.title('Normal Room Houses')\n",
        "sns.countplot(x=NormalRoomsDF['BHK_NO.'],hue=NormalRoomsDF['RERA'])\n",
        "\n",
        "plt.subplot(1,2,2)\n",
        "plt.title('Excessive Room Houses')\n",
        "sns.countplot(x=ExcessiveRoomsDF['BHK_NO.'],hue=ExcessiveRoomsDF['RERA'])\n",
        "plt.show()"
      ],
      "id": "86843d8f",
      "execution_count": null,
      "outputs": [
        {
          "output_type": "display_data",
          "data": {
            "image/png": "[encoded data removed]",
            "text/plain": [
              "<Figure size 720x576 with 2 Axes>"
            ]
          },
          "metadata": {
            "needs_background": "light"
          }
        }
      ]
    },
    {
      "cell_type": "markdown",
      "metadata": {
        "id": "aNriZ2bSZies"
      },
      "source": [
        "For RERA, mostly(80%) new construction homes are getting RERA Real Estate Regulation Act whereas (30%) of the resale houses got RERA. We can infer that the RERA is introduced recently (2016) or to get RERA requires some prerequsites which aren't being satisfied by majority of resale houses (Resale houses will be constructed before 2016)."
      ],
      "id": "aNriZ2bSZies"
    },
    {
      "cell_type": "code",
      "metadata": {
        "colab": {
          "base_uri": "https://localhost:8080/"
        },
        "id": "P5-fJhR7RFj3",
        "outputId": "6004898c-e5af-451b-9c6c-41e38cbe211f"
      },
      "source": [
        "plt.figure(figsize=(10,8))\n",
        "\n",
        "plt.subplot(1,2,1)\n",
        "plt.title('Normal Room Houses')\n",
        "sns.countplot(x=NormalRoomsDF['BHK_NO.'],hue=NormalRoomsDF['RESALE'])\n",
        "\n",
        "plt.subplot(1,2,2)\n",
        "plt.title('Excessive Room Houses')\n",
        "sns.countplot(x=ExcessiveRoomsDF['BHK_NO.'],hue=ExcessiveRoomsDF['RESALE'])"
      ],
      "id": "P5-fJhR7RFj3",
      "execution_count": null,
      "outputs": [
        {
          "output_type": "execute_result",
          "data": {
            "text/plain": [
              "<matplotlib.axes._subplots.AxesSubplot at 0x7f441e4b08d0>"
            ]
          },
          "metadata": {},
          "execution_count": 15
        },
        {
          "output_type": "display_data",
          "data": {
            "image/png": "[encoded data removed]",
            "text/plain": [
              "<Figure size 720x576 with 2 Axes>"
            ]
          },
          "metadata": {
            "needs_background": "light"
          }
        }
      ]
    },
    {
      "cell_type": "markdown",
      "metadata": {
        "id": "HxXYMqumQRjf"
      },
      "source": [
        "Excessive rooms (BHK>5)\n",
        "\n",
        "Only one out of 94 houses is newly constructed, others are on resale. The new house that is under construction is 6 BHK. \n",
        "\n",
        "New construction is typically done on 2-5 BHK houses, not on the houses that are above 5 BHK.\n",
        "\n",
        "Normal rooms (1,2,3 BHK)\n",
        "\n",
        "About 93% of total houses are of (1,2 and 3) BHK houses.  "
      ],
      "id": "HxXYMqumQRjf"
    },
    {
      "cell_type": "markdown",
      "metadata": {
        "id": "-lmlhqvRaTpB"
      },
      "source": [
        "#### Grouping and Corelation"
      ],
      "id": "-lmlhqvRaTpB"
    },
    {
      "cell_type": "code",
      "metadata": {
        "colab": {
          "base_uri": "https://localhost:8080/",
          "height": 1000
        },
        "id": "98dbddcd",
        "outputId": "7133f0ea-e6f5-49c4-842c-b75b17daa678"
      },
      "source": [
        "housingdf.groupby(['RESALE','RERA','BHK_NO.'])['SQUARE_FT','TARGET(PRICE_IN_LACS)'].median()"
      ],
      "id": "98dbddcd",
      "execution_count": null,
      "outputs": [
        {
          "output_type": "stream",
          "name": "stderr",
          "text": [
            "/usr/local/lib/python3.7/dist-packages/ipykernel_launcher.py:1: FutureWarning: Indexing with multiple keys (implicitly converted to a tuple of keys) will be deprecated, use a list instead.\n",
            "  \"\"\"Entry point for launching an IPython kernel.\n"
          ]
        },
        {
          "output_type": "execute_result",
          "data": {
            "text/html": [
              "<div>\n",
              "<style scoped>\n",
              "    .dataframe tbody tr th:only-of-type {\n",
              "        vertical-align: middle;\n",
              "    }\n",
              "\n",
              "    .dataframe tbody tr th {\n",
              "        vertical-align: top;\n",
              "    }\n",
              "\n",
              "    .dataframe thead th {\n",
              "        text-align: right;\n",
              "    }\n",
              "</style>\n",
              "<table border=\"1\" class=\"dataframe\">\n",
              "  <thead>\n",
              "    <tr style=\"text-align: right;\">\n",
              "      <th></th>\n",
              "      <th></th>\n",
              "      <th></th>\n",
              "      <th>SQUARE_FT</th>\n",
              "      <th>TARGET(PRICE_IN_LACS)</th>\n",
              "    </tr>\n",
              "    <tr>\n",
              "      <th>RESALE</th>\n",
              "      <th>RERA</th>\n",
              "      <th>BHK_NO.</th>\n",
              "      <th></th>\n",
              "      <th></th>\n",
              "    </tr>\n",
              "  </thead>\n",
              "  <tbody>\n",
              "    <tr>\n",
              "      <th rowspan=\"11\" valign=\"top\">0</th>\n",
              "      <th rowspan=\"6\" valign=\"top\">0</th>\n",
              "      <th>1</th>\n",
              "      <td>528.700906</td>\n",
              "      <td>23.6</td>\n",
              "    </tr>\n",
              "    <tr>\n",
              "      <th>2</th>\n",
              "      <td>948.572235</td>\n",
              "      <td>37.0</td>\n",
              "    </tr>\n",
              "    <tr>\n",
              "      <th>3</th>\n",
              "      <td>1440.067768</td>\n",
              "      <td>66.9</td>\n",
              "    </tr>\n",
              "    <tr>\n",
              "      <th>4</th>\n",
              "      <td>2637.172500</td>\n",
              "      <td>210.0</td>\n",
              "    </tr>\n",
              "    <tr>\n",
              "      <th>5</th>\n",
              "      <td>3375.000000</td>\n",
              "      <td>550.0</td>\n",
              "    </tr>\n",
              "    <tr>\n",
              "      <th>6</th>\n",
              "      <td>11263.157890</td>\n",
              "      <td>1070.0</td>\n",
              "    </tr>\n",
              "    <tr>\n",
              "      <th rowspan=\"5\" valign=\"top\">1</th>\n",
              "      <th>1</th>\n",
              "      <td>444.672106</td>\n",
              "      <td>46.0</td>\n",
              "    </tr>\n",
              "    <tr>\n",
              "      <th>2</th>\n",
              "      <td>766.214450</td>\n",
              "      <td>59.6</td>\n",
              "    </tr>\n",
              "    <tr>\n",
              "      <th>3</th>\n",
              "      <td>1315.055648</td>\n",
              "      <td>100.0</td>\n",
              "    </tr>\n",
              "    <tr>\n",
              "      <th>4</th>\n",
              "      <td>2305.394354</td>\n",
              "      <td>180.0</td>\n",
              "    </tr>\n",
              "    <tr>\n",
              "      <th>5</th>\n",
              "      <td>4241.228071</td>\n",
              "      <td>340.0</td>\n",
              "    </tr>\n",
              "    <tr>\n",
              "      <th rowspan=\"23\" valign=\"top\">1</th>\n",
              "      <th rowspan=\"16\" valign=\"top\">0</th>\n",
              "      <th>1</th>\n",
              "      <td>602.873268</td>\n",
              "      <td>28.0</td>\n",
              "    </tr>\n",
              "    <tr>\n",
              "      <th>2</th>\n",
              "      <td>1043.296818</td>\n",
              "      <td>45.0</td>\n",
              "    </tr>\n",
              "    <tr>\n",
              "      <th>3</th>\n",
              "      <td>1530.054645</td>\n",
              "      <td>76.0</td>\n",
              "    </tr>\n",
              "    <tr>\n",
              "      <th>4</th>\n",
              "      <td>2577.403606</td>\n",
              "      <td>200.0</td>\n",
              "    </tr>\n",
              "    <tr>\n",
              "      <th>5</th>\n",
              "      <td>3577.197949</td>\n",
              "      <td>300.0</td>\n",
              "    </tr>\n",
              "    <tr>\n",
              "      <th>6</th>\n",
              "      <td>3550.032728</td>\n",
              "      <td>500.0</td>\n",
              "    </tr>\n",
              "    <tr>\n",
              "      <th>7</th>\n",
              "      <td>3563.596491</td>\n",
              "      <td>180.0</td>\n",
              "    </tr>\n",
              "    <tr>\n",
              "      <th>8</th>\n",
              "      <td>3994.224984</td>\n",
              "      <td>375.0</td>\n",
              "    </tr>\n",
              "    <tr>\n",
              "      <th>9</th>\n",
              "      <td>5866.666667</td>\n",
              "      <td>220.0</td>\n",
              "    </tr>\n",
              "    <tr>\n",
              "      <th>10</th>\n",
              "      <td>5928.370066</td>\n",
              "      <td>227.5</td>\n",
              "    </tr>\n",
              "    <tr>\n",
              "      <th>11</th>\n",
              "      <td>4000.000000</td>\n",
              "      <td>55.0</td>\n",
              "    </tr>\n",
              "    <tr>\n",
              "      <th>12</th>\n",
              "      <td>4824.561404</td>\n",
              "      <td>180.0</td>\n",
              "    </tr>\n",
              "    <tr>\n",
              "      <th>13</th>\n",
              "      <td>10460.251050</td>\n",
              "      <td>500.0</td>\n",
              "    </tr>\n",
              "    <tr>\n",
              "      <th>15</th>\n",
              "      <td>6947.368421</td>\n",
              "      <td>390.0</td>\n",
              "    </tr>\n",
              "    <tr>\n",
              "      <th>17</th>\n",
              "      <td>11000.343760</td>\n",
              "      <td>320.0</td>\n",
              "    </tr>\n",
              "    <tr>\n",
              "      <th>20</th>\n",
              "      <td>9491.561180</td>\n",
              "      <td>530.0</td>\n",
              "    </tr>\n",
              "    <tr>\n",
              "      <th rowspan=\"7\" valign=\"top\">1</th>\n",
              "      <th>1</th>\n",
              "      <td>625.000000</td>\n",
              "      <td>39.0</td>\n",
              "    </tr>\n",
              "    <tr>\n",
              "      <th>2</th>\n",
              "      <td>1057.674361</td>\n",
              "      <td>60.3</td>\n",
              "    </tr>\n",
              "    <tr>\n",
              "      <th>3</th>\n",
              "      <td>1600.492459</td>\n",
              "      <td>89.7</td>\n",
              "    </tr>\n",
              "    <tr>\n",
              "      <th>4</th>\n",
              "      <td>2594.951640</td>\n",
              "      <td>190.0</td>\n",
              "    </tr>\n",
              "    <tr>\n",
              "      <th>5</th>\n",
              "      <td>4888.888889</td>\n",
              "      <td>420.0</td>\n",
              "    </tr>\n",
              "    <tr>\n",
              "      <th>6</th>\n",
              "      <td>3500.063638</td>\n",
              "      <td>1100.0</td>\n",
              "    </tr>\n",
              "    <tr>\n",
              "      <th>7</th>\n",
              "      <td>24384.404926</td>\n",
              "      <td>140.0</td>\n",
              "    </tr>\n",
              "  </tbody>\n",
              "</table>\n",
              "</div>"
            ],
            "text/plain": [
              "                        SQUARE_FT  TARGET(PRICE_IN_LACS)\n",
              "RESALE RERA BHK_NO.                                     \n",
              "0      0    1          528.700906                   23.6\n",
              "            2          948.572235                   37.0\n",
              "            3         1440.067768                   66.9\n",
              "            4         2637.172500                  210.0\n",
              "            5         3375.000000                  550.0\n",
              "            6        11263.157890                 1070.0\n",
              "       1    1          444.672106                   46.0\n",
              "            2          766.214450                   59.6\n",
              "            3         1315.055648                  100.0\n",
              "            4         2305.394354                  180.0\n",
              "            5         4241.228071                  340.0\n",
              "1      0    1          602.873268                   28.0\n",
              "            2         1043.296818                   45.0\n",
              "            3         1530.054645                   76.0\n",
              "            4         2577.403606                  200.0\n",
              "            5         3577.197949                  300.0\n",
              "            6         3550.032728                  500.0\n",
              "            7         3563.596491                  180.0\n",
              "            8         3994.224984                  375.0\n",
              "            9         5866.666667                  220.0\n",
              "            10        5928.370066                  227.5\n",
              "            11        4000.000000                   55.0\n",
              "            12        4824.561404                  180.0\n",
              "            13       10460.251050                  500.0\n",
              "            15        6947.368421                  390.0\n",
              "            17       11000.343760                  320.0\n",
              "            20        9491.561180                  530.0\n",
              "       1    1          625.000000                   39.0\n",
              "            2         1057.674361                   60.3\n",
              "            3         1600.492459                   89.7\n",
              "            4         2594.951640                  190.0\n",
              "            5         4888.888889                  420.0\n",
              "            6         3500.063638                 1100.0\n",
              "            7        24384.404926                  140.0"
            ]
          },
          "metadata": {},
          "execution_count": 16
        }
      ]
    },
    {
      "cell_type": "markdown",
      "metadata": {
        "id": "IzOTs5h_Ei2s"
      },
      "source": [
        "The area with respect to the corresponding BHK, for RERA approved newly constructed houses, the area is less than the area of houses that are not under RERA whereas the Resale RERA approved houses have more area than the houses which are not approved and the prices of RERA approved house is more comparatively to the ones not approved till 5BHK.  Coincidence?\n"
      ],
      "id": "IzOTs5h_Ei2s"
    },
    {
      "cell_type": "code",
      "metadata": {
        "id": "9ea7b7d9",
        "colab": {
          "base_uri": "https://localhost:8080/",
          "height": 470
        },
        "outputId": "8bdac803-e005-4f74-a93d-65d0807c8fa9"
      },
      "source": [
        "housingdf[(housingdf['RESALE']==0) & (housingdf['BHK_NO.']==4) & (housingdf['TARGET(PRICE_IN_LACS)']>200)]"
      ],
      "id": "9ea7b7d9",
      "execution_count": null,
      "outputs": [
        {
          "output_type": "execute_result",
          "data": {
            "text/html": [
              "<div>\n",
              "<style scoped>\n",
              "    .dataframe tbody tr th:only-of-type {\n",
              "        vertical-align: middle;\n",
              "    }\n",
              "\n",
              "    .dataframe tbody tr th {\n",
              "        vertical-align: top;\n",
              "    }\n",
              "\n",
              "    .dataframe thead th {\n",
              "        text-align: right;\n",
              "    }\n",
              "</style>\n",
              "<table border=\"1\" class=\"dataframe\">\n",
              "  <thead>\n",
              "    <tr style=\"text-align: right;\">\n",
              "      <th></th>\n",
              "      <th>POSTED_BY</th>\n",
              "      <th>UNDER_CONSTRUCTION</th>\n",
              "      <th>RERA</th>\n",
              "      <th>BHK_NO.</th>\n",
              "      <th>BHK_OR_RK</th>\n",
              "      <th>SQUARE_FT</th>\n",
              "      <th>READY_TO_MOVE</th>\n",
              "      <th>RESALE</th>\n",
              "      <th>ADDRESS</th>\n",
              "      <th>LONGITUDE</th>\n",
              "      <th>LATITUDE</th>\n",
              "      <th>TARGET(PRICE_IN_LACS)</th>\n",
              "    </tr>\n",
              "  </thead>\n",
              "  <tbody>\n",
              "    <tr>\n",
              "      <th>93</th>\n",
              "      <td>Dealer</td>\n",
              "      <td>1</td>\n",
              "      <td>1</td>\n",
              "      <td>4</td>\n",
              "      <td>BHK</td>\n",
              "      <td>1725.490196</td>\n",
              "      <td>0</td>\n",
              "      <td>0</td>\n",
              "      <td>Deonar,Maharashtra</td>\n",
              "      <td>19.049513</td>\n",
              "      <td>72.919204</td>\n",
              "      <td>440.0</td>\n",
              "    </tr>\n",
              "    <tr>\n",
              "      <th>123</th>\n",
              "      <td>Dealer</td>\n",
              "      <td>1</td>\n",
              "      <td>1</td>\n",
              "      <td>4</td>\n",
              "      <td>BHK</td>\n",
              "      <td>1304.034182</td>\n",
              "      <td>0</td>\n",
              "      <td>0</td>\n",
              "      <td>Kanchpada,Maharashtra</td>\n",
              "      <td>18.960000</td>\n",
              "      <td>72.820000</td>\n",
              "      <td>470.0</td>\n",
              "    </tr>\n",
              "    <tr>\n",
              "      <th>669</th>\n",
              "      <td>Dealer</td>\n",
              "      <td>1</td>\n",
              "      <td>1</td>\n",
              "      <td>4</td>\n",
              "      <td>BHK</td>\n",
              "      <td>1429.272351</td>\n",
              "      <td>0</td>\n",
              "      <td>0</td>\n",
              "      <td>Worli,Lalitpur</td>\n",
              "      <td>19.016700</td>\n",
              "      <td>72.816700</td>\n",
              "      <td>670.0</td>\n",
              "    </tr>\n",
              "    <tr>\n",
              "      <th>1619</th>\n",
              "      <td>Builder</td>\n",
              "      <td>1</td>\n",
              "      <td>1</td>\n",
              "      <td>4</td>\n",
              "      <td>BHK</td>\n",
              "      <td>6363.636364</td>\n",
              "      <td>0</td>\n",
              "      <td>0</td>\n",
              "      <td>Savarkar Nagar,Maharashtra</td>\n",
              "      <td>20.013202</td>\n",
              "      <td>73.753094</td>\n",
              "      <td>350.0</td>\n",
              "    </tr>\n",
              "    <tr>\n",
              "      <th>2269</th>\n",
              "      <td>Dealer</td>\n",
              "      <td>0</td>\n",
              "      <td>0</td>\n",
              "      <td>4</td>\n",
              "      <td>BHK</td>\n",
              "      <td>1941.176471</td>\n",
              "      <td>1</td>\n",
              "      <td>0</td>\n",
              "      <td>Worli,Maharashtra</td>\n",
              "      <td>19.016700</td>\n",
              "      <td>72.816700</td>\n",
              "      <td>990.0</td>\n",
              "    </tr>\n",
              "    <tr>\n",
              "      <th>...</th>\n",
              "      <td>...</td>\n",
              "      <td>...</td>\n",
              "      <td>...</td>\n",
              "      <td>...</td>\n",
              "      <td>...</td>\n",
              "      <td>...</td>\n",
              "      <td>...</td>\n",
              "      <td>...</td>\n",
              "      <td>...</td>\n",
              "      <td>...</td>\n",
              "      <td>...</td>\n",
              "      <td>...</td>\n",
              "    </tr>\n",
              "    <tr>\n",
              "      <th>27600</th>\n",
              "      <td>Dealer</td>\n",
              "      <td>0</td>\n",
              "      <td>1</td>\n",
              "      <td>4</td>\n",
              "      <td>BHK</td>\n",
              "      <td>3428.571429</td>\n",
              "      <td>1</td>\n",
              "      <td>0</td>\n",
              "      <td>Mahalaxmi,Lalitpur</td>\n",
              "      <td>24.690280</td>\n",
              "      <td>78.418890</td>\n",
              "      <td>1680.0</td>\n",
              "    </tr>\n",
              "    <tr>\n",
              "      <th>27872</th>\n",
              "      <td>Dealer</td>\n",
              "      <td>0</td>\n",
              "      <td>1</td>\n",
              "      <td>4</td>\n",
              "      <td>BHK</td>\n",
              "      <td>3428.571429</td>\n",
              "      <td>1</td>\n",
              "      <td>0</td>\n",
              "      <td>Mahalaxmi,Maharashtra</td>\n",
              "      <td>18.978006</td>\n",
              "      <td>72.806154</td>\n",
              "      <td>1680.0</td>\n",
              "    </tr>\n",
              "    <tr>\n",
              "      <th>28477</th>\n",
              "      <td>Dealer</td>\n",
              "      <td>1</td>\n",
              "      <td>1</td>\n",
              "      <td>4</td>\n",
              "      <td>BHK</td>\n",
              "      <td>1449.557560</td>\n",
              "      <td>0</td>\n",
              "      <td>0</td>\n",
              "      <td>Worli,Maharashtra</td>\n",
              "      <td>19.016700</td>\n",
              "      <td>72.816700</td>\n",
              "      <td>670.0</td>\n",
              "    </tr>\n",
              "    <tr>\n",
              "      <th>28540</th>\n",
              "      <td>Builder</td>\n",
              "      <td>0</td>\n",
              "      <td>1</td>\n",
              "      <td>4</td>\n",
              "      <td>BHK</td>\n",
              "      <td>1228.277682</td>\n",
              "      <td>1</td>\n",
              "      <td>0</td>\n",
              "      <td>Sopan Baug,Maharashtra</td>\n",
              "      <td>18.960000</td>\n",
              "      <td>72.820000</td>\n",
              "      <td>270.0</td>\n",
              "    </tr>\n",
              "    <tr>\n",
              "      <th>29117</th>\n",
              "      <td>Dealer</td>\n",
              "      <td>0</td>\n",
              "      <td>1</td>\n",
              "      <td>4</td>\n",
              "      <td>BHK</td>\n",
              "      <td>1254.901961</td>\n",
              "      <td>1</td>\n",
              "      <td>0</td>\n",
              "      <td>Chembur (East),Lalitpur</td>\n",
              "      <td>19.058710</td>\n",
              "      <td>72.899690</td>\n",
              "      <td>320.0</td>\n",
              "    </tr>\n",
              "  </tbody>\n",
              "</table>\n",
              "<p>85 rows × 12 columns</p>\n",
              "</div>"
            ],
            "text/plain": [
              "      POSTED_BY  UNDER_CONSTRUCTION  ...   LATITUDE  TARGET(PRICE_IN_LACS)\n",
              "93       Dealer                   1  ...  72.919204                  440.0\n",
              "123      Dealer                   1  ...  72.820000                  470.0\n",
              "669      Dealer                   1  ...  72.816700                  670.0\n",
              "1619    Builder                   1  ...  73.753094                  350.0\n",
              "2269     Dealer                   0  ...  72.816700                  990.0\n",
              "...         ...                 ...  ...        ...                    ...\n",
              "27600    Dealer                   0  ...  78.418890                 1680.0\n",
              "27872    Dealer                   0  ...  72.806154                 1680.0\n",
              "28477    Dealer                   1  ...  72.816700                  670.0\n",
              "28540   Builder                   0  ...  72.820000                  270.0\n",
              "29117    Dealer                   0  ...  72.899690                  320.0\n",
              "\n",
              "[85 rows x 12 columns]"
            ]
          },
          "metadata": {},
          "execution_count": 17
        }
      ]
    },
    {
      "cell_type": "markdown",
      "metadata": {
        "id": "TeNaSak5L0nZ"
      },
      "source": [
        "As address contains tones of different value, the name of city is extracted from address. Since there is no specific pattern in the address, the city names are not extracted as per the expectations."
      ],
      "id": "TeNaSak5L0nZ"
    },
    {
      "cell_type": "code",
      "metadata": {
        "id": "59f42cea"
      },
      "source": [
        "housingdf['cities']=housingdf['ADDRESS'].str.split(',').str[1]"
      ],
      "id": "59f42cea",
      "execution_count": null,
      "outputs": []
    },
    {
      "cell_type": "code",
      "metadata": {
        "id": "YLCw3cS1WJ-A",
        "colab": {
          "base_uri": "https://localhost:8080/"
        },
        "outputId": "f685692e-0d22-485e-c0cb-b30b2821d79a"
      },
      "source": [
        "housingdf['ADDRESS']"
      ],
      "id": "YLCw3cS1WJ-A",
      "execution_count": null,
      "outputs": [
        {
          "output_type": "execute_result",
          "data": {
            "text/plain": [
              "0                    Ksfc Layout,Bangalore\n",
              "1                Vishweshwara Nagar,Mysore\n",
              "2                         Jigani,Bangalore\n",
              "3              Sector-1 Vaishali,Ghaziabad\n",
              "4                         New Town,Kolkata\n",
              "                       ...                \n",
              "29446                 Shamshabad Road,Agra\n",
              "29447    E3-108, Lake View Recidency,,Vapi\n",
              "29448                    Ajmer Road,Jaipur\n",
              "29449               Sholinganallur,Chennai\n",
              "29450                     Jagatpura,Jaipur\n",
              "Name: ADDRESS, Length: 29451, dtype: object"
            ]
          },
          "metadata": {},
          "execution_count": 19
        }
      ]
    },
    {
      "cell_type": "code",
      "metadata": {
        "id": "618efafe",
        "colab": {
          "base_uri": "https://localhost:8080/"
        },
        "outputId": "cf3ca437-328c-4929-874b-4f531197bb96"
      },
      "source": [
        "housingdf['cities'].value_counts()"
      ],
      "id": "618efafe",
      "execution_count": null,
      "outputs": [
        {
          "output_type": "execute_result",
          "data": {
            "text/plain": [
              "Bangalore             4319\n",
              "Lalitpur              2987\n",
              "Mumbai                2020\n",
              "Pune                  1984\n",
              "Noida                 1765\n",
              "                      ... \n",
              " Eagle Ridge             1\n",
              "Osmanabad                1\n",
              "Patan Road               1\n",
              " Near Bhu                1\n",
              " Ranjit Sagar Road       1\n",
              "Name: cities, Length: 433, dtype: int64"
            ]
          },
          "metadata": {},
          "execution_count": 20
        }
      ]
    },
    {
      "cell_type": "code",
      "metadata": {
        "id": "89f19416",
        "colab": {
          "base_uri": "https://localhost:8080/"
        },
        "outputId": "e40e1d36-4800-4608-9217-9655eb9efb96"
      },
      "source": [
        "housingdf['cities'].unique()"
      ],
      "id": "89f19416",
      "execution_count": null,
      "outputs": [
        {
          "output_type": "execute_result",
          "data": {
            "text/plain": [
              "array(['Bangalore', 'Mysore', 'Ghaziabad', 'Kolkata', 'Kochi', 'Jaipur',\n",
              "       'Mohali', 'Chennai', 'Siliguri', 'Noida', 'Raigad', 'Bhubaneswar',\n",
              "       'Wardha', 'Pune', 'Mumbai', 'Nagpur', 'Deoghar', 'Bhiwadi',\n",
              "       'Faridabad', 'Lalitpur', 'Maharashtra', 'Vadodara',\n",
              "       'Visakhapatnam', 'Vapi', 'Mangalore', 'Aurangabad', 'Ottapalam',\n",
              "       'Vijayawada', 'Belgaum', 'Bhopal', 'Lucknow', 'Kanpur',\n",
              "       'Gandhinagar', 'Pondicherry', 'Agra', 'Ranchi', 'Gurgaon', 'Udupi',\n",
              "       'Indore', 'Jodhpur', 'Coimbatore', 'Valsad', 'Palghar', 'Surat',\n",
              "       'Varanasi', 'Guwahati', 'Amravati', 'Anand', 'Tirupati',\n",
              "       'Secunderabad', 'Raipur', 'Vizianagaram', 'Thrissur', 'Satna',\n",
              "       'Madurai', 'Chandigarh', 'Shimla', 'Gwalior', 'Rajkot', 'Sonipat',\n",
              "       'Allahabad', 'Berhampur', 'C V Raman Nagar', ' Mahalaxmi 2',\n",
              "       'Roorkee', 'Dharuhera', 'Latur', 'Durgapur', 'Panchkula',\n",
              "       'Solapur', 'Durg', 'Goa', 'Jamshedpur', 'Hazaribagh', 'Jabalpur',\n",
              "       'Hosur', 'Morbi', 'Hubli', 'Karnal', 'Patna', 'Bilaspur',\n",
              "       'Ratnagiri', 'Meerut', 'Kotdwara', 'Jalandhar', 'Amritsar',\n",
              "       'Patiala', 'Ludhiana', 'Alwar', 'Kota', 'Panaji', ' Thiruvanmiyur',\n",
              "       'Kolhapur', 'Ernakulam', 'Bhavnagar', 'Bharuch', 'Asansol',\n",
              "       'Jhansi', 'Margao', 'Anantapur', 'Eluru', 'Bhilai', 'Dehradun',\n",
              "       'Guntur', 'Jalgaon', 'Udaipur', 'Gurdaspur', 'Neemrana', 'Hassan',\n",
              "       'Sindhudurg', ' Manewada', 'Hoshangabad', 'Kottayam', 'ranchi',\n",
              "       'Dhanbad', ' Marcela', 'Navsari', 'Bahadurgarh', 'Nellore',\n",
              "       'next to tata chrome', 'Dhule', 'Tirunelveli', 'Cuttack',\n",
              "       'Haridwar', 'Nainital', ' Barowaritala', 'Jamnagar', ' Kalapatti',\n",
              "       ' panvel', 'Kanchipuram', 'Kadi', 'Karad', 'Jagdalpur',\n",
              "       ' Saidapet', 'Panipat', 'Muzaffarpur', ' Sirsi Bhankrota Road',\n",
              "       'Salem', 'Jhunjhunu', 'Gandhidham', 'Junagadh', 'Moradabad',\n",
              "       'Pallikranai', 'Ahmednagar', ' barwaritola', 'Jalna', 'Bhiwani',\n",
              "       'Palakkad', 'Kannur', 'Vakola', 'Karjat', 'Akola', 'Jind',\n",
              "       ' GANDHINAGAR', ' Bellandur', 'Gaya', 'Ambala', 'Ajmer', ' kochi',\n",
              "       'ZAGADE WASTI', 'Hajipur', ' Kamptee Road', 'Dharwad',\n",
              "       'Pudukkottai', 'Kollam', 'Ooty', 'Bhandara', ' Police Lane',\n",
              "       'Barabanki', ' Pratap Nagar', ' Periyar Nagar', 'Rajpura',\n",
              "       'Palwal', 'Aligarh', 'Avadi', 'Erode', ' nanganallur', 'Rudrapur',\n",
              "       'Tenali', 'Ongole', ' near ram lila maidan', 'Nizamabad', 'Puri',\n",
              "       'Dalhousie', 'Siddipet', 'Solan', 'Darbhanga',\n",
              "       ' Opp- JAINAM VIHAR', ' Achara', 'Kadapa', 'Kakinada', ' Ponda',\n",
              "       ' opposite Dudhdhara Dairy', ' Manapakkam', 'Agartala',\n",
              "       ' Vadodara',\n",
              "       ' Official Residence of Chief Minister of Himachal Pradesh',\n",
              "       ' NELLORE', 'Warangal', 'Near Uttar Ujala press', 'Osmanabad', '',\n",
              "       'Bhagalpur', ' Old Pardi Naka', 'Bardhaman', 'Rishikesh',\n",
              "       'Chandrapur', 'Bokaro', 'akshaya Towers', ' chembur west',\n",
              "       ' Gomti Nagar', 'Jharsuguda', 'Bhimavaram', 'Kurnool', 'Amroha',\n",
              "       'Hapur', 'Sabarkantha', 'mylapore', 'Harda', 'Haldwani',\n",
              "       'kundrathur', 'Ujjain', 'Thoothukudi', ' Nagaram', 'Thiruvanmiyur',\n",
              "       'Karaikudi', ' Near Sai Mandir', ' Near Talathi office',\n",
              "       ' Tata Hospital', 'Mathura', ' Kuthumbakam', 'Gadhinglaj',\n",
              "       'yamuna Complex', ' karad', ' Tibri Road', 'Rewari', 'Godhra',\n",
              "       'Kharagpur', ' Near Alluri Seetharamaraju Statue', 'Srinagar',\n",
              "       'Manoramaganj', 'Midnapore', ' Asansol', ' Pune Solapur Highway',\n",
              "       ' Tardeo', 'Rayagada', 'Banswara', 'Shirdi', ' Eagle Ridge',\n",
              "       ' GMS Road', ' Samarpan Square', 'karjat', 'Rohtak', 'Pali',\n",
              "       'Hathras', ' Sikandara', ' Yash plaza', ' Vinayagapuram',\n",
              "       ' Motera', 'Balasore', ' Poonamallee', ' ELECTRICITY COLONY',\n",
              "       'Chhindwara', 'Jivarajpark', 'Bareilly', 'opp To Nagarjuna Sch',\n",
              "       'Patan Road', 'nandi Garden', 'Vidisha', 'umiyanagar2',\n",
              "       'Thanjavur', 'Kangra', 'Bikaner', ' Waghapur', 'Rewa', ' Neral',\n",
              "       ' Ghaziabad', ' Near Bhu', 'Porbandar', 'Nagaur', 'Nanded',\n",
              "       'Rourkela', 'Nadiad', ' Uttarahalli', ' S.S.Colony',\n",
              "       ' Sarjapura Road', ' Bangalore', 'Gulbarga', ' Ramgarh',\n",
              "       ' NR - RAMESHVAR BUS STOP', ' BHAVNAGAR', ' E.M Bypass',\n",
              "       'Palanpur', 'Bhadrak', 'Kurukshetra', 'boda bag', 'jamnagar road',\n",
              "       ' Athwalines', ' Electronic city', ' Manikantan Nagar', ' IT Park',\n",
              "       'Dibrugarh', 'Sagar', 'Machilipatnam', ' Near Sanjay Place',\n",
              "       'Pathanamthitta', ' besa', ' Electronic city phase 1',\n",
              "       ' Electronics City Phase 1', 'LATMA ROAD NO - 9',\n",
              "       ' Behind Nar Narayan Mandir', 'Bankura', 'Jammu', 'Idukki',\n",
              "       ' Genda Circle', ' Near District Hospital Korba', 'vasant Vihar',\n",
              "       ' Begur Hobli Road', ' Portryne Mall Road', ' Dombivali East',\n",
              "       'Ambala City', 'Camp Road', 'Raigarh', ' Chunabhati',\n",
              "       ' Near Halwai ki Bagichi', ' TC Playa Main Road',\n",
              "       ' NEAR SADARGHAT BRIDGE', 'Arrah', 'Nagaon', 'Talaja Road',\n",
              "       'Karwar', 'Dahod', ' Opposite GRP Ground', 'Nagapattinam',\n",
              "       ' Ambattur', ' Kanpur Road', 'Sikar', ' Aligarh',\n",
              "       ' Vaishali Nagar West', ' gomti nagar', 'ambika township',\n",
              "       ' Narayan Pur', ' KAGGADASAPURA MAIN ROAD', 'Angul', 'Srikakulam',\n",
              "       ' Sreebhumi', 'Baddi', ' Jugsalai', ' Madipakkam', ' Sanganer',\n",
              "       'Latma road', ' KURSEONG', ' Near Salua Bazar', ' Kalyan Wes',\n",
              "       ' chinchwad', 'Raisen', ' Machabollaram', ' Gali No 2',\n",
              "       ' RR Nagar', 'Hoshiarpur', ' Solan ', 'Beed', ' Beltarodi Road',\n",
              "       ' Amroli', 'lekhraj metro station', ' haudin road', ' Sullad Road',\n",
              "       ' Korattur', ' Kusugal road', ' A C Market',\n",
              "       ' Near Kasar Managal Bhavan', ' Bellandur Post', ' Lohgarh Road',\n",
              "       'Gadarwara', ' Siddhivinayak Nagar', ' Mova',\n",
              "       ' Behala- Tollygunge', ' JP Nagar', 'deshaiphet Road ',\n",
              "       ' Ranjit Sagar Road', ' Pune', ' Kota', ' Dunlop',\n",
              "       ' greater noida west', ' near chesire home road', 'Jajpur',\n",
              "       'Govindpuram', ' Varadharajapuram Village', ' Palghar 401202',\n",
              "       ' Anand Colony', ' Syndicate Bank Layout', ' Nagasandra Post',\n",
              "       'Haldia', 'Chittoor', 'Faizabad', 'Budha more', ' Prabgat Nagar',\n",
              "       'Malappuram', 'Betul', 'Surendranagar', 'Phagwara', 'Visnagar',\n",
              "       'Rajnandgaon', ' pudupalayam', 'Raichur', ' Narayanapuram',\n",
              "       ' Kukkikatte', ' Near RTO', ' DERABASSI', 'Chankyapuri',\n",
              "       ' opp chopati', 'Sarfabad Near Sundar Farm House', 'khammam Dist',\n",
              "       'Sambalpur', ' Mallikarjunapuram colony', 'Opp.Mafatlal Mill',\n",
              "       ' Gogol', 'Gondia', ' Ghodbunder Road', ' Bhekrainagar',\n",
              "       ' Wagdara', ' Tembhode Rd', 'Chak Getor', ' Velapadi Kosapet',\n",
              "       'Bharatpur', 'Bhuj', 'Pin 841407', ' Ramapuram', 'Washim',\n",
              "       ' Behind Saidapet Court', ' near maharaja bada', 'medavakkam',\n",
              "       ' Lake View Recidency'], dtype=object)"
            ]
          },
          "metadata": {},
          "execution_count": 21
        }
      ]
    },
    {
      "cell_type": "markdown",
      "metadata": {
        "id": "iZNASa_bMg_F"
      },
      "source": [
        "To get the idea on the houses that are in top cities"
      ],
      "id": "iZNASa_bMg_F"
    },
    {
      "cell_type": "code",
      "metadata": {
        "id": "f0330103"
      },
      "source": [
        "topcitieshouses = housingdf[housingdf['cities'].isin(['Bangalore','Lalitpur','Mumbai','Pune','Noida'])]"
      ],
      "id": "f0330103",
      "execution_count": null,
      "outputs": []
    },
    {
      "cell_type": "code",
      "metadata": {
        "id": "aeab46aa",
        "colab": {
          "base_uri": "https://localhost:8080/",
          "height": 1000
        },
        "outputId": "3bddde6a-cf60-4dc1-a887-655d706f7d88"
      },
      "source": [
        "plt.figure(figsize=(10,9))\n",
        "topcitieshouses.groupby(['BHK_NO.','cities'])['SQUARE_FT','TARGET(PRICE_IN_LACS)'].median()"
      ],
      "id": "aeab46aa",
      "execution_count": null,
      "outputs": [
        {
          "output_type": "stream",
          "name": "stderr",
          "text": [
            "/usr/local/lib/python3.7/dist-packages/ipykernel_launcher.py:2: FutureWarning: Indexing with multiple keys (implicitly converted to a tuple of keys) will be deprecated, use a list instead.\n",
            "  \n"
          ]
        },
        {
          "output_type": "execute_result",
          "data": {
            "text/html": [
              "<div>\n",
              "<style scoped>\n",
              "    .dataframe tbody tr th:only-of-type {\n",
              "        vertical-align: middle;\n",
              "    }\n",
              "\n",
              "    .dataframe tbody tr th {\n",
              "        vertical-align: top;\n",
              "    }\n",
              "\n",
              "    .dataframe thead th {\n",
              "        text-align: right;\n",
              "    }\n",
              "</style>\n",
              "<table border=\"1\" class=\"dataframe\">\n",
              "  <thead>\n",
              "    <tr style=\"text-align: right;\">\n",
              "      <th></th>\n",
              "      <th></th>\n",
              "      <th>SQUARE_FT</th>\n",
              "      <th>TARGET(PRICE_IN_LACS)</th>\n",
              "    </tr>\n",
              "    <tr>\n",
              "      <th>BHK_NO.</th>\n",
              "      <th>cities</th>\n",
              "      <th></th>\n",
              "      <th></th>\n",
              "    </tr>\n",
              "  </thead>\n",
              "  <tbody>\n",
              "    <tr>\n",
              "      <th rowspan=\"5\" valign=\"top\">1</th>\n",
              "      <th>Bangalore</th>\n",
              "      <td>644.038294</td>\n",
              "      <td>38.0</td>\n",
              "    </tr>\n",
              "    <tr>\n",
              "      <th>Lalitpur</th>\n",
              "      <td>621.388598</td>\n",
              "      <td>55.0</td>\n",
              "    </tr>\n",
              "    <tr>\n",
              "      <th>Mumbai</th>\n",
              "      <td>615.146832</td>\n",
              "      <td>57.0</td>\n",
              "    </tr>\n",
              "    <tr>\n",
              "      <th>Noida</th>\n",
              "      <td>550.161812</td>\n",
              "      <td>23.0</td>\n",
              "    </tr>\n",
              "    <tr>\n",
              "      <th>Pune</th>\n",
              "      <td>610.023618</td>\n",
              "      <td>33.0</td>\n",
              "    </tr>\n",
              "    <tr>\n",
              "      <th rowspan=\"5\" valign=\"top\">2</th>\n",
              "      <th>Bangalore</th>\n",
              "      <td>1135.073780</td>\n",
              "      <td>59.5</td>\n",
              "    </tr>\n",
              "    <tr>\n",
              "      <th>Lalitpur</th>\n",
              "      <td>1013.282473</td>\n",
              "      <td>110.0</td>\n",
              "    </tr>\n",
              "    <tr>\n",
              "      <th>Mumbai</th>\n",
              "      <td>1009.693053</td>\n",
              "      <td>120.0</td>\n",
              "    </tr>\n",
              "    <tr>\n",
              "      <th>Noida</th>\n",
              "      <td>1069.976827</td>\n",
              "      <td>50.0</td>\n",
              "    </tr>\n",
              "    <tr>\n",
              "      <th>Pune</th>\n",
              "      <td>1018.079691</td>\n",
              "      <td>63.0</td>\n",
              "    </tr>\n",
              "    <tr>\n",
              "      <th rowspan=\"5\" valign=\"top\">3</th>\n",
              "      <th>Bangalore</th>\n",
              "      <td>1600.224593</td>\n",
              "      <td>99.0</td>\n",
              "    </tr>\n",
              "    <tr>\n",
              "      <th>Lalitpur</th>\n",
              "      <td>1466.781708</td>\n",
              "      <td>230.0</td>\n",
              "    </tr>\n",
              "    <tr>\n",
              "      <th>Mumbai</th>\n",
              "      <td>1482.294732</td>\n",
              "      <td>240.0</td>\n",
              "    </tr>\n",
              "    <tr>\n",
              "      <th>Noida</th>\n",
              "      <td>1612.339534</td>\n",
              "      <td>85.0</td>\n",
              "    </tr>\n",
              "    <tr>\n",
              "      <th>Pune</th>\n",
              "      <td>1537.172354</td>\n",
              "      <td>110.0</td>\n",
              "    </tr>\n",
              "    <tr>\n",
              "      <th rowspan=\"5\" valign=\"top\">4</th>\n",
              "      <th>Bangalore</th>\n",
              "      <td>3000.000000</td>\n",
              "      <td>250.0</td>\n",
              "    </tr>\n",
              "    <tr>\n",
              "      <th>Lalitpur</th>\n",
              "      <td>2574.959945</td>\n",
              "      <td>700.0</td>\n",
              "    </tr>\n",
              "    <tr>\n",
              "      <th>Mumbai</th>\n",
              "      <td>2414.741610</td>\n",
              "      <td>590.0</td>\n",
              "    </tr>\n",
              "    <tr>\n",
              "      <th>Noida</th>\n",
              "      <td>2850.276076</td>\n",
              "      <td>180.0</td>\n",
              "    </tr>\n",
              "    <tr>\n",
              "      <th>Pune</th>\n",
              "      <td>2883.922134</td>\n",
              "      <td>240.0</td>\n",
              "    </tr>\n",
              "    <tr>\n",
              "      <th rowspan=\"5\" valign=\"top\">5</th>\n",
              "      <th>Bangalore</th>\n",
              "      <td>4928.172495</td>\n",
              "      <td>500.0</td>\n",
              "    </tr>\n",
              "    <tr>\n",
              "      <th>Lalitpur</th>\n",
              "      <td>3331.202710</td>\n",
              "      <td>705.0</td>\n",
              "    </tr>\n",
              "    <tr>\n",
              "      <th>Mumbai</th>\n",
              "      <td>2525.030869</td>\n",
              "      <td>785.0</td>\n",
              "    </tr>\n",
              "    <tr>\n",
              "      <th>Noida</th>\n",
              "      <td>4500.160720</td>\n",
              "      <td>290.0</td>\n",
              "    </tr>\n",
              "    <tr>\n",
              "      <th>Pune</th>\n",
              "      <td>5500.146671</td>\n",
              "      <td>550.0</td>\n",
              "    </tr>\n",
              "    <tr>\n",
              "      <th rowspan=\"5\" valign=\"top\">6</th>\n",
              "      <th>Bangalore</th>\n",
              "      <td>7500.000000</td>\n",
              "      <td>1070.0</td>\n",
              "    </tr>\n",
              "    <tr>\n",
              "      <th>Lalitpur</th>\n",
              "      <td>3750.031819</td>\n",
              "      <td>1290.0</td>\n",
              "    </tr>\n",
              "    <tr>\n",
              "      <th>Mumbai</th>\n",
              "      <td>3499.981579</td>\n",
              "      <td>950.0</td>\n",
              "    </tr>\n",
              "    <tr>\n",
              "      <th>Noida</th>\n",
              "      <td>10050.251260</td>\n",
              "      <td>1200.0</td>\n",
              "    </tr>\n",
              "    <tr>\n",
              "      <th>Pune</th>\n",
              "      <td>4995.004995</td>\n",
              "      <td>600.0</td>\n",
              "    </tr>\n",
              "    <tr>\n",
              "      <th rowspan=\"2\" valign=\"top\">7</th>\n",
              "      <th>Bangalore</th>\n",
              "      <td>4652.959379</td>\n",
              "      <td>590.0</td>\n",
              "    </tr>\n",
              "    <tr>\n",
              "      <th>Lalitpur</th>\n",
              "      <td>9099.966289</td>\n",
              "      <td>6250.0</td>\n",
              "    </tr>\n",
              "    <tr>\n",
              "      <th rowspan=\"4\" valign=\"top\">8</th>\n",
              "      <th>Bangalore</th>\n",
              "      <td>2160.000000</td>\n",
              "      <td>310.0</td>\n",
              "    </tr>\n",
              "    <tr>\n",
              "      <th>Lalitpur</th>\n",
              "      <td>6600.006600</td>\n",
              "      <td>2000.0</td>\n",
              "    </tr>\n",
              "    <tr>\n",
              "      <th>Mumbai</th>\n",
              "      <td>6600.006600</td>\n",
              "      <td>2000.0</td>\n",
              "    </tr>\n",
              "    <tr>\n",
              "      <th>Pune</th>\n",
              "      <td>7097.321636</td>\n",
              "      <td>900.0</td>\n",
              "    </tr>\n",
              "    <tr>\n",
              "      <th>9</th>\n",
              "      <th>Bangalore</th>\n",
              "      <td>1313.580968</td>\n",
              "      <td>180.0</td>\n",
              "    </tr>\n",
              "    <tr>\n",
              "      <th>10</th>\n",
              "      <th>Bangalore</th>\n",
              "      <td>4490.000000</td>\n",
              "      <td>485.0</td>\n",
              "    </tr>\n",
              "    <tr>\n",
              "      <th>12</th>\n",
              "      <th>Bangalore</th>\n",
              "      <td>4824.561404</td>\n",
              "      <td>110.0</td>\n",
              "    </tr>\n",
              "    <tr>\n",
              "      <th>13</th>\n",
              "      <th>Bangalore</th>\n",
              "      <td>10460.251050</td>\n",
              "      <td>500.0</td>\n",
              "    </tr>\n",
              "    <tr>\n",
              "      <th>15</th>\n",
              "      <th>Bangalore</th>\n",
              "      <td>15001.153930</td>\n",
              "      <td>650.0</td>\n",
              "    </tr>\n",
              "    <tr>\n",
              "      <th>20</th>\n",
              "      <th>Bangalore</th>\n",
              "      <td>7000.000000</td>\n",
              "      <td>350.0</td>\n",
              "    </tr>\n",
              "  </tbody>\n",
              "</table>\n",
              "</div>"
            ],
            "text/plain": [
              "                      SQUARE_FT  TARGET(PRICE_IN_LACS)\n",
              "BHK_NO. cities                                        \n",
              "1       Bangalore    644.038294                   38.0\n",
              "        Lalitpur     621.388598                   55.0\n",
              "        Mumbai       615.146832                   57.0\n",
              "        Noida        550.161812                   23.0\n",
              "        Pune         610.023618                   33.0\n",
              "2       Bangalore   1135.073780                   59.5\n",
              "        Lalitpur    1013.282473                  110.0\n",
              "        Mumbai      1009.693053                  120.0\n",
              "        Noida       1069.976827                   50.0\n",
              "        Pune        1018.079691                   63.0\n",
              "3       Bangalore   1600.224593                   99.0\n",
              "        Lalitpur    1466.781708                  230.0\n",
              "        Mumbai      1482.294732                  240.0\n",
              "        Noida       1612.339534                   85.0\n",
              "        Pune        1537.172354                  110.0\n",
              "4       Bangalore   3000.000000                  250.0\n",
              "        Lalitpur    2574.959945                  700.0\n",
              "        Mumbai      2414.741610                  590.0\n",
              "        Noida       2850.276076                  180.0\n",
              "        Pune        2883.922134                  240.0\n",
              "5       Bangalore   4928.172495                  500.0\n",
              "        Lalitpur    3331.202710                  705.0\n",
              "        Mumbai      2525.030869                  785.0\n",
              "        Noida       4500.160720                  290.0\n",
              "        Pune        5500.146671                  550.0\n",
              "6       Bangalore   7500.000000                 1070.0\n",
              "        Lalitpur    3750.031819                 1290.0\n",
              "        Mumbai      3499.981579                  950.0\n",
              "        Noida      10050.251260                 1200.0\n",
              "        Pune        4995.004995                  600.0\n",
              "7       Bangalore   4652.959379                  590.0\n",
              "        Lalitpur    9099.966289                 6250.0\n",
              "8       Bangalore   2160.000000                  310.0\n",
              "        Lalitpur    6600.006600                 2000.0\n",
              "        Mumbai      6600.006600                 2000.0\n",
              "        Pune        7097.321636                  900.0\n",
              "9       Bangalore   1313.580968                  180.0\n",
              "10      Bangalore   4490.000000                  485.0\n",
              "12      Bangalore   4824.561404                  110.0\n",
              "13      Bangalore  10460.251050                  500.0\n",
              "15      Bangalore  15001.153930                  650.0\n",
              "20      Bangalore   7000.000000                  350.0"
            ]
          },
          "metadata": {},
          "execution_count": 23
        },
        {
          "output_type": "display_data",
          "data": {
            "text/plain": [
              "<Figure size 720x648 with 0 Axes>"
            ]
          },
          "metadata": {}
        }
      ]
    },
    {
      "cell_type": "markdown",
      "metadata": {
        "id": "w15rJgMjEVb0"
      },
      "source": [
        "Area for the houses with 1,2,3,4 BHK are almost same in all the cities but from 5BHK houses, the area varies considerably as per the cities."
      ],
      "id": "w15rJgMjEVb0"
    },
    {
      "cell_type": "markdown",
      "metadata": {
        "id": "Bj4yyjLZT3ZH"
      },
      "source": [
        "#### Heatmap and Scatterplot"
      ],
      "id": "Bj4yyjLZT3ZH"
    },
    {
      "cell_type": "code",
      "metadata": {
        "id": "7yVQ-GfJvl9b"
      },
      "source": [
        "#corrHousingDF = housingdf.drop(columns=['POSTED_BY', 'UNDER_CONSTRUCTION', 'RERA', 'BHK_NO.','SQUARE_FT','READY_TO_MOVE', 'RESALE','TARGET(PRICE_IN_LACS)', 'cities'])\n",
        "\n",
        "\n",
        "corrHousingDF = housingdf.drop(columns=['BHK_OR_RK','LONGITUDE','LATITUDE','ADDRESS'])"
      ],
      "id": "7yVQ-GfJvl9b",
      "execution_count": null,
      "outputs": []
    },
    {
      "cell_type": "code",
      "metadata": {
        "colab": {
          "base_uri": "https://localhost:8080/"
        },
        "id": "Zas-Ja-Swfd7",
        "outputId": "19a9fb6c-2d04-46e5-bd50-60f918a164ad"
      },
      "source": [
        "corrHousingDF"
      ],
      "id": "Zas-Ja-Swfd7",
      "execution_count": null,
      "outputs": [
        {
          "output_type": "execute_result",
          "data": {
            "text/html": [
              "<div>\n",
              "<style scoped>\n",
              "    .dataframe tbody tr th:only-of-type {\n",
              "        vertical-align: middle;\n",
              "    }\n",
              "\n",
              "    .dataframe tbody tr th {\n",
              "        vertical-align: top;\n",
              "    }\n",
              "\n",
              "    .dataframe thead th {\n",
              "        text-align: right;\n",
              "    }\n",
              "</style>\n",
              "<table border=\"1\" class=\"dataframe\">\n",
              "  <thead>\n",
              "    <tr style=\"text-align: right;\">\n",
              "      <th></th>\n",
              "      <th>POSTED_BY</th>\n",
              "      <th>UNDER_CONSTRUCTION</th>\n",
              "      <th>RERA</th>\n",
              "      <th>BHK_NO.</th>\n",
              "      <th>SQUARE_FT</th>\n",
              "      <th>READY_TO_MOVE</th>\n",
              "      <th>RESALE</th>\n",
              "      <th>TARGET(PRICE_IN_LACS)</th>\n",
              "      <th>cities</th>\n",
              "    </tr>\n",
              "  </thead>\n",
              "  <tbody>\n",
              "    <tr>\n",
              "      <th>0</th>\n",
              "      <td>Owner</td>\n",
              "      <td>0</td>\n",
              "      <td>0</td>\n",
              "      <td>2</td>\n",
              "      <td>1300.236407</td>\n",
              "      <td>1</td>\n",
              "      <td>1</td>\n",
              "      <td>55.0</td>\n",
              "      <td>Bangalore</td>\n",
              "    </tr>\n",
              "    <tr>\n",
              "      <th>1</th>\n",
              "      <td>Dealer</td>\n",
              "      <td>0</td>\n",
              "      <td>0</td>\n",
              "      <td>2</td>\n",
              "      <td>1275.000000</td>\n",
              "      <td>1</td>\n",
              "      <td>1</td>\n",
              "      <td>51.0</td>\n",
              "      <td>Mysore</td>\n",
              "    </tr>\n",
              "    <tr>\n",
              "      <th>2</th>\n",
              "      <td>Owner</td>\n",
              "      <td>0</td>\n",
              "      <td>0</td>\n",
              "      <td>2</td>\n",
              "      <td>933.159722</td>\n",
              "      <td>1</td>\n",
              "      <td>1</td>\n",
              "      <td>43.0</td>\n",
              "      <td>Bangalore</td>\n",
              "    </tr>\n",
              "    <tr>\n",
              "      <th>3</th>\n",
              "      <td>Owner</td>\n",
              "      <td>0</td>\n",
              "      <td>1</td>\n",
              "      <td>2</td>\n",
              "      <td>929.921143</td>\n",
              "      <td>1</td>\n",
              "      <td>1</td>\n",
              "      <td>62.5</td>\n",
              "      <td>Ghaziabad</td>\n",
              "    </tr>\n",
              "    <tr>\n",
              "      <th>4</th>\n",
              "      <td>Dealer</td>\n",
              "      <td>1</td>\n",
              "      <td>0</td>\n",
              "      <td>2</td>\n",
              "      <td>999.009247</td>\n",
              "      <td>0</td>\n",
              "      <td>1</td>\n",
              "      <td>60.5</td>\n",
              "      <td>Kolkata</td>\n",
              "    </tr>\n",
              "    <tr>\n",
              "      <th>...</th>\n",
              "      <td>...</td>\n",
              "      <td>...</td>\n",
              "      <td>...</td>\n",
              "      <td>...</td>\n",
              "      <td>...</td>\n",
              "      <td>...</td>\n",
              "      <td>...</td>\n",
              "      <td>...</td>\n",
              "      <td>...</td>\n",
              "    </tr>\n",
              "    <tr>\n",
              "      <th>29446</th>\n",
              "      <td>Owner</td>\n",
              "      <td>0</td>\n",
              "      <td>0</td>\n",
              "      <td>3</td>\n",
              "      <td>2500.000000</td>\n",
              "      <td>1</td>\n",
              "      <td>1</td>\n",
              "      <td>45.0</td>\n",
              "      <td>Agra</td>\n",
              "    </tr>\n",
              "    <tr>\n",
              "      <th>29447</th>\n",
              "      <td>Owner</td>\n",
              "      <td>0</td>\n",
              "      <td>0</td>\n",
              "      <td>2</td>\n",
              "      <td>769.230769</td>\n",
              "      <td>1</td>\n",
              "      <td>1</td>\n",
              "      <td>16.0</td>\n",
              "      <td>Lake View Recidency</td>\n",
              "    </tr>\n",
              "    <tr>\n",
              "      <th>29448</th>\n",
              "      <td>Dealer</td>\n",
              "      <td>0</td>\n",
              "      <td>0</td>\n",
              "      <td>2</td>\n",
              "      <td>1022.641509</td>\n",
              "      <td>1</td>\n",
              "      <td>1</td>\n",
              "      <td>27.1</td>\n",
              "      <td>Jaipur</td>\n",
              "    </tr>\n",
              "    <tr>\n",
              "      <th>29449</th>\n",
              "      <td>Owner</td>\n",
              "      <td>0</td>\n",
              "      <td>0</td>\n",
              "      <td>2</td>\n",
              "      <td>927.079009</td>\n",
              "      <td>1</td>\n",
              "      <td>1</td>\n",
              "      <td>67.0</td>\n",
              "      <td>Chennai</td>\n",
              "    </tr>\n",
              "    <tr>\n",
              "      <th>29450</th>\n",
              "      <td>Dealer</td>\n",
              "      <td>0</td>\n",
              "      <td>1</td>\n",
              "      <td>2</td>\n",
              "      <td>896.774194</td>\n",
              "      <td>1</td>\n",
              "      <td>1</td>\n",
              "      <td>27.8</td>\n",
              "      <td>Jaipur</td>\n",
              "    </tr>\n",
              "  </tbody>\n",
              "</table>\n",
              "<p>29451 rows × 9 columns</p>\n",
              "</div>"
            ],
            "text/plain": [
              "      POSTED_BY  ...                cities\n",
              "0         Owner  ...             Bangalore\n",
              "1        Dealer  ...                Mysore\n",
              "2         Owner  ...             Bangalore\n",
              "3         Owner  ...             Ghaziabad\n",
              "4        Dealer  ...               Kolkata\n",
              "...         ...  ...                   ...\n",
              "29446     Owner  ...                  Agra\n",
              "29447     Owner  ...   Lake View Recidency\n",
              "29448    Dealer  ...                Jaipur\n",
              "29449     Owner  ...               Chennai\n",
              "29450    Dealer  ...                Jaipur\n",
              "\n",
              "[29451 rows x 9 columns]"
            ]
          },
          "metadata": {},
          "execution_count": 29
        }
      ]
    },
    {
      "cell_type": "code",
      "metadata": {
        "colab": {
          "base_uri": "https://localhost:8080/"
        },
        "id": "5u5ziAeHwg3X",
        "outputId": "39d17bef-7ce3-4ac6-ae29-0a74c15b7d74"
      },
      "source": [
        "sns.heatmap(corrHousingDF.corr(),annot=True,cmap='viridis')"
      ],
      "id": "5u5ziAeHwg3X",
      "execution_count": null,
      "outputs": [
        {
          "output_type": "execute_result",
          "data": {
            "text/plain": [
              "<matplotlib.axes._subplots.AxesSubplot at 0x7f4414b80650>"
            ]
          },
          "metadata": {},
          "execution_count": 30
        },
        {
          "output_type": "display_data",
          "data": {
            "image/png": "[encoded data removed]",
            "text/plain": [
              "<Figure size 432x288 with 2 Axes>"
            ]
          },
          "metadata": {
            "needs_background": "light"
          }
        }
      ]
    },
    {
      "cell_type": "markdown",
      "metadata": {
        "id": "yqyBjtXLTOLE"
      },
      "source": [
        "The Area plays a major role in affecting the price as per the heatmap but the city in which the house is located affects the price as well.\n",
        "\n",
        "'RESALE' is a negative affecting value which makes sense as the house would be RESALE, the price will be lower. Same effect is also captured for READY_TO_MOVE."
      ],
      "id": "yqyBjtXLTOLE"
    },
    {
      "cell_type": "code",
      "metadata": {
        "colab": {
          "base_uri": "https://localhost:8080/"
        },
        "id": "DJvRnZoyxkK2",
        "outputId": "620e9ce5-7515-42bd-e834-072813fc6ccf"
      },
      "source": [
        "# corrHousingDF['priceScaled'] =  (corrHousingDF['TARGET(PRICE_IN_LACS)']-corrHousingDF['TARGET(PRICE_IN_LACS)'].min())/(corrHousingDF['TARGET(PRICE_IN_LACS)'].max()-corrHousingDF['TARGET(PRICE_IN_LACS)'].min())\n",
        "# corrHousingDF['areaScaled'] = (corrHousingDF['SQUARE_FT']-corrHousingDF['SQUARE_FT'].min())/(corrHousingDF['SQUARE_FT'].max()-corrHousingDF['SQUARE_FT'].min())\n",
        "corrHousingDF['priceScaled'] = np.log(corrHousingDF['TARGET(PRICE_IN_LACS)'])\n",
        "corrHousingDF['areaScaled']= np.log(corrHousingDF['SQUARE_FT'])\n",
        "plt.figure(figsize=(12,10))\n",
        "plt.title('Area V/s Price')\n",
        "sns.scatterplot(data=corrHousingDF,x='priceScaled',y='areaScaled',hue='BHK_NO.')\n",
        "#sns.scatterplot(data=corrHousingDF,x='TARGET(PRICE_IN_LACS)',y='SQUARE_FT')\n",
        "plt.show()"
      ],
      "id": "DJvRnZoyxkK2",
      "execution_count": null,
      "outputs": [
        {
          "output_type": "display_data",
          "data": {
            "image/png": "[encoded data removed]",
            "text/plain": [
              "<Figure size 864x720 with 1 Axes>"
            ]
          },
          "metadata": {
            "needs_background": "light"
          }
        }
      ]
    },
    {
      "cell_type": "markdown",
      "metadata": {
        "id": "037Sknk8SMan"
      },
      "source": [
        "The relation between normal values of Price and area wasn't clear because of the scaling, after applying the log, the relation is little linear, more scattered."
      ],
      "id": "037Sknk8SMan"
    },
    {
      "cell_type": "markdown",
      "metadata": {
        "id": "-7_LFnXwnmBH"
      },
      "source": [
        "### Linear Regression"
      ],
      "id": "-7_LFnXwnmBH"
    },
    {
      "cell_type": "markdown",
      "metadata": {
        "id": "DF2ToVE4N9OG"
      },
      "source": [
        "Here in this section, the data is filtered on TargetPrice because the model wasn't able to capture the variance significantly. \n"
      ],
      "id": "DF2ToVE4N9OG"
    },
    {
      "cell_type": "code",
      "metadata": {
        "id": "Hqntzxju70F1"
      },
      "source": [
        "# Splitting the city names from the Address to make the city as a category\n",
        "housingdf['citynames']=housingdf['ADDRESS'].str.rsplit(',').str[1]"
      ],
      "id": "Hqntzxju70F1",
      "execution_count": 18,
      "outputs": []
    },
    {
      "cell_type": "code",
      "metadata": {
        "colab": {
          "base_uri": "https://localhost:8080/"
        },
        "id": "GfhX7Zz6Nkv8",
        "outputId": "f4f27bf4-8974-4d85-dd41-6944f12a1d70"
      },
      "source": [
        "housingdf['TARGET(PRICE_IN_LACS)'].describe()"
      ],
      "id": "GfhX7Zz6Nkv8",
      "execution_count": 19,
      "outputs": [
        {
          "output_type": "execute_result",
          "data": {
            "text/plain": [
              "count    29451.000000\n",
              "mean       142.898746\n",
              "std        656.880713\n",
              "min          0.250000\n",
              "25%         38.000000\n",
              "50%         62.000000\n",
              "75%        100.000000\n",
              "max      30000.000000\n",
              "Name: TARGET(PRICE_IN_LACS), dtype: float64"
            ]
          },
          "metadata": {},
          "execution_count": 19
        }
      ]
    },
    {
      "cell_type": "code",
      "metadata": {
        "colab": {
          "base_uri": "https://localhost:8080/",
          "height": 203
        },
        "id": "xd3YfICtZKRo",
        "outputId": "69c67d40-dd00-4ecd-b14e-08a2a16c95b9"
      },
      "source": [
        "#Defining a new variable 'new' in which we will filter the outliers\n",
        "# Before the range was  3000 now we have squezeed it to 500 \n",
        "new=housingdf[housingdf['TARGET(PRICE_IN_LACS)']<500]\n",
        "new = new.drop(columns=['READY_TO_MOVE','ADDRESS','LONGITUDE','LATITUDE','BHK_OR_RK'],axis=1)\n",
        "new.head()"
      ],
      "id": "xd3YfICtZKRo",
      "execution_count": 20,
      "outputs": [
        {
          "output_type": "execute_result",
          "data": {
            "text/html": [
              "<div>\n",
              "<style scoped>\n",
              "    .dataframe tbody tr th:only-of-type {\n",
              "        vertical-align: middle;\n",
              "    }\n",
              "\n",
              "    .dataframe tbody tr th {\n",
              "        vertical-align: top;\n",
              "    }\n",
              "\n",
              "    .dataframe thead th {\n",
              "        text-align: right;\n",
              "    }\n",
              "</style>\n",
              "<table border=\"1\" class=\"dataframe\">\n",
              "  <thead>\n",
              "    <tr style=\"text-align: right;\">\n",
              "      <th></th>\n",
              "      <th>POSTED_BY</th>\n",
              "      <th>UNDER_CONSTRUCTION</th>\n",
              "      <th>RERA</th>\n",
              "      <th>BHK_NO.</th>\n",
              "      <th>SQUARE_FT</th>\n",
              "      <th>RESALE</th>\n",
              "      <th>TARGET(PRICE_IN_LACS)</th>\n",
              "      <th>citynames</th>\n",
              "    </tr>\n",
              "  </thead>\n",
              "  <tbody>\n",
              "    <tr>\n",
              "      <th>0</th>\n",
              "      <td>Owner</td>\n",
              "      <td>0</td>\n",
              "      <td>0</td>\n",
              "      <td>2</td>\n",
              "      <td>1300.236407</td>\n",
              "      <td>1</td>\n",
              "      <td>55.0</td>\n",
              "      <td>Bangalore</td>\n",
              "    </tr>\n",
              "    <tr>\n",
              "      <th>1</th>\n",
              "      <td>Dealer</td>\n",
              "      <td>0</td>\n",
              "      <td>0</td>\n",
              "      <td>2</td>\n",
              "      <td>1275.000000</td>\n",
              "      <td>1</td>\n",
              "      <td>51.0</td>\n",
              "      <td>Mysore</td>\n",
              "    </tr>\n",
              "    <tr>\n",
              "      <th>2</th>\n",
              "      <td>Owner</td>\n",
              "      <td>0</td>\n",
              "      <td>0</td>\n",
              "      <td>2</td>\n",
              "      <td>933.159722</td>\n",
              "      <td>1</td>\n",
              "      <td>43.0</td>\n",
              "      <td>Bangalore</td>\n",
              "    </tr>\n",
              "    <tr>\n",
              "      <th>3</th>\n",
              "      <td>Owner</td>\n",
              "      <td>0</td>\n",
              "      <td>1</td>\n",
              "      <td>2</td>\n",
              "      <td>929.921143</td>\n",
              "      <td>1</td>\n",
              "      <td>62.5</td>\n",
              "      <td>Ghaziabad</td>\n",
              "    </tr>\n",
              "    <tr>\n",
              "      <th>4</th>\n",
              "      <td>Dealer</td>\n",
              "      <td>1</td>\n",
              "      <td>0</td>\n",
              "      <td>2</td>\n",
              "      <td>999.009247</td>\n",
              "      <td>1</td>\n",
              "      <td>60.5</td>\n",
              "      <td>Kolkata</td>\n",
              "    </tr>\n",
              "  </tbody>\n",
              "</table>\n",
              "</div>"
            ],
            "text/plain": [
              "  POSTED_BY  UNDER_CONSTRUCTION  RERA  ...  RESALE  TARGET(PRICE_IN_LACS)  citynames\n",
              "0     Owner                   0     0  ...       1                   55.0  Bangalore\n",
              "1    Dealer                   0     0  ...       1                   51.0     Mysore\n",
              "2     Owner                   0     0  ...       1                   43.0  Bangalore\n",
              "3     Owner                   0     1  ...       1                   62.5  Ghaziabad\n",
              "4    Dealer                   1     0  ...       1                   60.5    Kolkata\n",
              "\n",
              "[5 rows x 8 columns]"
            ]
          },
          "metadata": {},
          "execution_count": 20
        }
      ]
    },
    {
      "cell_type": "code",
      "metadata": {
        "colab": {
          "base_uri": "https://localhost:8080/"
        },
        "id": "jLxnszebPKGo",
        "outputId": "7ca6c66d-5c2a-4981-90ce-e16ee28d4c4b"
      },
      "source": [
        "print('Length of Unique values in citynames: {}'.format(new['citynames'].nunique()))"
      ],
      "id": "jLxnszebPKGo",
      "execution_count": 21,
      "outputs": [
        {
          "output_type": "stream",
          "name": "stdout",
          "text": [
            "Length of Unique values in citynames: 431\n"
          ]
        }
      ]
    },
    {
      "cell_type": "code",
      "metadata": {
        "id": "1gvG3rYUMNLK"
      },
      "source": [
        "#Selecting the top 10 cities which has highest number of houses\n",
        "selectcity=new['citynames'].value_counts()[:10].index"
      ],
      "id": "1gvG3rYUMNLK",
      "execution_count": 22,
      "outputs": []
    },
    {
      "cell_type": "code",
      "metadata": {
        "id": "rg205mGdh6sO"
      },
      "source": [
        "new = new[new['citynames'].isin(selectcity)]"
      ],
      "id": "rg205mGdh6sO",
      "execution_count": 23,
      "outputs": []
    },
    {
      "cell_type": "code",
      "metadata": {
        "colab": {
          "base_uri": "https://localhost:8080/",
          "height": 223
        },
        "id": "Yw6cHFtx8vaH",
        "outputId": "371db114-9668-43a3-e180-bd2e9da6447b"
      },
      "source": [
        "# Encoding the categorical variables into 0s and 1s\n",
        "new=pd.get_dummies(new,['POSTED_BY','citynames'])\n",
        "new.head()"
      ],
      "id": "Yw6cHFtx8vaH",
      "execution_count": 24,
      "outputs": [
        {
          "output_type": "execute_result",
          "data": {
            "text/html": [
              "<div>\n",
              "<style scoped>\n",
              "    .dataframe tbody tr th:only-of-type {\n",
              "        vertical-align: middle;\n",
              "    }\n",
              "\n",
              "    .dataframe tbody tr th {\n",
              "        vertical-align: top;\n",
              "    }\n",
              "\n",
              "    .dataframe thead th {\n",
              "        text-align: right;\n",
              "    }\n",
              "</style>\n",
              "<table border=\"1\" class=\"dataframe\">\n",
              "  <thead>\n",
              "    <tr style=\"text-align: right;\">\n",
              "      <th></th>\n",
              "      <th>UNDER_CONSTRUCTION</th>\n",
              "      <th>RERA</th>\n",
              "      <th>BHK_NO.</th>\n",
              "      <th>SQUARE_FT</th>\n",
              "      <th>RESALE</th>\n",
              "      <th>TARGET(PRICE_IN_LACS)</th>\n",
              "      <th>POSTED_BY_Builder</th>\n",
              "      <th>POSTED_BY_Dealer</th>\n",
              "      <th>POSTED_BY_Owner</th>\n",
              "      <th>citynames_Bangalore</th>\n",
              "      <th>citynames_Chennai</th>\n",
              "      <th>citynames_Ghaziabad</th>\n",
              "      <th>citynames_Jaipur</th>\n",
              "      <th>citynames_Kolkata</th>\n",
              "      <th>citynames_Lalitpur</th>\n",
              "      <th>citynames_Maharashtra</th>\n",
              "      <th>citynames_Mumbai</th>\n",
              "      <th>citynames_Noida</th>\n",
              "      <th>citynames_Pune</th>\n",
              "    </tr>\n",
              "  </thead>\n",
              "  <tbody>\n",
              "    <tr>\n",
              "      <th>0</th>\n",
              "      <td>0</td>\n",
              "      <td>0</td>\n",
              "      <td>2</td>\n",
              "      <td>1300.236407</td>\n",
              "      <td>1</td>\n",
              "      <td>55.0</td>\n",
              "      <td>0</td>\n",
              "      <td>0</td>\n",
              "      <td>1</td>\n",
              "      <td>1</td>\n",
              "      <td>0</td>\n",
              "      <td>0</td>\n",
              "      <td>0</td>\n",
              "      <td>0</td>\n",
              "      <td>0</td>\n",
              "      <td>0</td>\n",
              "      <td>0</td>\n",
              "      <td>0</td>\n",
              "      <td>0</td>\n",
              "    </tr>\n",
              "    <tr>\n",
              "      <th>2</th>\n",
              "      <td>0</td>\n",
              "      <td>0</td>\n",
              "      <td>2</td>\n",
              "      <td>933.159722</td>\n",
              "      <td>1</td>\n",
              "      <td>43.0</td>\n",
              "      <td>0</td>\n",
              "      <td>0</td>\n",
              "      <td>1</td>\n",
              "      <td>1</td>\n",
              "      <td>0</td>\n",
              "      <td>0</td>\n",
              "      <td>0</td>\n",
              "      <td>0</td>\n",
              "      <td>0</td>\n",
              "      <td>0</td>\n",
              "      <td>0</td>\n",
              "      <td>0</td>\n",
              "      <td>0</td>\n",
              "    </tr>\n",
              "    <tr>\n",
              "      <th>3</th>\n",
              "      <td>0</td>\n",
              "      <td>1</td>\n",
              "      <td>2</td>\n",
              "      <td>929.921143</td>\n",
              "      <td>1</td>\n",
              "      <td>62.5</td>\n",
              "      <td>0</td>\n",
              "      <td>0</td>\n",
              "      <td>1</td>\n",
              "      <td>0</td>\n",
              "      <td>0</td>\n",
              "      <td>1</td>\n",
              "      <td>0</td>\n",
              "      <td>0</td>\n",
              "      <td>0</td>\n",
              "      <td>0</td>\n",
              "      <td>0</td>\n",
              "      <td>0</td>\n",
              "      <td>0</td>\n",
              "    </tr>\n",
              "    <tr>\n",
              "      <th>4</th>\n",
              "      <td>1</td>\n",
              "      <td>0</td>\n",
              "      <td>2</td>\n",
              "      <td>999.009247</td>\n",
              "      <td>1</td>\n",
              "      <td>60.5</td>\n",
              "      <td>0</td>\n",
              "      <td>1</td>\n",
              "      <td>0</td>\n",
              "      <td>0</td>\n",
              "      <td>0</td>\n",
              "      <td>0</td>\n",
              "      <td>0</td>\n",
              "      <td>1</td>\n",
              "      <td>0</td>\n",
              "      <td>0</td>\n",
              "      <td>0</td>\n",
              "      <td>0</td>\n",
              "      <td>0</td>\n",
              "    </tr>\n",
              "    <tr>\n",
              "      <th>6</th>\n",
              "      <td>0</td>\n",
              "      <td>0</td>\n",
              "      <td>3</td>\n",
              "      <td>1495.053957</td>\n",
              "      <td>1</td>\n",
              "      <td>66.5</td>\n",
              "      <td>0</td>\n",
              "      <td>1</td>\n",
              "      <td>0</td>\n",
              "      <td>0</td>\n",
              "      <td>0</td>\n",
              "      <td>0</td>\n",
              "      <td>1</td>\n",
              "      <td>0</td>\n",
              "      <td>0</td>\n",
              "      <td>0</td>\n",
              "      <td>0</td>\n",
              "      <td>0</td>\n",
              "      <td>0</td>\n",
              "    </tr>\n",
              "  </tbody>\n",
              "</table>\n",
              "</div>"
            ],
            "text/plain": [
              "   UNDER_CONSTRUCTION  RERA  ...  citynames_Noida  citynames_Pune\n",
              "0                   0     0  ...                0               0\n",
              "2                   0     0  ...                0               0\n",
              "3                   0     1  ...                0               0\n",
              "4                   1     0  ...                0               0\n",
              "6                   0     0  ...                0               0\n",
              "\n",
              "[5 rows x 19 columns]"
            ]
          },
          "metadata": {},
          "execution_count": 24
        }
      ]
    },
    {
      "cell_type": "code",
      "metadata": {
        "colab": {
          "base_uri": "https://localhost:8080/"
        },
        "id": "9d4u6tkM94vN",
        "outputId": "497ac0ff-1c3f-465b-fba7-2d512590a310"
      },
      "source": [
        "import statsmodels.api as smf\n",
        "features = ['BHK_NO.', 'SQUARE_FT', 'RESALE']\n",
        "      #  'TARGET(PRICE_IN_LACS)', 'POSTED_BY_Dealer', 'citynames_Bangalore',\n",
        "      #  'citynames_Lalitpur', 'citynames_Maharashtra', 'citynames_Mumbai',\n",
        "      #  , 'citynames_Pune']\n",
        "olsmodel3 = smf.OLS(new['TARGET(PRICE_IN_LACS)'],new[features]).fit()\n",
        "print(olsmodel3.summary())"
      ],
      "id": "9d4u6tkM94vN",
      "execution_count": 25,
      "outputs": [
        {
          "output_type": "stream",
          "name": "stdout",
          "text": [
            "                                  OLS Regression Results                                  \n",
            "==========================================================================================\n",
            "Dep. Variable:     TARGET(PRICE_IN_LACS)   R-squared (uncentered):                   0.684\n",
            "Model:                               OLS   Adj. R-squared (uncentered):              0.684\n",
            "Method:                    Least Squares   F-statistic:                          1.367e+04\n",
            "Date:                   Mon, 11 Oct 2021   Prob (F-statistic):                        0.00\n",
            "Time:                           21:30:06   Log-Likelihood:                     -1.0783e+05\n",
            "No. Observations:                  18950   AIC:                                  2.157e+05\n",
            "Df Residuals:                      18947   BIC:                                  2.157e+05\n",
            "Df Model:                              3                                                  \n",
            "Covariance Type:               nonrobust                                                  \n",
            "==============================================================================\n",
            "                 coef    std err          t      P>|t|      [0.025      0.975]\n",
            "------------------------------------------------------------------------------\n",
            "BHK_NO.       44.4509      0.525     84.748      0.000      43.423      45.479\n",
            "SQUARE_FT  -5.942e-06   1.66e-05     -0.358      0.721   -3.85e-05    2.66e-05\n",
            "RESALE        -4.3030      1.335     -3.224      0.001      -6.919      -1.687\n",
            "==============================================================================\n",
            "Omnibus:                     6356.253   Durbin-Watson:                   2.001\n",
            "Prob(Omnibus):                  0.000   Jarque-Bera (JB):            22996.673\n",
            "Skew:                           1.676   Prob(JB):                         0.00\n",
            "Kurtosis:                       7.230   Cond. No.                     8.56e+04\n",
            "==============================================================================\n",
            "\n",
            "Warnings:\n",
            "[1] Standard Errors assume that the covariance matrix of the errors is correctly specified.\n",
            "[2] The condition number is large, 8.56e+04. This might indicate that there are\n",
            "strong multicollinearity or other numerical problems.\n"
          ]
        }
      ]
    },
    {
      "cell_type": "markdown",
      "metadata": {
        "id": "JHOmGxJoUvZV"
      },
      "source": [
        "We tried finding if the three variables impact the price of variable but it seemed that the high multi-collinearity is observed among the features. We haven't included the citynames in this report. We will find Variance Inverse Factor to check which column we should include and then will generate the OLS report again."
      ],
      "id": "JHOmGxJoUvZV"
    },
    {
      "cell_type": "code",
      "metadata": {
        "colab": {
          "base_uri": "https://localhost:8080/"
        },
        "id": "m73nzai3Mjau",
        "outputId": "63ed7514-67b2-4c04-e116-9c76486332ca"
      },
      "source": [
        "#Calculation of VIF \n",
        "import statsmodels.api as smf\n",
        "newT = new.drop(columns='TARGET(PRICE_IN_LACS)')\n",
        "names = newT.columns\n",
        "for i in range(0,len(names),1):\n",
        "  y=newT.loc[:,newT.columns==names[i]]\n",
        "  x=newT.loc[:,newT.columns!=names[i]]\n",
        "  model = smf.OLS(y,x)\n",
        "  result= model.fit()\n",
        "  rsq = result.rsquared\n",
        "  vif = round(1/(1-rsq),2)\n",
        "  print('Column {} R-squared: {}'.format(names[i],round(rsq,2)))\n",
        "  print('VIF: {}'.format(vif))"
      ],
      "id": "m73nzai3Mjau",
      "execution_count": 26,
      "outputs": [
        {
          "output_type": "stream",
          "name": "stdout",
          "text": [
            "Column UNDER_CONSTRUCTION R-squared: 0.25\n",
            "VIF: 1.33\n",
            "Column RERA R-squared: 0.27\n",
            "VIF: 1.36\n",
            "Column BHK_NO. R-squared: 0.12\n",
            "VIF: 1.14\n",
            "Column SQUARE_FT R-squared: 0.0\n",
            "VIF: 1.0\n",
            "Column RESALE R-squared: 0.36\n",
            "VIF: 1.56\n",
            "Column POSTED_BY_Builder R-squared: 1.0\n",
            "VIF: inf\n",
            "Column POSTED_BY_Dealer R-squared: 1.0\n",
            "VIF: inf\n",
            "Column POSTED_BY_Owner R-squared: 1.0\n",
            "VIF: inf\n",
            "Column citynames_Bangalore R-squared: 1.0\n",
            "VIF: inf\n"
          ]
        },
        {
          "output_type": "stream",
          "name": "stderr",
          "text": [
            "/usr/local/lib/python3.7/dist-packages/ipykernel_launcher.py:11: RuntimeWarning: divide by zero encountered in double_scalars\n",
            "  # This is added back by InteractiveShellApp.init_path()\n"
          ]
        },
        {
          "output_type": "stream",
          "name": "stdout",
          "text": [
            "Column citynames_Chennai R-squared: 1.0\n",
            "VIF: inf\n",
            "Column citynames_Ghaziabad R-squared: 1.0\n",
            "VIF: inf\n",
            "Column citynames_Jaipur R-squared: 1.0\n",
            "VIF: inf\n",
            "Column citynames_Kolkata R-squared: 1.0\n",
            "VIF: inf\n",
            "Column citynames_Lalitpur R-squared: 1.0\n",
            "VIF: inf\n",
            "Column citynames_Maharashtra R-squared: 1.0\n",
            "VIF: inf\n",
            "Column citynames_Mumbai R-squared: 1.0\n",
            "VIF: inf\n",
            "Column citynames_Noida R-squared: 1.0\n",
            "VIF: inf\n",
            "Column citynames_Pune R-squared: 1.0\n",
            "VIF: inf\n"
          ]
        }
      ]
    },
    {
      "cell_type": "code",
      "metadata": {
        "colab": {
          "base_uri": "https://localhost:8080/"
        },
        "id": "iuK6MlCF_Nme",
        "outputId": "5283a30b-49e3-45c7-ec41-1544c171cf1d"
      },
      "source": [
        "import statsmodels.api as smf\n",
        "features = ['BHK_NO.',  'RESALE','RERA',\n",
        "      #  , 'POSTED_BY_Dealer', ,'SQUARE_FT', 'UNDER_CONSTRUCTION'\n",
        "       'citynames_Lalitpur', 'citynames_Maharashtra', 'citynames_Mumbai',\n",
        "       'citynames_Pune','citynames_Bangalore']\n",
        "olsmodel3 = smf.OLS(new['TARGET(PRICE_IN_LACS)'],new[features]).fit()\n",
        "print(olsmodel3.summary())"
      ],
      "id": "iuK6MlCF_Nme",
      "execution_count": 27,
      "outputs": [
        {
          "output_type": "stream",
          "name": "stdout",
          "text": [
            "                                  OLS Regression Results                                  \n",
            "==========================================================================================\n",
            "Dep. Variable:     TARGET(PRICE_IN_LACS)   R-squared (uncentered):                   0.765\n",
            "Model:                               OLS   Adj. R-squared (uncentered):              0.765\n",
            "Method:                    Least Squares   F-statistic:                              7717.\n",
            "Date:                   Mon, 11 Oct 2021   Prob (F-statistic):                        0.00\n",
            "Time:                           21:30:07   Log-Likelihood:                     -1.0501e+05\n",
            "No. Observations:                  18950   AIC:                                  2.100e+05\n",
            "Df Residuals:                      18942   BIC:                                  2.101e+05\n",
            "Df Model:                              8                                                  \n",
            "Covariance Type:               nonrobust                                                  \n",
            "=========================================================================================\n",
            "                            coef    std err          t      P>|t|      [0.025      0.975]\n",
            "-----------------------------------------------------------------------------------------\n",
            "BHK_NO.                  44.5431      0.476     93.605      0.000      43.610      45.476\n",
            "RESALE                  -34.2010      1.247    -27.432      0.000     -36.645     -31.757\n",
            "RERA                     -5.0492      0.966     -5.225      0.000      -6.943      -3.155\n",
            "citynames_Lalitpur       79.8197      1.376     58.013      0.000      77.123      82.517\n",
            "citynames_Maharashtra    80.4611      1.764     45.602      0.000      77.003      83.920\n",
            "citynames_Mumbai         85.8803      1.606     53.488      0.000      82.733      89.027\n",
            "citynames_Pune           22.4988      1.580     14.243      0.000      19.403      25.595\n",
            "citynames_Bangalore      18.0390      1.195     15.090      0.000      15.696      20.382\n",
            "==============================================================================\n",
            "Omnibus:                     7060.442   Durbin-Watson:                   1.980\n",
            "Prob(Omnibus):                  0.000   Jarque-Bera (JB):            35609.622\n",
            "Skew:                           1.741   Prob(JB):                         0.00\n",
            "Kurtosis:                       8.742   Cond. No.                         13.0\n",
            "==============================================================================\n",
            "\n",
            "Warnings:\n",
            "[1] Standard Errors assume that the covariance matrix of the errors is correctly specified.\n"
          ]
        }
      ]
    },
    {
      "cell_type": "markdown",
      "metadata": {
        "id": "8U78JmtwXH2W"
      },
      "source": [
        "Training the Model on the features obtained form above report and check the predictions obtained from it."
      ],
      "id": "8U78JmtwXH2W"
    },
    {
      "cell_type": "code",
      "metadata": {
        "id": "9-m2hTM6DD7X"
      },
      "source": [
        "newT = new.drop(columns='TARGET(PRICE_IN_LACS)')"
      ],
      "id": "9-m2hTM6DD7X",
      "execution_count": 28,
      "outputs": []
    },
    {
      "cell_type": "code",
      "metadata": {
        "id": "SBTpF8IynpvB"
      },
      "source": [
        "dXnew= new[features]\n",
        "dynew= new[['TARGET(PRICE_IN_LACS)']]"
      ],
      "id": "SBTpF8IynpvB",
      "execution_count": 29,
      "outputs": []
    },
    {
      "cell_type": "code",
      "metadata": {
        "id": "g1RS4rOMn2Vb"
      },
      "source": [
        "from sklearn.model_selection import train_test_split\n",
        "dX_trainnew,dX_testnew,dy_trainnew,dy_testnew = train_test_split(dXnew,dynew,test_size=0.4,random_state=101)"
      ],
      "id": "g1RS4rOMn2Vb",
      "execution_count": 30,
      "outputs": []
    },
    {
      "cell_type": "code",
      "metadata": {
        "id": "xymOViAQoAwG"
      },
      "source": [
        "from sklearn.preprocessing import StandardScaler\n",
        "std= StandardScaler()\n",
        "scXtrainnew=std.fit_transform(dX_trainnew)\n",
        "scytrainnew=std.fit_transform(dy_trainnew)"
      ],
      "id": "xymOViAQoAwG",
      "execution_count": 31,
      "outputs": []
    },
    {
      "cell_type": "code",
      "metadata": {
        "id": "0ZSrSMSNoLPD"
      },
      "source": [
        "scXtestnew = std.fit_transform(dX_testnew)\n",
        "scytestnew = std.fit_transform(dy_testnew)"
      ],
      "id": "0ZSrSMSNoLPD",
      "execution_count": 32,
      "outputs": []
    },
    {
      "cell_type": "code",
      "metadata": {
        "colab": {
          "base_uri": "https://localhost:8080/"
        },
        "id": "3tsAcmdMoSH4",
        "outputId": "539f71a9-fb91-404b-9982-efdccfd23de9"
      },
      "source": [
        "from sklearn import linear_model\n",
        "dLRnew = linear_model.LinearRegression()\n",
        "dLRnew.fit(scXtrainnew,scytrainnew)\n",
        "print('Linear Regression')\n",
        "print('Training score: ',dLRnew.score(scXtrainnew,scytrainnew))\n",
        "print('Test score: ',dLRnew.score(scXtestnew,scytestnew))"
      ],
      "id": "3tsAcmdMoSH4",
      "execution_count": 33,
      "outputs": [
        {
          "output_type": "stream",
          "name": "stdout",
          "text": [
            "Linear Regression\n",
            "Training score:  0.4581867705576189\n",
            "Test score:  0.47490609458184385\n"
          ]
        }
      ]
    },
    {
      "cell_type": "code",
      "metadata": {
        "colab": {
          "base_uri": "https://localhost:8080/",
          "height": 513
        },
        "id": "rIbA5VMgIrB3",
        "outputId": "6f4af245-8707-46f7-9532-f563e73eff6c"
      },
      "source": [
        "preds = dLRnew.predict(scXtestnew)\n",
        "#pd.DataFrame([[preds,scytestnew]])\n",
        "plt.figure(figsize=(10,8))\n",
        "plt.title('Predictions V/s Actual values')\n",
        "plt.xlabel('Predictions')\n",
        "plt.ylabel('Actual Values')\n",
        "plt.scatter(preds,scytestnew)\n",
        "plt.grid(True)\n",
        "# plt.axvline(x=2, color='red', linestyle='--')\n",
        "# plt.axvline(x=0, color='red', linestyle='--')\n",
        "# plt.axhline(y=0, color='red', linestyle='--')\n",
        "# plt.axhline(y=2, color='red', linestyle='--')"
      ],
      "id": "rIbA5VMgIrB3",
      "execution_count": 40,
      "outputs": [
        {
          "output_type": "display_data",
          "data": {
            "image/png": "[encoded data removed]",
            "text/plain": [
              "<Figure size 720x576 with 1 Axes>"
            ]
          },
          "metadata": {
            "needs_background": "light"
          }
        }
      ]
    },
    {
      "cell_type": "markdown",
      "metadata": {
        "id": "nmBVWf3_S7dC"
      },
      "source": [
        "The graph of Predictions V/s Actual shows \n",
        "Scatter plots of Actual vs Predicted are one of the richest form of data visualization. Ideally, all your points should be close to a regressed diagonal line. So, if the Actual is 0.45, your predicted should be reasonably close to 0.45 to. So, just by drawing such a diagonal line within your graph and checking out where the points lie. If your model had a high R Square, all the points would be close to this diagonal line. The lower the R Square, the weaker the Goodness of fit of your model, the more foggy or dispersed your points are (away from this diagonal line). \n",
        "In our example at first the we can see the overlapping of the dots mostly for lower values till 2. The reason for this can be that there are less house records having higher number of BHK_NO. so the graph then is becoming a little sparse. We can either add more records of housing having more BHK_NO values and check. "
      ],
      "id": "nmBVWf3_S7dC"
    },
    {
      "cell_type": "code",
      "metadata": {
        "id": "JVlrftl9RkgI"
      },
      "source": [
        ""
      ],
      "id": "JVlrftl9RkgI",
      "execution_count": null,
      "outputs": []
    }
  ]
}