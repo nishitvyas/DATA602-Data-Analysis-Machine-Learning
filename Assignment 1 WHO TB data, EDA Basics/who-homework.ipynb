{
 "cells": [
  {
   "cell_type": "markdown",
   "metadata": {},
   "source": [
    "# Homework  \n",
    "Data documentation: https://tidyr.tidyverse.org/reference/who.html\n",
    "\n",
    "Directions: Answer the three questions below. Create as many code/markdown blocks necessary to answer the questions. "
   ]
  },
  {
   "cell_type": "code",
   "execution_count": 1,
   "metadata": {},
   "outputs": [],
   "source": [
    "import pandas as pd\n",
    "import numpy as np\n",
    "import matplotlib.pyplot as plt\n",
    "%matplotlib inline\n",
    "import seaborn as sns\n",
    "\n",
    "df = pd.read_csv('who.csv')"
   ]
  },
  {
   "cell_type": "code",
   "execution_count": 2,
   "metadata": {},
   "outputs": [
    {
     "name": "stdout",
     "output_type": "stream",
     "text": [
      "<class 'pandas.core.frame.DataFrame'>\n",
      "RangeIndex: 7240 entries, 0 to 7239\n",
      "Data columns (total 58 columns):\n",
      " #   Column        Non-Null Count  Dtype  \n",
      "---  ------        --------------  -----  \n",
      " 0   country       7240 non-null   object \n",
      " 1   year          7240 non-null   int64  \n",
      " 2   new_sp_m014   3173 non-null   float64\n",
      " 3   new_sp_m1524  3209 non-null   float64\n",
      " 4   new_sp_m2534  3206 non-null   float64\n",
      " 5   new_sp_m3544  3219 non-null   float64\n",
      " 6   new_sp_m4554  3223 non-null   float64\n",
      " 7   new_sp_m5564  3218 non-null   float64\n",
      " 8   new_sp_m65    3209 non-null   float64\n",
      " 9   new_sp_f014   3174 non-null   float64\n",
      " 10  new_sp_f1524  3194 non-null   float64\n",
      " 11  new_sp_f2534  3200 non-null   float64\n",
      " 12  new_sp_f3544  3199 non-null   float64\n",
      " 13  new_sp_f4554  3204 non-null   float64\n",
      " 14  new_sp_f5564  3195 non-null   float64\n",
      " 15  new_sp_f65    3197 non-null   float64\n",
      " 16  new_sn_m014   1045 non-null   float64\n",
      " 17  new_sn_m1524  1030 non-null   float64\n",
      " 18  new_sn_m2534  1022 non-null   float64\n",
      " 19  new_sn_m3544  1025 non-null   float64\n",
      " 20  new_sn_m4554  1027 non-null   float64\n",
      " 21  new_sn_m5564  1021 non-null   float64\n",
      " 22  new_sn_m65    1020 non-null   float64\n",
      " 23  new_sn_f014   1040 non-null   float64\n",
      " 24  new_sn_f1524  1022 non-null   float64\n",
      " 25  new_sn_f2534  1016 non-null   float64\n",
      " 26  new_sn_f3544  1020 non-null   float64\n",
      " 27  new_sn_f4554  1018 non-null   float64\n",
      " 28  new_sn_f5564  1017 non-null   float64\n",
      " 29  new_sn_f65    1019 non-null   float64\n",
      " 30  new_ep_m014   1038 non-null   float64\n",
      " 31  new_ep_m1524  1026 non-null   float64\n",
      " 32  new_ep_m2534  1020 non-null   float64\n",
      " 33  new_ep_m3544  1024 non-null   float64\n",
      " 34  new_ep_m4554  1020 non-null   float64\n",
      " 35  new_ep_m5564  1015 non-null   float64\n",
      " 36  new_ep_m65    1018 non-null   float64\n",
      " 37  new_ep_f014   1032 non-null   float64\n",
      " 38  new_ep_f1524  1021 non-null   float64\n",
      " 39  new_ep_f2534  1021 non-null   float64\n",
      " 40  new_ep_f3544  1021 non-null   float64\n",
      " 41  new_ep_f4554  1017 non-null   float64\n",
      " 42  new_ep_f5564  1017 non-null   float64\n",
      " 43  new_ep_f65    1014 non-null   float64\n",
      " 44  newrel_m014   190 non-null    float64\n",
      " 45  newrel_m1524  182 non-null    float64\n",
      " 46  newrel_m2534  183 non-null    float64\n",
      " 47  newrel_m3544  184 non-null    float64\n",
      " 48  newrel_m4554  184 non-null    float64\n",
      " 49  newrel_m5564  185 non-null    float64\n",
      " 50  newrel_m65    182 non-null    float64\n",
      " 51  newrel_f014   190 non-null    float64\n",
      " 52  newrel_f1524  184 non-null    float64\n",
      " 53  newrel_f2534  182 non-null    float64\n",
      " 54  newrel_f3544  183 non-null    float64\n",
      " 55  newrel_f4554  183 non-null    float64\n",
      " 56  newrel_f5564  183 non-null    float64\n",
      " 57  newrel_f65    185 non-null    float64\n",
      "dtypes: float64(56), int64(1), object(1)\n",
      "memory usage: 3.2+ MB\n"
     ]
    }
   ],
   "source": [
    "df = df.drop(columns=['iso2', 'iso3'])\n",
    "df.info()"
   ]
  },
  {
   "cell_type": "markdown",
   "metadata": {},
   "source": [
    "#### Question 1. We need to know what's included in this data.\n",
    "- How many countries are present?  \n",
    "- What's the timespan of the data?  \n",
    "- Does each country have a row for every year present?  \n",
    "- Which countries are missing years?  \n",
    "- How many rows have at least 1 non-null values across the columns 3-57?"
   ]
  },
  {
   "cell_type": "code",
   "execution_count": null,
   "metadata": {},
   "outputs": [],
   "source": [
    "# Code"
   ]
  },
  {
   "cell_type": "markdown",
   "metadata": {},
   "source": [
    "#### Question 2: Wide data isn't usually helpful.\n",
    "Convert this to a long format with the following columns:  \n",
    "1. country  \n",
    "2. year  \n",
    "3. diagnosis method: mapping should be: \n",
    "\n",
    "  {'newsp':'Pulmonary Smear (+)'\n",
    "  ,'newsn':'Pulmonary Smear (-)'\n",
    "  ,'newep':'Extrapulmonary'\n",
    "  ,'newrel':'Relapse'}   \n",
    "  \n",
    "\n",
    "4. gender: male or female.   \n",
    "5. age: lower_age - higher_age, e.g., 0-14  \n",
    "6. number of cases  "
   ]
  },
  {
   "cell_type": "code",
   "execution_count": null,
   "metadata": {},
   "outputs": [],
   "source": [
    "# Code"
   ]
  },
  {
   "cell_type": "markdown",
   "metadata": {},
   "source": [
    "#### Question 3: Create a graph that shows when countries started to report TB cases."
   ]
  },
  {
   "cell_type": "code",
   "execution_count": null,
   "metadata": {},
   "outputs": [],
   "source": [
    "# Code"
   ]
  }
 ],
 "metadata": {
  "kernelspec": {
   "display_name": "Python 3.7.3 64-bit ('base': conda)",
   "language": "python",
   "name": "python37364bitbaseconda3e66817595a24f3b851fad3315f1c145"
  },
  "language_info": {
   "codemirror_mode": {
    "name": "ipython",
    "version": 3
   },
   "file_extension": ".py",
   "mimetype": "text/x-python",
   "name": "python",
   "nbconvert_exporter": "python",
   "pygments_lexer": "ipython3",
   "version": "3.7.3"
  }
 },
 "nbformat": 4,
 "nbformat_minor": 4
}
