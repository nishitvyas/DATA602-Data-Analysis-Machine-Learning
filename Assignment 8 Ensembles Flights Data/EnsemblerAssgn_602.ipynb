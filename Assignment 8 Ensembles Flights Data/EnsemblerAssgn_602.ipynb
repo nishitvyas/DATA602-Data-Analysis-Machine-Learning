{
  "nbformat": 4,
  "nbformat_minor": 0,
  "metadata": {
    "colab": {
      "name": "EnsemblerAssgn-602.ipynb",
      "provenance": [],
      "collapsed_sections": []
    },
    "kernelspec": {
      "name": "python3",
      "display_name": "Python 3"
    },
    "language_info": {
      "name": "python"
    }
  },
  "cells": [
    {
      "cell_type": "code",
      "metadata": {
        "id": "q9yc-_V1c5_S"
      },
      "source": [
        "import numpy as np\n",
        "import pandas as pd\n",
        "import matplotlib.pyplot as plt\n",
        "%matplotlib inline\n",
        "import seaborn as sns"
      ],
      "execution_count": 1,
      "outputs": []
    },
    {
      "cell_type": "code",
      "metadata": {
        "colab": {
          "base_uri": "https://localhost:8080/",
          "height": 425
        },
        "id": "JOjmndFYdFWn",
        "outputId": "ff15455d-2b40-400d-8730-3b0841fd76aa"
      },
      "source": [
        "flightsDf = pd.read_csv('/content/flight-data.csv')\n",
        "flightsDf.head()"
      ],
      "execution_count": 2,
      "outputs": [
        {
          "output_type": "execute_result",
          "data": {
            "text/html": [
              "<div>\n",
              "<style scoped>\n",
              "    .dataframe tbody tr th:only-of-type {\n",
              "        vertical-align: middle;\n",
              "    }\n",
              "\n",
              "    .dataframe tbody tr th {\n",
              "        vertical-align: top;\n",
              "    }\n",
              "\n",
              "    .dataframe thead th {\n",
              "        text-align: right;\n",
              "    }\n",
              "</style>\n",
              "<table border=\"1\" class=\"dataframe\">\n",
              "  <thead>\n",
              "    <tr style=\"text-align: right;\">\n",
              "      <th></th>\n",
              "      <th>carrier</th>\n",
              "      <th>flight</th>\n",
              "      <th>tailnum</th>\n",
              "      <th>origin</th>\n",
              "      <th>dest</th>\n",
              "      <th>air_time</th>\n",
              "      <th>distance</th>\n",
              "      <th>hour</th>\n",
              "      <th>minute</th>\n",
              "      <th>temp</th>\n",
              "      <th>dewp</th>\n",
              "      <th>humid</th>\n",
              "      <th>wind_dir</th>\n",
              "      <th>wind_speed</th>\n",
              "      <th>wind_gust</th>\n",
              "      <th>precip</th>\n",
              "      <th>pressure</th>\n",
              "      <th>visib</th>\n",
              "      <th>type</th>\n",
              "      <th>manufacturer</th>\n",
              "      <th>model</th>\n",
              "      <th>engines</th>\n",
              "      <th>seats</th>\n",
              "      <th>engine</th>\n",
              "      <th>arr_delay</th>\n",
              "    </tr>\n",
              "  </thead>\n",
              "  <tbody>\n",
              "    <tr>\n",
              "      <th>0</th>\n",
              "      <td>B6</td>\n",
              "      <td>1201</td>\n",
              "      <td>N643JB</td>\n",
              "      <td>JFK</td>\n",
              "      <td>FLL</td>\n",
              "      <td>135.0</td>\n",
              "      <td>1069</td>\n",
              "      <td>21</td>\n",
              "      <td>50</td>\n",
              "      <td>73.04</td>\n",
              "      <td>66.92</td>\n",
              "      <td>81.14</td>\n",
              "      <td>160.0</td>\n",
              "      <td>13.80936</td>\n",
              "      <td>19.56326</td>\n",
              "      <td>0.0</td>\n",
              "      <td>1019.4</td>\n",
              "      <td>10.0</td>\n",
              "      <td>Fixed wing multi engine</td>\n",
              "      <td>AIRBUS</td>\n",
              "      <td>A320-232</td>\n",
              "      <td>2.0</td>\n",
              "      <td>200.0</td>\n",
              "      <td>Turbo-fan</td>\n",
              "      <td>1.0</td>\n",
              "    </tr>\n",
              "    <tr>\n",
              "      <th>1</th>\n",
              "      <td>DL</td>\n",
              "      <td>1773</td>\n",
              "      <td>N3743H</td>\n",
              "      <td>JFK</td>\n",
              "      <td>LAS</td>\n",
              "      <td>287.0</td>\n",
              "      <td>2248</td>\n",
              "      <td>15</td>\n",
              "      <td>35</td>\n",
              "      <td>71.06</td>\n",
              "      <td>42.98</td>\n",
              "      <td>36.28</td>\n",
              "      <td>230.0</td>\n",
              "      <td>14.96014</td>\n",
              "      <td>NaN</td>\n",
              "      <td>0.0</td>\n",
              "      <td>1020.4</td>\n",
              "      <td>10.0</td>\n",
              "      <td>Fixed wing multi engine</td>\n",
              "      <td>BOEING</td>\n",
              "      <td>737-832</td>\n",
              "      <td>2.0</td>\n",
              "      <td>189.0</td>\n",
              "      <td>Turbo-jet</td>\n",
              "      <td>0.0</td>\n",
              "    </tr>\n",
              "    <tr>\n",
              "      <th>2</th>\n",
              "      <td>EV</td>\n",
              "      <td>4572</td>\n",
              "      <td>N11107</td>\n",
              "      <td>EWR</td>\n",
              "      <td>GSP</td>\n",
              "      <td>84.0</td>\n",
              "      <td>594</td>\n",
              "      <td>15</td>\n",
              "      <td>9</td>\n",
              "      <td>78.80</td>\n",
              "      <td>69.80</td>\n",
              "      <td>73.95</td>\n",
              "      <td>200.0</td>\n",
              "      <td>8.05546</td>\n",
              "      <td>NaN</td>\n",
              "      <td>0.0</td>\n",
              "      <td>NaN</td>\n",
              "      <td>5.0</td>\n",
              "      <td>Fixed wing multi engine</td>\n",
              "      <td>EMBRAER</td>\n",
              "      <td>EMB-145XR</td>\n",
              "      <td>2.0</td>\n",
              "      <td>55.0</td>\n",
              "      <td>Turbo-fan</td>\n",
              "      <td>1.0</td>\n",
              "    </tr>\n",
              "    <tr>\n",
              "      <th>3</th>\n",
              "      <td>B6</td>\n",
              "      <td>179</td>\n",
              "      <td>N526JB</td>\n",
              "      <td>JFK</td>\n",
              "      <td>PHX</td>\n",
              "      <td>305.0</td>\n",
              "      <td>2153</td>\n",
              "      <td>17</td>\n",
              "      <td>35</td>\n",
              "      <td>44.06</td>\n",
              "      <td>14.00</td>\n",
              "      <td>29.23</td>\n",
              "      <td>270.0</td>\n",
              "      <td>17.26170</td>\n",
              "      <td>24.16638</td>\n",
              "      <td>0.0</td>\n",
              "      <td>1009.2</td>\n",
              "      <td>10.0</td>\n",
              "      <td>NaN</td>\n",
              "      <td>NaN</td>\n",
              "      <td>NaN</td>\n",
              "      <td>NaN</td>\n",
              "      <td>NaN</td>\n",
              "      <td>NaN</td>\n",
              "      <td>1.0</td>\n",
              "    </tr>\n",
              "    <tr>\n",
              "      <th>4</th>\n",
              "      <td>US</td>\n",
              "      <td>1733</td>\n",
              "      <td>N162UW</td>\n",
              "      <td>LGA</td>\n",
              "      <td>CLT</td>\n",
              "      <td>78.0</td>\n",
              "      <td>544</td>\n",
              "      <td>7</td>\n",
              "      <td>53</td>\n",
              "      <td>69.98</td>\n",
              "      <td>53.96</td>\n",
              "      <td>56.78</td>\n",
              "      <td>230.0</td>\n",
              "      <td>6.90468</td>\n",
              "      <td>NaN</td>\n",
              "      <td>0.0</td>\n",
              "      <td>1021.3</td>\n",
              "      <td>10.0</td>\n",
              "      <td>Fixed wing multi engine</td>\n",
              "      <td>AIRBUS INDUSTRIE</td>\n",
              "      <td>A321-211</td>\n",
              "      <td>2.0</td>\n",
              "      <td>199.0</td>\n",
              "      <td>Turbo-jet</td>\n",
              "      <td>0.0</td>\n",
              "    </tr>\n",
              "  </tbody>\n",
              "</table>\n",
              "</div>"
            ],
            "text/plain": [
              "  carrier  flight tailnum origin  ... engines  seats     engine  arr_delay\n",
              "0      B6    1201  N643JB    JFK  ...     2.0  200.0  Turbo-fan        1.0\n",
              "1      DL    1773  N3743H    JFK  ...     2.0  189.0  Turbo-jet        0.0\n",
              "2      EV    4572  N11107    EWR  ...     2.0   55.0  Turbo-fan        1.0\n",
              "3      B6     179  N526JB    JFK  ...     NaN    NaN        NaN        1.0\n",
              "4      US    1733  N162UW    LGA  ...     2.0  199.0  Turbo-jet        0.0\n",
              "\n",
              "[5 rows x 25 columns]"
            ]
          },
          "metadata": {},
          "execution_count": 2
        }
      ]
    },
    {
      "cell_type": "code",
      "metadata": {
        "colab": {
          "base_uri": "https://localhost:8080/"
        },
        "id": "dtsSWoaOkMaF",
        "outputId": "8a1de781-8a17-4e9f-c4a6-614b6f3e6b10"
      },
      "source": [
        "flightsDf.wind_dir.value_counts()"
      ],
      "execution_count": 3,
      "outputs": [
        {
          "output_type": "execute_result",
          "data": {
            "text/plain": [
              "310.0    520\n",
              "260.0    414\n",
              "180.0    413\n",
              "230.0    409\n",
              "0.0      395\n",
              "320.0    392\n",
              "300.0    391\n",
              "190.0    372\n",
              "330.0    347\n",
              "270.0    332\n",
              "50.0     328\n",
              "240.0    326\n",
              "220.0    318\n",
              "280.0    310\n",
              "250.0    297\n",
              "290.0    289\n",
              "40.0     284\n",
              "170.0    283\n",
              "210.0    249\n",
              "340.0    238\n",
              "360.0    231\n",
              "200.0    229\n",
              "60.0     228\n",
              "20.0     218\n",
              "350.0    198\n",
              "160.0    193\n",
              "140.0    188\n",
              "10.0     188\n",
              "150.0    169\n",
              "30.0     159\n",
              "100.0    133\n",
              "70.0     122\n",
              "120.0    117\n",
              "90.0     116\n",
              "80.0     114\n",
              "130.0    114\n",
              "110.0    107\n",
              "Name: wind_dir, dtype: int64"
            ]
          },
          "metadata": {},
          "execution_count": 3
        }
      ]
    },
    {
      "cell_type": "code",
      "metadata": {
        "colab": {
          "base_uri": "https://localhost:8080/"
        },
        "id": "BBSp159pdy_b",
        "outputId": "a2c6d5c4-2c54-4cc9-8e1b-f8713867dfbd"
      },
      "source": [
        "flightsDf.info()"
      ],
      "execution_count": 4,
      "outputs": [
        {
          "output_type": "stream",
          "name": "stdout",
          "text": [
            "<class 'pandas.core.frame.DataFrame'>\n",
            "RangeIndex: 10000 entries, 0 to 9999\n",
            "Data columns (total 25 columns):\n",
            " #   Column        Non-Null Count  Dtype  \n",
            "---  ------        --------------  -----  \n",
            " 0   carrier       10000 non-null  object \n",
            " 1   flight        10000 non-null  int64  \n",
            " 2   tailnum       9926 non-null   object \n",
            " 3   origin        10000 non-null  object \n",
            " 4   dest          10000 non-null  object \n",
            " 5   air_time      9716 non-null   float64\n",
            " 6   distance      10000 non-null  int64  \n",
            " 7   hour          10000 non-null  int64  \n",
            " 8   minute        10000 non-null  int64  \n",
            " 9   temp          9952 non-null   float64\n",
            " 10  dewp          9952 non-null   float64\n",
            " 11  humid         9952 non-null   float64\n",
            " 12  wind_dir      9731 non-null   float64\n",
            " 13  wind_speed    9951 non-null   float64\n",
            " 14  wind_gust     2387 non-null   float64\n",
            " 15  precip        9954 non-null   float64\n",
            " 16  pressure      8808 non-null   float64\n",
            " 17  visib         9954 non-null   float64\n",
            " 18  type          8499 non-null   object \n",
            " 19  manufacturer  8499 non-null   object \n",
            " 20  model         8499 non-null   object \n",
            " 21  engines       8499 non-null   float64\n",
            " 22  seats         8499 non-null   float64\n",
            " 23  engine        8499 non-null   object \n",
            " 24  arr_delay     9716 non-null   float64\n",
            "dtypes: float64(13), int64(4), object(8)\n",
            "memory usage: 1.9+ MB\n"
          ]
        }
      ]
    },
    {
      "cell_type": "code",
      "metadata": {
        "colab": {
          "base_uri": "https://localhost:8080/",
          "height": 573
        },
        "id": "2bdS4fM4fFtd",
        "outputId": "474ffab9-6d48-4e83-9208-a97d19abbad8"
      },
      "source": [
        "flightsDf.describe().T"
      ],
      "execution_count": 5,
      "outputs": [
        {
          "output_type": "execute_result",
          "data": {
            "text/html": [
              "<div>\n",
              "<style scoped>\n",
              "    .dataframe tbody tr th:only-of-type {\n",
              "        vertical-align: middle;\n",
              "    }\n",
              "\n",
              "    .dataframe tbody tr th {\n",
              "        vertical-align: top;\n",
              "    }\n",
              "\n",
              "    .dataframe thead th {\n",
              "        text-align: right;\n",
              "    }\n",
              "</style>\n",
              "<table border=\"1\" class=\"dataframe\">\n",
              "  <thead>\n",
              "    <tr style=\"text-align: right;\">\n",
              "      <th></th>\n",
              "      <th>count</th>\n",
              "      <th>mean</th>\n",
              "      <th>std</th>\n",
              "      <th>min</th>\n",
              "      <th>25%</th>\n",
              "      <th>50%</th>\n",
              "      <th>75%</th>\n",
              "      <th>max</th>\n",
              "    </tr>\n",
              "  </thead>\n",
              "  <tbody>\n",
              "    <tr>\n",
              "      <th>flight</th>\n",
              "      <td>10000.0</td>\n",
              "      <td>1993.785200</td>\n",
              "      <td>1637.565161</td>\n",
              "      <td>1.00000</td>\n",
              "      <td>580.75000</td>\n",
              "      <td>1511.00000</td>\n",
              "      <td>3514.25000</td>\n",
              "      <td>6181.00000</td>\n",
              "    </tr>\n",
              "    <tr>\n",
              "      <th>air_time</th>\n",
              "      <td>9716.0</td>\n",
              "      <td>149.771099</td>\n",
              "      <td>92.714630</td>\n",
              "      <td>21.00000</td>\n",
              "      <td>81.00000</td>\n",
              "      <td>130.00000</td>\n",
              "      <td>191.00000</td>\n",
              "      <td>648.00000</td>\n",
              "    </tr>\n",
              "    <tr>\n",
              "      <th>distance</th>\n",
              "      <td>10000.0</td>\n",
              "      <td>1033.036700</td>\n",
              "      <td>722.747763</td>\n",
              "      <td>80.00000</td>\n",
              "      <td>502.00000</td>\n",
              "      <td>872.00000</td>\n",
              "      <td>1389.00000</td>\n",
              "      <td>4983.00000</td>\n",
              "    </tr>\n",
              "    <tr>\n",
              "      <th>hour</th>\n",
              "      <td>10000.0</td>\n",
              "      <td>13.185300</td>\n",
              "      <td>4.691094</td>\n",
              "      <td>5.00000</td>\n",
              "      <td>9.00000</td>\n",
              "      <td>13.00000</td>\n",
              "      <td>17.00000</td>\n",
              "      <td>23.00000</td>\n",
              "    </tr>\n",
              "    <tr>\n",
              "      <th>minute</th>\n",
              "      <td>10000.0</td>\n",
              "      <td>26.405800</td>\n",
              "      <td>19.286677</td>\n",
              "      <td>0.00000</td>\n",
              "      <td>9.00000</td>\n",
              "      <td>29.00000</td>\n",
              "      <td>45.00000</td>\n",
              "      <td>59.00000</td>\n",
              "    </tr>\n",
              "    <tr>\n",
              "      <th>temp</th>\n",
              "      <td>9952.0</td>\n",
              "      <td>56.885289</td>\n",
              "      <td>17.967138</td>\n",
              "      <td>10.94000</td>\n",
              "      <td>42.08000</td>\n",
              "      <td>57.02000</td>\n",
              "      <td>71.96000</td>\n",
              "      <td>100.04000</td>\n",
              "    </tr>\n",
              "    <tr>\n",
              "      <th>dewp</th>\n",
              "      <td>9952.0</td>\n",
              "      <td>41.578652</td>\n",
              "      <td>19.360524</td>\n",
              "      <td>-9.04000</td>\n",
              "      <td>26.06000</td>\n",
              "      <td>42.80000</td>\n",
              "      <td>57.92000</td>\n",
              "      <td>78.08000</td>\n",
              "    </tr>\n",
              "    <tr>\n",
              "      <th>humid</th>\n",
              "      <td>9952.0</td>\n",
              "      <td>59.699401</td>\n",
              "      <td>19.713338</td>\n",
              "      <td>12.74000</td>\n",
              "      <td>43.92000</td>\n",
              "      <td>57.99000</td>\n",
              "      <td>75.69000</td>\n",
              "      <td>100.00000</td>\n",
              "    </tr>\n",
              "    <tr>\n",
              "      <th>wind_dir</th>\n",
              "      <td>9731.0</td>\n",
              "      <td>199.824273</td>\n",
              "      <td>106.234823</td>\n",
              "      <td>0.00000</td>\n",
              "      <td>120.00000</td>\n",
              "      <td>220.00000</td>\n",
              "      <td>290.00000</td>\n",
              "      <td>360.00000</td>\n",
              "    </tr>\n",
              "    <tr>\n",
              "      <th>wind_speed</th>\n",
              "      <td>9951.0</td>\n",
              "      <td>11.082228</td>\n",
              "      <td>5.635370</td>\n",
              "      <td>0.00000</td>\n",
              "      <td>6.90468</td>\n",
              "      <td>10.35702</td>\n",
              "      <td>14.96014</td>\n",
              "      <td>42.57886</td>\n",
              "    </tr>\n",
              "    <tr>\n",
              "      <th>wind_gust</th>\n",
              "      <td>2387.0</td>\n",
              "      <td>25.296430</td>\n",
              "      <td>6.143810</td>\n",
              "      <td>16.11092</td>\n",
              "      <td>20.71404</td>\n",
              "      <td>24.16638</td>\n",
              "      <td>28.76950</td>\n",
              "      <td>66.74524</td>\n",
              "    </tr>\n",
              "    <tr>\n",
              "      <th>precip</th>\n",
              "      <td>9954.0</td>\n",
              "      <td>0.004574</td>\n",
              "      <td>0.033679</td>\n",
              "      <td>0.00000</td>\n",
              "      <td>0.00000</td>\n",
              "      <td>0.00000</td>\n",
              "      <td>0.00000</td>\n",
              "      <td>1.21000</td>\n",
              "    </tr>\n",
              "    <tr>\n",
              "      <th>pressure</th>\n",
              "      <td>8808.0</td>\n",
              "      <td>1017.805722</td>\n",
              "      <td>7.545151</td>\n",
              "      <td>985.00000</td>\n",
              "      <td>1012.70000</td>\n",
              "      <td>1017.50000</td>\n",
              "      <td>1022.70000</td>\n",
              "      <td>1042.10000</td>\n",
              "    </tr>\n",
              "    <tr>\n",
              "      <th>visib</th>\n",
              "      <td>9954.0</td>\n",
              "      <td>9.237887</td>\n",
              "      <td>2.043394</td>\n",
              "      <td>0.06000</td>\n",
              "      <td>10.00000</td>\n",
              "      <td>10.00000</td>\n",
              "      <td>10.00000</td>\n",
              "      <td>10.00000</td>\n",
              "    </tr>\n",
              "    <tr>\n",
              "      <th>engines</th>\n",
              "      <td>8499.0</td>\n",
              "      <td>1.993293</td>\n",
              "      <td>0.097400</td>\n",
              "      <td>1.00000</td>\n",
              "      <td>2.00000</td>\n",
              "      <td>2.00000</td>\n",
              "      <td>2.00000</td>\n",
              "      <td>4.00000</td>\n",
              "    </tr>\n",
              "    <tr>\n",
              "      <th>seats</th>\n",
              "      <td>8499.0</td>\n",
              "      <td>135.897870</td>\n",
              "      <td>72.402517</td>\n",
              "      <td>2.00000</td>\n",
              "      <td>55.00000</td>\n",
              "      <td>149.00000</td>\n",
              "      <td>189.00000</td>\n",
              "      <td>400.00000</td>\n",
              "    </tr>\n",
              "    <tr>\n",
              "      <th>arr_delay</th>\n",
              "      <td>9716.0</td>\n",
              "      <td>0.410045</td>\n",
              "      <td>0.491867</td>\n",
              "      <td>0.00000</td>\n",
              "      <td>0.00000</td>\n",
              "      <td>0.00000</td>\n",
              "      <td>1.00000</td>\n",
              "      <td>1.00000</td>\n",
              "    </tr>\n",
              "  </tbody>\n",
              "</table>\n",
              "</div>"
            ],
            "text/plain": [
              "              count         mean  ...         75%         max\n",
              "flight      10000.0  1993.785200  ...  3514.25000  6181.00000\n",
              "air_time     9716.0   149.771099  ...   191.00000   648.00000\n",
              "distance    10000.0  1033.036700  ...  1389.00000  4983.00000\n",
              "hour        10000.0    13.185300  ...    17.00000    23.00000\n",
              "minute      10000.0    26.405800  ...    45.00000    59.00000\n",
              "temp         9952.0    56.885289  ...    71.96000   100.04000\n",
              "dewp         9952.0    41.578652  ...    57.92000    78.08000\n",
              "humid        9952.0    59.699401  ...    75.69000   100.00000\n",
              "wind_dir     9731.0   199.824273  ...   290.00000   360.00000\n",
              "wind_speed   9951.0    11.082228  ...    14.96014    42.57886\n",
              "wind_gust    2387.0    25.296430  ...    28.76950    66.74524\n",
              "precip       9954.0     0.004574  ...     0.00000     1.21000\n",
              "pressure     8808.0  1017.805722  ...  1022.70000  1042.10000\n",
              "visib        9954.0     9.237887  ...    10.00000    10.00000\n",
              "engines      8499.0     1.993293  ...     2.00000     4.00000\n",
              "seats        8499.0   135.897870  ...   189.00000   400.00000\n",
              "arr_delay    9716.0     0.410045  ...     1.00000     1.00000\n",
              "\n",
              "[17 rows x 8 columns]"
            ]
          },
          "metadata": {},
          "execution_count": 5
        }
      ]
    },
    {
      "cell_type": "code",
      "metadata": {
        "colab": {
          "base_uri": "https://localhost:8080/"
        },
        "id": "vl97NQYjitjt",
        "outputId": "665af09b-c42d-4398-b6c4-15f287aea9c3"
      },
      "source": [
        "flightsDf.columns"
      ],
      "execution_count": 6,
      "outputs": [
        {
          "output_type": "execute_result",
          "data": {
            "text/plain": [
              "Index(['carrier', 'flight', 'tailnum', 'origin', 'dest', 'air_time',\n",
              "       'distance', 'hour', 'minute', 'temp', 'dewp', 'humid', 'wind_dir',\n",
              "       'wind_speed', 'wind_gust', 'precip', 'pressure', 'visib', 'type',\n",
              "       'manufacturer', 'model', 'engines', 'seats', 'engine', 'arr_delay'],\n",
              "      dtype='object')"
            ]
          },
          "metadata": {},
          "execution_count": 6
        }
      ]
    },
    {
      "cell_type": "code",
      "metadata": {
        "colab": {
          "base_uri": "https://localhost:8080/",
          "height": 499
        },
        "id": "FcTVuJg8vf5n",
        "outputId": "5504b5f9-5c73-4d28-dbe1-b521676808b4"
      },
      "source": [
        "flightsDf[['temp', 'dewp', 'humid', 'wind_dir',\n",
        "       'wind_speed', 'wind_gust', 'precip', 'pressure', 'visib']].hist(figsize=(10,8))\n",
        "plt.show()"
      ],
      "execution_count": 7,
      "outputs": [
        {
          "output_type": "display_data",
          "data": {
            "image/png": "[encoded data removed]",
            "text/plain": [
              "<Figure size 720x576 with 9 Axes>"
            ]
          },
          "metadata": {
            "needs_background": "light"
          }
        }
      ]
    },
    {
      "cell_type": "code",
      "metadata": {
        "colab": {
          "base_uri": "https://localhost:8080/",
          "height": 499
        },
        "id": "syfPpkyLzML0",
        "outputId": "fe0912fa-de58-4eb8-fc9c-c7b438bff17d"
      },
      "source": [
        "flightsDf[['air_time','distance', 'hour', 'minute']].hist(figsize=(8,8))\n",
        "plt.show()"
      ],
      "execution_count": 8,
      "outputs": [
        {
          "output_type": "display_data",
          "data": {
            "image/png": "[encoded data removed]",
            "text/plain": [
              "<Figure size 576x576 with 4 Axes>"
            ]
          },
          "metadata": {
            "needs_background": "light"
          }
        }
      ]
    },
    {
      "cell_type": "code",
      "metadata": {
        "colab": {
          "base_uri": "https://localhost:8080/"
        },
        "id": "bKl0i7hi2Oup",
        "outputId": "550fd5ec-d206-460f-84e5-9a3257fdf281"
      },
      "source": [
        "flightsDf[['type','manufacturer', 'model', 'engines', 'seats', 'engine']].isna().sum()"
      ],
      "execution_count": 9,
      "outputs": [
        {
          "output_type": "execute_result",
          "data": {
            "text/plain": [
              "type            1501\n",
              "manufacturer    1501\n",
              "model           1501\n",
              "engines         1501\n",
              "seats           1501\n",
              "engine          1501\n",
              "dtype: int64"
            ]
          },
          "metadata": {},
          "execution_count": 9
        }
      ]
    },
    {
      "cell_type": "code",
      "metadata": {
        "id": "2hdWJqUL3cVn",
        "colab": {
          "base_uri": "https://localhost:8080/"
        },
        "outputId": "b3ee91c6-5c58-4557-c3b4-df79be0a387b"
      },
      "source": [
        "cols1 = ['type', 'engines', 'engine']\n",
        "for i in cols1:\n",
        "  print('\\n Column name: ',i)\n",
        "  print('Unique values: ',flightsDf[i].unique())"
      ],
      "execution_count": 10,
      "outputs": [
        {
          "output_type": "stream",
          "name": "stdout",
          "text": [
            "\n",
            " Column name:  type\n",
            "Unique values:  ['Fixed wing multi engine' nan 'Fixed wing single engine' 'Rotorcraft']\n",
            "\n",
            " Column name:  engines\n",
            "Unique values:  [ 2. nan  1.  4.]\n",
            "\n",
            " Column name:  engine\n",
            "Unique values:  ['Turbo-fan' 'Turbo-jet' nan 'Reciprocating' 'Turbo-shaft' 'Turbo-prop'\n",
            " '4 Cycle']\n"
          ]
        }
      ]
    },
    {
      "cell_type": "code",
      "metadata": {
        "colab": {
          "base_uri": "https://localhost:8080/"
        },
        "id": "eiFVYXK27Ntx",
        "outputId": "bd1b7958-ac07-4316-fe85-d9cc436e7940"
      },
      "source": [
        "flightsDf['arr_delay'].value_counts()"
      ],
      "execution_count": 11,
      "outputs": [
        {
          "output_type": "execute_result",
          "data": {
            "text/plain": [
              "0.0    5732\n",
              "1.0    3984\n",
              "Name: arr_delay, dtype: int64"
            ]
          },
          "metadata": {},
          "execution_count": 11
        }
      ]
    },
    {
      "cell_type": "code",
      "metadata": {
        "colab": {
          "base_uri": "https://localhost:8080/"
        },
        "id": "Vzw0CDV1he90",
        "outputId": "cd63e81d-0dbd-4222-b4cd-a964bdf17a8f"
      },
      "source": [
        "flightsDf['arr_delay'].unique()"
      ],
      "execution_count": 12,
      "outputs": [
        {
          "output_type": "execute_result",
          "data": {
            "text/plain": [
              "array([ 1.,  0., nan])"
            ]
          },
          "metadata": {},
          "execution_count": 12
        }
      ]
    },
    {
      "cell_type": "code",
      "metadata": {
        "colab": {
          "base_uri": "https://localhost:8080/"
        },
        "id": "-QCxyuB_g3or",
        "outputId": "e9828c68-c620-4ddd-d300-b182bd4b657c"
      },
      "source": [
        "flightsDfUnLabeled = flightsDf[flightsDf['arr_delay'].isnull()]\n",
        "flightsDfUnLabeled.shape"
      ],
      "execution_count": 13,
      "outputs": [
        {
          "output_type": "execute_result",
          "data": {
            "text/plain": [
              "(284, 25)"
            ]
          },
          "metadata": {},
          "execution_count": 13
        }
      ]
    },
    {
      "cell_type": "code",
      "metadata": {
        "colab": {
          "base_uri": "https://localhost:8080/"
        },
        "id": "uXQBSlwOiBj9",
        "outputId": "4eab2618-d5ee-4a95-d78d-09e8d3a2ca3e"
      },
      "source": [
        "flightsDfLabeled= flightsDf[flightsDf['arr_delay'].notnull()]\n",
        "flightsDfLabeled.shape"
      ],
      "execution_count": 14,
      "outputs": [
        {
          "output_type": "execute_result",
          "data": {
            "text/plain": [
              "(9716, 25)"
            ]
          },
          "metadata": {},
          "execution_count": 14
        }
      ]
    },
    {
      "cell_type": "code",
      "metadata": {
        "colab": {
          "base_uri": "https://localhost:8080/"
        },
        "id": "LrWvPlAWfi_9",
        "outputId": "3eb1e1e7-d7ae-45e5-8566-ca0f53e08e73"
      },
      "source": [
        "flightsDf['carrier'].value_counts()"
      ],
      "execution_count": 15,
      "outputs": [
        {
          "output_type": "execute_result",
          "data": {
            "text/plain": [
              "UA    1729\n",
              "EV    1635\n",
              "B6    1615\n",
              "DL    1440\n",
              "AA     951\n",
              "MQ     758\n",
              "US     630\n",
              "9E     580\n",
              "WN     372\n",
              "VX     131\n",
              "FL      91\n",
              "YV      21\n",
              "F9      18\n",
              "AS      18\n",
              "HA      10\n",
              "OO       1\n",
              "Name: carrier, dtype: int64"
            ]
          },
          "metadata": {},
          "execution_count": 15
        }
      ]
    },
    {
      "cell_type": "code",
      "metadata": {
        "colab": {
          "base_uri": "https://localhost:8080/"
        },
        "id": "RjT-P-LbnVvV",
        "outputId": "c0c9ca94-8a1f-499a-899f-066e8093f589"
      },
      "source": [
        "! pip install siuba"
      ],
      "execution_count": 16,
      "outputs": [
        {
          "output_type": "stream",
          "name": "stdout",
          "text": [
            "Collecting siuba\n",
            "  Downloading siuba-0.0.25-py3-none-any.whl (112 kB)\n",
            "\u001b[?25l\r\u001b[K     |███                             | 10 kB 27.5 MB/s eta 0:00:01\r\u001b[K     |█████▉                          | 20 kB 31.2 MB/s eta 0:00:01\r\u001b[K     |████████▊                       | 30 kB 12.5 MB/s eta 0:00:01\r\u001b[K     |███████████▋                    | 40 kB 9.9 MB/s eta 0:00:01\r\u001b[K     |██████████████▌                 | 51 kB 5.4 MB/s eta 0:00:01\r\u001b[K     |█████████████████▍              | 61 kB 5.9 MB/s eta 0:00:01\r\u001b[K     |████████████████████▎           | 71 kB 5.7 MB/s eta 0:00:01\r\u001b[K     |███████████████████████▏        | 81 kB 6.4 MB/s eta 0:00:01\r\u001b[K     |██████████████████████████▏     | 92 kB 4.9 MB/s eta 0:00:01\r\u001b[K     |█████████████████████████████   | 102 kB 5.3 MB/s eta 0:00:01\r\u001b[K     |████████████████████████████████| 112 kB 5.3 MB/s eta 0:00:01\r\u001b[K     |████████████████████████████████| 112 kB 5.3 MB/s \n",
            "\u001b[?25hRequirement already satisfied: pandas>=0.24.0 in /usr/local/lib/python3.7/dist-packages (from siuba) (1.1.5)\n",
            "Requirement already satisfied: PyYAML>=3.0.0 in /usr/local/lib/python3.7/dist-packages (from siuba) (3.13)\n",
            "Requirement already satisfied: numpy>=1.12.0 in /usr/local/lib/python3.7/dist-packages (from siuba) (1.19.5)\n",
            "Requirement already satisfied: SQLAlchemy>=1.2.19 in /usr/local/lib/python3.7/dist-packages (from siuba) (1.4.26)\n",
            "Requirement already satisfied: python-dateutil>=2.7.3 in /usr/local/lib/python3.7/dist-packages (from pandas>=0.24.0->siuba) (2.8.2)\n",
            "Requirement already satisfied: pytz>=2017.2 in /usr/local/lib/python3.7/dist-packages (from pandas>=0.24.0->siuba) (2018.9)\n",
            "Requirement already satisfied: six>=1.5 in /usr/local/lib/python3.7/dist-packages (from python-dateutil>=2.7.3->pandas>=0.24.0->siuba) (1.15.0)\n",
            "Requirement already satisfied: importlib-metadata in /usr/local/lib/python3.7/dist-packages (from SQLAlchemy>=1.2.19->siuba) (4.8.1)\n",
            "Requirement already satisfied: greenlet!=0.4.17 in /usr/local/lib/python3.7/dist-packages (from SQLAlchemy>=1.2.19->siuba) (1.1.2)\n",
            "Requirement already satisfied: typing-extensions>=3.6.4 in /usr/local/lib/python3.7/dist-packages (from importlib-metadata->SQLAlchemy>=1.2.19->siuba) (3.10.0.2)\n",
            "Requirement already satisfied: zipp>=0.5 in /usr/local/lib/python3.7/dist-packages (from importlib-metadata->SQLAlchemy>=1.2.19->siuba) (3.6.0)\n",
            "Installing collected packages: siuba\n",
            "Successfully installed siuba-0.0.25\n"
          ]
        }
      ]
    },
    {
      "cell_type": "code",
      "metadata": {
        "colab": {
          "base_uri": "https://localhost:8080/"
        },
        "id": "2KL9p8s5nxWi",
        "outputId": "822fb74d-5847-4b5d-a2c5-8d31bc74d984"
      },
      "source": [
        "from siuba.dply.forcats import fct_lump, fct_reorder \n",
        "\n",
        "\n",
        "flightsDf['carrierLumped'] = fct_lump(flightsDf['carrier'], n= 5)\n",
        "\n",
        "flightsDf['carrierLumped'].value_counts()"
      ],
      "execution_count": 17,
      "outputs": [
        {
          "output_type": "execute_result",
          "data": {
            "text/plain": [
              "Other    2630\n",
              "UA       1729\n",
              "EV       1635\n",
              "B6       1615\n",
              "DL       1440\n",
              "AA        951\n",
              "Name: carrierLumped, dtype: int64"
            ]
          },
          "metadata": {},
          "execution_count": 17
        }
      ]
    },
    {
      "cell_type": "code",
      "metadata": {
        "colab": {
          "base_uri": "https://localhost:8080/"
        },
        "id": "TpentV7FgAKA",
        "outputId": "44928dbb-b023-4735-eda1-499408e63ae9"
      },
      "source": [
        "flightsDf['dest'].value_counts()"
      ],
      "execution_count": 18,
      "outputs": [
        {
          "output_type": "execute_result",
          "data": {
            "text/plain": [
              "ATL    518\n",
              "BOS    487\n",
              "LAX    462\n",
              "ORD    461\n",
              "CLT    412\n",
              "      ... \n",
              "EYW      1\n",
              "HDN      1\n",
              "PSP      1\n",
              "MTJ      1\n",
              "ILM      1\n",
              "Name: dest, Length: 101, dtype: int64"
            ]
          },
          "metadata": {},
          "execution_count": 18
        }
      ]
    },
    {
      "cell_type": "code",
      "metadata": {
        "colab": {
          "base_uri": "https://localhost:8080/"
        },
        "id": "F7J-fFknqID8",
        "outputId": "a26f21b0-540d-40b0-c478-1ed2dd95bca8"
      },
      "source": [
        "flightsDf.columns"
      ],
      "execution_count": 19,
      "outputs": [
        {
          "output_type": "execute_result",
          "data": {
            "text/plain": [
              "Index(['carrier', 'flight', 'tailnum', 'origin', 'dest', 'air_time',\n",
              "       'distance', 'hour', 'minute', 'temp', 'dewp', 'humid', 'wind_dir',\n",
              "       'wind_speed', 'wind_gust', 'precip', 'pressure', 'visib', 'type',\n",
              "       'manufacturer', 'model', 'engines', 'seats', 'engine', 'arr_delay',\n",
              "       'carrierLumped'],\n",
              "      dtype='object')"
            ]
          },
          "metadata": {},
          "execution_count": 19
        }
      ]
    },
    {
      "cell_type": "code",
      "metadata": {
        "colab": {
          "base_uri": "https://localhost:8080/"
        },
        "id": "kk75COEyp_Yj",
        "outputId": "acdf640e-1f50-4758-ad6d-658001837b16"
      },
      "source": [
        "flightsDfLabeled['carrierLumped'] = fct_lump(flightsDfLabeled['carrier'], n= 5)\n",
        "flightsDfLabeled.drop(columns=['tailnum','origin', 'dest','manufacturer', 'model','seats','carrier','flight'],axis=1,inplace=True)"
      ],
      "execution_count": 20,
      "outputs": [
        {
          "output_type": "stream",
          "name": "stderr",
          "text": [
            "/usr/local/lib/python3.7/dist-packages/ipykernel_launcher.py:1: SettingWithCopyWarning: \n",
            "A value is trying to be set on a copy of a slice from a DataFrame.\n",
            "Try using .loc[row_indexer,col_indexer] = value instead\n",
            "\n",
            "See the caveats in the documentation: https://pandas.pydata.org/pandas-docs/stable/user_guide/indexing.html#returning-a-view-versus-a-copy\n",
            "  \"\"\"Entry point for launching an IPython kernel.\n",
            "/usr/local/lib/python3.7/dist-packages/pandas/core/frame.py:4174: SettingWithCopyWarning: \n",
            "A value is trying to be set on a copy of a slice from a DataFrame\n",
            "\n",
            "See the caveats in the documentation: https://pandas.pydata.org/pandas-docs/stable/user_guide/indexing.html#returning-a-view-versus-a-copy\n",
            "  errors=errors,\n"
          ]
        }
      ]
    },
    {
      "cell_type": "code",
      "metadata": {
        "colab": {
          "base_uri": "https://localhost:8080/",
          "height": 425
        },
        "id": "AxyiZ4ThqYqB",
        "outputId": "5da91611-2165-4b5d-f09c-a7f2d5365b52"
      },
      "source": [
        "flightsDfLabeled.head()"
      ],
      "execution_count": 21,
      "outputs": [
        {
          "output_type": "execute_result",
          "data": {
            "text/html": [
              "<div>\n",
              "<style scoped>\n",
              "    .dataframe tbody tr th:only-of-type {\n",
              "        vertical-align: middle;\n",
              "    }\n",
              "\n",
              "    .dataframe tbody tr th {\n",
              "        vertical-align: top;\n",
              "    }\n",
              "\n",
              "    .dataframe thead th {\n",
              "        text-align: right;\n",
              "    }\n",
              "</style>\n",
              "<table border=\"1\" class=\"dataframe\">\n",
              "  <thead>\n",
              "    <tr style=\"text-align: right;\">\n",
              "      <th></th>\n",
              "      <th>air_time</th>\n",
              "      <th>distance</th>\n",
              "      <th>hour</th>\n",
              "      <th>minute</th>\n",
              "      <th>temp</th>\n",
              "      <th>dewp</th>\n",
              "      <th>humid</th>\n",
              "      <th>wind_dir</th>\n",
              "      <th>wind_speed</th>\n",
              "      <th>wind_gust</th>\n",
              "      <th>precip</th>\n",
              "      <th>pressure</th>\n",
              "      <th>visib</th>\n",
              "      <th>type</th>\n",
              "      <th>engines</th>\n",
              "      <th>engine</th>\n",
              "      <th>arr_delay</th>\n",
              "      <th>carrierLumped</th>\n",
              "    </tr>\n",
              "  </thead>\n",
              "  <tbody>\n",
              "    <tr>\n",
              "      <th>0</th>\n",
              "      <td>135.0</td>\n",
              "      <td>1069</td>\n",
              "      <td>21</td>\n",
              "      <td>50</td>\n",
              "      <td>73.04</td>\n",
              "      <td>66.92</td>\n",
              "      <td>81.14</td>\n",
              "      <td>160.0</td>\n",
              "      <td>13.80936</td>\n",
              "      <td>19.56326</td>\n",
              "      <td>0.0</td>\n",
              "      <td>1019.4</td>\n",
              "      <td>10.0</td>\n",
              "      <td>Fixed wing multi engine</td>\n",
              "      <td>2.0</td>\n",
              "      <td>Turbo-fan</td>\n",
              "      <td>1.0</td>\n",
              "      <td>B6</td>\n",
              "    </tr>\n",
              "    <tr>\n",
              "      <th>1</th>\n",
              "      <td>287.0</td>\n",
              "      <td>2248</td>\n",
              "      <td>15</td>\n",
              "      <td>35</td>\n",
              "      <td>71.06</td>\n",
              "      <td>42.98</td>\n",
              "      <td>36.28</td>\n",
              "      <td>230.0</td>\n",
              "      <td>14.96014</td>\n",
              "      <td>NaN</td>\n",
              "      <td>0.0</td>\n",
              "      <td>1020.4</td>\n",
              "      <td>10.0</td>\n",
              "      <td>Fixed wing multi engine</td>\n",
              "      <td>2.0</td>\n",
              "      <td>Turbo-jet</td>\n",
              "      <td>0.0</td>\n",
              "      <td>DL</td>\n",
              "    </tr>\n",
              "    <tr>\n",
              "      <th>2</th>\n",
              "      <td>84.0</td>\n",
              "      <td>594</td>\n",
              "      <td>15</td>\n",
              "      <td>9</td>\n",
              "      <td>78.80</td>\n",
              "      <td>69.80</td>\n",
              "      <td>73.95</td>\n",
              "      <td>200.0</td>\n",
              "      <td>8.05546</td>\n",
              "      <td>NaN</td>\n",
              "      <td>0.0</td>\n",
              "      <td>NaN</td>\n",
              "      <td>5.0</td>\n",
              "      <td>Fixed wing multi engine</td>\n",
              "      <td>2.0</td>\n",
              "      <td>Turbo-fan</td>\n",
              "      <td>1.0</td>\n",
              "      <td>EV</td>\n",
              "    </tr>\n",
              "    <tr>\n",
              "      <th>3</th>\n",
              "      <td>305.0</td>\n",
              "      <td>2153</td>\n",
              "      <td>17</td>\n",
              "      <td>35</td>\n",
              "      <td>44.06</td>\n",
              "      <td>14.00</td>\n",
              "      <td>29.23</td>\n",
              "      <td>270.0</td>\n",
              "      <td>17.26170</td>\n",
              "      <td>24.16638</td>\n",
              "      <td>0.0</td>\n",
              "      <td>1009.2</td>\n",
              "      <td>10.0</td>\n",
              "      <td>NaN</td>\n",
              "      <td>NaN</td>\n",
              "      <td>NaN</td>\n",
              "      <td>1.0</td>\n",
              "      <td>B6</td>\n",
              "    </tr>\n",
              "    <tr>\n",
              "      <th>4</th>\n",
              "      <td>78.0</td>\n",
              "      <td>544</td>\n",
              "      <td>7</td>\n",
              "      <td>53</td>\n",
              "      <td>69.98</td>\n",
              "      <td>53.96</td>\n",
              "      <td>56.78</td>\n",
              "      <td>230.0</td>\n",
              "      <td>6.90468</td>\n",
              "      <td>NaN</td>\n",
              "      <td>0.0</td>\n",
              "      <td>1021.3</td>\n",
              "      <td>10.0</td>\n",
              "      <td>Fixed wing multi engine</td>\n",
              "      <td>2.0</td>\n",
              "      <td>Turbo-jet</td>\n",
              "      <td>0.0</td>\n",
              "      <td>Other</td>\n",
              "    </tr>\n",
              "  </tbody>\n",
              "</table>\n",
              "</div>"
            ],
            "text/plain": [
              "   air_time  distance  hour  ...     engine  arr_delay  carrierLumped\n",
              "0     135.0      1069    21  ...  Turbo-fan        1.0             B6\n",
              "1     287.0      2248    15  ...  Turbo-jet        0.0             DL\n",
              "2      84.0       594    15  ...  Turbo-fan        1.0             EV\n",
              "3     305.0      2153    17  ...        NaN        1.0             B6\n",
              "4      78.0       544     7  ...  Turbo-jet        0.0          Other\n",
              "\n",
              "[5 rows x 18 columns]"
            ]
          },
          "metadata": {},
          "execution_count": 21
        }
      ]
    },
    {
      "cell_type": "markdown",
      "metadata": {
        "id": "H18uQwOuOHiG"
      },
      "source": [
        "## Hard Code for Value imputation"
      ]
    },
    {
      "cell_type": "code",
      "metadata": {
        "id": "b_0Na9yXfZcf"
      },
      "source": [
        "flightsDfLabeled.isna().sum()"
      ],
      "execution_count": null,
      "outputs": []
    },
    {
      "cell_type": "code",
      "metadata": {
        "colab": {
          "base_uri": "https://localhost:8080/"
        },
        "id": "LK50UEYoOEwl",
        "outputId": "14ff55fb-1002-4ec8-a979-f66347ea702f"
      },
      "source": [
        "tempMedian = np.median(flightsDfLabeled['temp'].dropna())\n",
        "dewpMedian = np.median(flightsDfLabeled['dewp'].dropna())\n",
        "humidMedian = np.median(flightsDfLabeled['humid'].dropna())\n",
        "windSpeedMedian = np.median(flightsDfLabeled['wind_speed'].dropna())\n",
        "pressureMedian = np.median(flightsDfLabeled['pressure'].dropna())\n",
        "visibMedian = np.median(flightsDfLabeled['visib'].dropna())\n",
        "precipZero = 0\n",
        "windGust = 0\n",
        "flightType = flightsDfLabeled['type'].value_counts().index[0]\n",
        "enginesType = flightsDfLabeled['engines'].value_counts().index[0]\n",
        "engineType = flightsDfLabeled['engine'].value_counts().index[0]\n",
        " \n",
        "print(flightType,' ',enginesType,' ',engineType)"
      ],
      "execution_count": null,
      "outputs": [
        {
          "output_type": "stream",
          "name": "stdout",
          "text": [
            "Fixed wing multi engine   2.0   Turbo-fan\n"
          ]
        }
      ]
    },
    {
      "cell_type": "code",
      "metadata": {
        "colab": {
          "base_uri": "https://localhost:8080/"
        },
        "id": "QLsQLDwWOEwm",
        "outputId": "cf41cb5a-b06b-4ad4-a871-6e14ce3fd33c"
      },
      "source": [
        "flightsDfLabeled.loc[flightsDfLabeled['temp'].isna(),'temp'] = tempMedian\n",
        "flightsDfLabeled.loc[flightsDfLabeled['dewp'].isna(),'dewp'] = dewpMedian\n",
        "flightsDfLabeled.loc[flightsDfLabeled['humid'].isna(),'humid'] = humidMedian\n",
        "flightsDfLabeled.loc[flightsDfLabeled['wind_speed'].isna(),'wind_speed'] = windSpeedMedian\n",
        "flightsDfLabeled.loc[flightsDfLabeled['pressure'].isna(),'pressure'] = pressureMedian\n",
        "flightsDfLabeled.loc[flightsDfLabeled['visib'].isna(),'visib'] =visibMedian\n",
        "flightsDfLabeled.loc[flightsDfLabeled['precip'].isna(),'precip'] = precipZero\n",
        "flightsDfLabeled.loc[flightsDfLabeled['wind_gust'].isna(),'wind_gust'] = windGust\n",
        "\n",
        "flightsDfLabeled.loc[flightsDfLabeled['type'].isna(),'type'] =flightType\n",
        "flightsDfLabeled.loc[flightsDfLabeled['engines'].isna(),'engines'] = enginesType\n",
        "flightsDfLabeled.loc[flightsDfLabeled['engine'].isna(),'engine'] = engineType"
      ],
      "execution_count": null,
      "outputs": [
        {
          "output_type": "stream",
          "name": "stderr",
          "text": [
            "/usr/local/lib/python3.7/dist-packages/pandas/core/indexing.py:1763: SettingWithCopyWarning: \n",
            "A value is trying to be set on a copy of a slice from a DataFrame.\n",
            "Try using .loc[row_indexer,col_indexer] = value instead\n",
            "\n",
            "See the caveats in the documentation: https://pandas.pydata.org/pandas-docs/stable/user_guide/indexing.html#returning-a-view-versus-a-copy\n",
            "  isetter(loc, value)\n"
          ]
        }
      ]
    },
    {
      "cell_type": "code",
      "metadata": {
        "colab": {
          "base_uri": "https://localhost:8080/",
          "height": 274
        },
        "id": "Gu-gO4JAjIOR",
        "outputId": "b5bb1e4a-f6b5-4560-ad5d-addc861f78c2"
      },
      "source": [
        "flightsDfLabeled = pd.get_dummies(data=flightsDfLabeled, columns=['carrierLumped','engine','engines','type'])\n",
        "flightsDfLabeled.head()"
      ],
      "execution_count": 118,
      "outputs": [
        {
          "output_type": "execute_result",
          "data": {
            "text/html": [
              "<div>\n",
              "<style scoped>\n",
              "    .dataframe tbody tr th:only-of-type {\n",
              "        vertical-align: middle;\n",
              "    }\n",
              "\n",
              "    .dataframe tbody tr th {\n",
              "        vertical-align: top;\n",
              "    }\n",
              "\n",
              "    .dataframe thead th {\n",
              "        text-align: right;\n",
              "    }\n",
              "</style>\n",
              "<table border=\"1\" class=\"dataframe\">\n",
              "  <thead>\n",
              "    <tr style=\"text-align: right;\">\n",
              "      <th></th>\n",
              "      <th>air_time</th>\n",
              "      <th>distance</th>\n",
              "      <th>hour</th>\n",
              "      <th>minute</th>\n",
              "      <th>temp</th>\n",
              "      <th>dewp</th>\n",
              "      <th>humid</th>\n",
              "      <th>wind_dir</th>\n",
              "      <th>wind_speed</th>\n",
              "      <th>wind_gust</th>\n",
              "      <th>precip</th>\n",
              "      <th>pressure</th>\n",
              "      <th>visib</th>\n",
              "      <th>arr_delay</th>\n",
              "      <th>carrierLumped_Other</th>\n",
              "      <th>carrierLumped_AA</th>\n",
              "      <th>carrierLumped_B6</th>\n",
              "      <th>carrierLumped_DL</th>\n",
              "      <th>carrierLumped_EV</th>\n",
              "      <th>carrierLumped_UA</th>\n",
              "      <th>engine_4 Cycle</th>\n",
              "      <th>engine_Reciprocating</th>\n",
              "      <th>engine_Turbo-fan</th>\n",
              "      <th>engine_Turbo-jet</th>\n",
              "      <th>engine_Turbo-prop</th>\n",
              "      <th>engine_Turbo-shaft</th>\n",
              "      <th>engines_1.0</th>\n",
              "      <th>engines_2.0</th>\n",
              "      <th>engines_4.0</th>\n",
              "      <th>type_Fixed wing multi engine</th>\n",
              "      <th>type_Fixed wing single engine</th>\n",
              "      <th>type_Rotorcraft</th>\n",
              "    </tr>\n",
              "  </thead>\n",
              "  <tbody>\n",
              "    <tr>\n",
              "      <th>0</th>\n",
              "      <td>135.0</td>\n",
              "      <td>1069</td>\n",
              "      <td>21</td>\n",
              "      <td>50</td>\n",
              "      <td>73.04</td>\n",
              "      <td>66.92</td>\n",
              "      <td>81.14</td>\n",
              "      <td>160.0</td>\n",
              "      <td>13.80936</td>\n",
              "      <td>19.56326</td>\n",
              "      <td>0.0</td>\n",
              "      <td>1019.4</td>\n",
              "      <td>10.0</td>\n",
              "      <td>1.0</td>\n",
              "      <td>0</td>\n",
              "      <td>0</td>\n",
              "      <td>1</td>\n",
              "      <td>0</td>\n",
              "      <td>0</td>\n",
              "      <td>0</td>\n",
              "      <td>0</td>\n",
              "      <td>0</td>\n",
              "      <td>1</td>\n",
              "      <td>0</td>\n",
              "      <td>0</td>\n",
              "      <td>0</td>\n",
              "      <td>0</td>\n",
              "      <td>1</td>\n",
              "      <td>0</td>\n",
              "      <td>1</td>\n",
              "      <td>0</td>\n",
              "      <td>0</td>\n",
              "    </tr>\n",
              "    <tr>\n",
              "      <th>1</th>\n",
              "      <td>287.0</td>\n",
              "      <td>2248</td>\n",
              "      <td>15</td>\n",
              "      <td>35</td>\n",
              "      <td>71.06</td>\n",
              "      <td>42.98</td>\n",
              "      <td>36.28</td>\n",
              "      <td>230.0</td>\n",
              "      <td>14.96014</td>\n",
              "      <td>0.00000</td>\n",
              "      <td>0.0</td>\n",
              "      <td>1020.4</td>\n",
              "      <td>10.0</td>\n",
              "      <td>0.0</td>\n",
              "      <td>0</td>\n",
              "      <td>0</td>\n",
              "      <td>0</td>\n",
              "      <td>1</td>\n",
              "      <td>0</td>\n",
              "      <td>0</td>\n",
              "      <td>0</td>\n",
              "      <td>0</td>\n",
              "      <td>0</td>\n",
              "      <td>1</td>\n",
              "      <td>0</td>\n",
              "      <td>0</td>\n",
              "      <td>0</td>\n",
              "      <td>1</td>\n",
              "      <td>0</td>\n",
              "      <td>1</td>\n",
              "      <td>0</td>\n",
              "      <td>0</td>\n",
              "    </tr>\n",
              "    <tr>\n",
              "      <th>2</th>\n",
              "      <td>84.0</td>\n",
              "      <td>594</td>\n",
              "      <td>15</td>\n",
              "      <td>9</td>\n",
              "      <td>78.80</td>\n",
              "      <td>69.80</td>\n",
              "      <td>73.95</td>\n",
              "      <td>200.0</td>\n",
              "      <td>8.05546</td>\n",
              "      <td>0.00000</td>\n",
              "      <td>0.0</td>\n",
              "      <td>1017.6</td>\n",
              "      <td>5.0</td>\n",
              "      <td>1.0</td>\n",
              "      <td>0</td>\n",
              "      <td>0</td>\n",
              "      <td>0</td>\n",
              "      <td>0</td>\n",
              "      <td>1</td>\n",
              "      <td>0</td>\n",
              "      <td>0</td>\n",
              "      <td>0</td>\n",
              "      <td>1</td>\n",
              "      <td>0</td>\n",
              "      <td>0</td>\n",
              "      <td>0</td>\n",
              "      <td>0</td>\n",
              "      <td>1</td>\n",
              "      <td>0</td>\n",
              "      <td>1</td>\n",
              "      <td>0</td>\n",
              "      <td>0</td>\n",
              "    </tr>\n",
              "    <tr>\n",
              "      <th>3</th>\n",
              "      <td>305.0</td>\n",
              "      <td>2153</td>\n",
              "      <td>17</td>\n",
              "      <td>35</td>\n",
              "      <td>44.06</td>\n",
              "      <td>14.00</td>\n",
              "      <td>29.23</td>\n",
              "      <td>270.0</td>\n",
              "      <td>17.26170</td>\n",
              "      <td>24.16638</td>\n",
              "      <td>0.0</td>\n",
              "      <td>1009.2</td>\n",
              "      <td>10.0</td>\n",
              "      <td>1.0</td>\n",
              "      <td>0</td>\n",
              "      <td>0</td>\n",
              "      <td>1</td>\n",
              "      <td>0</td>\n",
              "      <td>0</td>\n",
              "      <td>0</td>\n",
              "      <td>0</td>\n",
              "      <td>0</td>\n",
              "      <td>1</td>\n",
              "      <td>0</td>\n",
              "      <td>0</td>\n",
              "      <td>0</td>\n",
              "      <td>0</td>\n",
              "      <td>1</td>\n",
              "      <td>0</td>\n",
              "      <td>1</td>\n",
              "      <td>0</td>\n",
              "      <td>0</td>\n",
              "    </tr>\n",
              "    <tr>\n",
              "      <th>4</th>\n",
              "      <td>78.0</td>\n",
              "      <td>544</td>\n",
              "      <td>7</td>\n",
              "      <td>53</td>\n",
              "      <td>69.98</td>\n",
              "      <td>53.96</td>\n",
              "      <td>56.78</td>\n",
              "      <td>230.0</td>\n",
              "      <td>6.90468</td>\n",
              "      <td>0.00000</td>\n",
              "      <td>0.0</td>\n",
              "      <td>1021.3</td>\n",
              "      <td>10.0</td>\n",
              "      <td>0.0</td>\n",
              "      <td>1</td>\n",
              "      <td>0</td>\n",
              "      <td>0</td>\n",
              "      <td>0</td>\n",
              "      <td>0</td>\n",
              "      <td>0</td>\n",
              "      <td>0</td>\n",
              "      <td>0</td>\n",
              "      <td>0</td>\n",
              "      <td>1</td>\n",
              "      <td>0</td>\n",
              "      <td>0</td>\n",
              "      <td>0</td>\n",
              "      <td>1</td>\n",
              "      <td>0</td>\n",
              "      <td>1</td>\n",
              "      <td>0</td>\n",
              "      <td>0</td>\n",
              "    </tr>\n",
              "  </tbody>\n",
              "</table>\n",
              "</div>"
            ],
            "text/plain": [
              "   air_time  distance  ...  type_Fixed wing single engine  type_Rotorcraft\n",
              "0     135.0      1069  ...                              0                0\n",
              "1     287.0      2248  ...                              0                0\n",
              "2      84.0       594  ...                              0                0\n",
              "3     305.0      2153  ...                              0                0\n",
              "4      78.0       544  ...                              0                0\n",
              "\n",
              "[5 rows x 32 columns]"
            ]
          },
          "metadata": {},
          "execution_count": 118
        }
      ]
    },
    {
      "cell_type": "code",
      "metadata": {
        "colab": {
          "base_uri": "https://localhost:8080/"
        },
        "id": "FRO4ouQ7NxqZ",
        "outputId": "bf96610f-efce-453a-d00d-7d0b88df58f6"
      },
      "source": [
        "#Train_Test_Split\n",
        "from sklearn.model_selection import train_test_split\n",
        "X = flightsDfLabeled[[x for x in flightsDfLabeled.columns if x != 'arr_delay']]\n",
        "y=  flightsDfLabeled['arr_delay']\n",
        "X_train, X_test, y_train, y_test = train_test_split(X,y,test_size=0.25,random_state=101)\n",
        "print('Training samples: ',X_train.shape[0])\n",
        "print('Testing samples: ',X_test.shape[0])"
      ],
      "execution_count": 119,
      "outputs": [
        {
          "output_type": "stream",
          "name": "stdout",
          "text": [
            "Training samples:  7287\n",
            "Testing samples:  2429\n"
          ]
        }
      ]
    },
    {
      "cell_type": "markdown",
      "metadata": {
        "id": "Jw6z6ywgvbOs"
      },
      "source": [
        "## Value Imputation"
      ]
    },
    {
      "cell_type": "markdown",
      "metadata": {
        "id": "9P_-4cXqvkt1"
      },
      "source": [
        "## LogisticRegression | DecisionTree | SVM GridSearch"
      ]
    },
    {
      "cell_type": "code",
      "metadata": {
        "id": "2e4I8abtgdjB",
        "colab": {
          "base_uri": "https://localhost:8080/"
        },
        "outputId": "afed65a7-bd4e-4663-c61d-b72979e1b950"
      },
      "source": [
        "flightsDfLabeled.isna().sum()"
      ],
      "execution_count": 109,
      "outputs": [
        {
          "output_type": "execute_result",
          "data": {
            "text/plain": [
              "air_time           0\n",
              "distance           0\n",
              "hour               0\n",
              "minute             0\n",
              "temp               0\n",
              "dewp               0\n",
              "humid              0\n",
              "wind_dir         265\n",
              "wind_speed         0\n",
              "wind_gust          0\n",
              "precip             0\n",
              "pressure           0\n",
              "visib              0\n",
              "type               0\n",
              "engines            0\n",
              "engine             0\n",
              "arr_delay          0\n",
              "carrierLumped      0\n",
              "dtype: int64"
            ]
          },
          "metadata": {},
          "execution_count": 109
        }
      ]
    },
    {
      "cell_type": "code",
      "metadata": {
        "id": "JF7pNvY_chQ6",
        "colab": {
          "base_uri": "https://localhost:8080/"
        },
        "outputId": "37d5b620-d765-4182-d719-8c17939f3b69"
      },
      "source": [
        "#clean\n",
        "from sklearn.pipeline import Pipeline\n",
        "from sklearn.preprocessing import OneHotEncoder\n",
        "\n",
        "from sklearn.model_selection import cross_val_score\n",
        "from sklearn.linear_model import LogisticRegression\n",
        "from sklearn.tree import DecisionTreeClassifier\n",
        "from sklearn.svm import SVC\n",
        "\n",
        "classifier1 = LogisticRegression(penalty='l2',C=0.01,solver='lbfgs')\n",
        "classifier2 = DecisionTreeClassifier(criterion='entropy', max_depth=2)\n",
        "classifier3 = SVC(kernel='rbf',C=1, gamma='auto')\n",
        "\n",
        "\n",
        "pipe1 = Pipeline([('SSc1',StandardScaler()),('Logreg', classifier1)])\n",
        "pipe2 = Pipeline([('SSc2',StandardScaler()),('DecT', classifier2)])\n",
        "pipe3 = Pipeline([('SSc3', StandardScaler()),('Svc', classifier3)])\n",
        "\n",
        "# score = cross_val_score(estimator=pipe1,X=X_train.drop(columns=['wind_dir'],axis=1), y=y_train, scoring='roc_auc', cv=10)\n",
        "# score\n",
        "\n",
        "\n",
        "labs = ['LogisticRegression', 'DecisionTree', 'SupportVectorMachine']\n",
        "pipes = [pipe1, pipe2, pipe3]\n",
        "clfs= zip(labs,clfs)\n",
        "\n",
        "for pipe in pipes:\n",
        "  scores = cross_val_score(estimator=pipe, X=X_train.drop(columns=['wind_dir'],axis=1), y=y_train, cv=10, scoring='accuracy')\n",
        "  print(f'Accuracy {scores.mean():.2f} (+/- {scores.std():.2f})')"
      ],
      "execution_count": 149,
      "outputs": [
        {
          "output_type": "stream",
          "name": "stdout",
          "text": [
            "Accuracy 0.64 (+/- 0.02)\n",
            "Accuracy 0.64 (+/- 0.01)\n",
            "Accuracy 0.66 (+/- 0.02)\n"
          ]
        }
      ]
    },
    {
      "cell_type": "markdown",
      "metadata": {
        "id": "yO8tH5zko5ld"
      },
      "source": [
        "__The order of the models: 1.) Logistic Regression, 2.) Decision Tree, 3.) Support Vector Machine__"
      ]
    },
    {
      "cell_type": "markdown",
      "metadata": {
        "id": "VPG0ThWKpQ8x"
      },
      "source": [
        "Here the SVM gave a good accuracy score with the less amount of deviation, so we can consider it the best model out of three in terms of accuracy.\n",
        "\n",
        "On the other hand for Decision tree, we have accuracy of 64% just 2% less than SVM but the minimum deviation and less computation.\n",
        "\n",
        "We should prefer Decision Tree over other two models\n",
        "\n"
      ]
    },
    {
      "cell_type": "markdown",
      "metadata": {
        "id": "orZj7R1eu5wH"
      },
      "source": [
        "## Ensemble"
      ]
    },
    {
      "cell_type": "code",
      "metadata": {
        "colab": {
          "base_uri": "https://localhost:8080/"
        },
        "id": "-4RGkAgEu7nh",
        "outputId": "a26abe83-6273-4438-baeb-8cfafe00a6bd"
      },
      "source": [
        "from sklearn.ensemble import VotingClassifier\n",
        "\n",
        "ems = [('lr', pipe1),('dt', pipe2),('svc', pipe3)]\n",
        "classifier4 = VotingClassifier(estimators= ems, voting='hard')\n",
        "\n",
        "scores = cross_val_score(estimator=classifier4, X=X_train.drop(columns=['wind_dir'],axis=1), y=y_train, scoring='accuracy')\n",
        "print(f'Accuracy {scores.mean():.2f} (+/- {scores.std():.2f}) [Ensemble]')"
      ],
      "execution_count": 152,
      "outputs": [
        {
          "output_type": "stream",
          "name": "stdout",
          "text": [
            "Accuracy 0.65 (+/- 0.00) [Ensemble]\n"
          ]
        }
      ]
    },
    {
      "cell_type": "markdown",
      "metadata": {
        "id": "NVznwOa8vVN-"
      },
      "source": [
        "With Ensemble the accuracy is increased and deviation is zero. The increment of accuracy is not that good to be considered. So still Decision Tree is preferable model.\n",
        "\n",
        "We can confirm with the requirements of the client whether bearing the deviation matters over the accuracy or not."
      ]
    },
    {
      "cell_type": "markdown",
      "metadata": {
        "id": "liQ3rA-tCqNO"
      },
      "source": [
        "## GridSearch on Ensemble\n"
      ]
    },
    {
      "cell_type": "code",
      "metadata": {
        "colab": {
          "base_uri": "https://localhost:8080/"
        },
        "id": "Rl1ly3GqDROi",
        "outputId": "5c06f6c8-148b-418c-9c89-3a388cf2648b"
      },
      "source": [
        "from sklearn.model_selection import GridSearchCV\n",
        "\n",
        "parameters= {'lr__Logreg__C':[0.001, 0.1, 1, 10], 'dt__DecT__max_depth': [1,2,3], 'svc__Svc__kernel': ['rbf','linear']}\n",
        "\n",
        "gridSearch = GridSearchCV(estimator=classifier4, param_grid=parameters, scoring='accuracy', refit=True)\n",
        "gridSearch.fit(X_train.drop(columns=['wind_dir'], axis=1), y_train)\n",
        "\n",
        "scoreTest = gridSearch.score(X_test.drop(columns=['wind_dir'], axis=1), y_test)\n",
        "scoreTrain = gridSearch.score(X_train.drop(columns=['wind_dir'], axis=1), y_train)\n",
        "\n",
        "print('Grid Search TestScore: ', np.round(scoreTest, 2))\n",
        "print('Grid Search TrainScore: ', np.round(scoreTrain, 2))\n",
        "\n"
      ],
      "execution_count": 159,
      "outputs": [
        {
          "output_type": "stream",
          "name": "stderr",
          "text": [
            "/usr/local/lib/python3.7/dist-packages/sklearn/linear_model/_logistic.py:940: ConvergenceWarning: lbfgs failed to converge (status=1):\n",
            "STOP: TOTAL NO. of ITERATIONS REACHED LIMIT.\n",
            "\n",
            "Increase the number of iterations (max_iter) or scale the data as shown in:\n",
            "    https://scikit-learn.org/stable/modules/preprocessing.html\n",
            "Please also refer to the documentation for alternative solver options:\n",
            "    https://scikit-learn.org/stable/modules/linear_model.html#logistic-regression\n",
            "  extra_warning_msg=_LOGISTIC_SOLVER_CONVERGENCE_MSG)\n",
            "/usr/local/lib/python3.7/dist-packages/sklearn/linear_model/_logistic.py:940: ConvergenceWarning: lbfgs failed to converge (status=1):\n",
            "STOP: TOTAL NO. of ITERATIONS REACHED LIMIT.\n",
            "\n",
            "Increase the number of iterations (max_iter) or scale the data as shown in:\n",
            "    https://scikit-learn.org/stable/modules/preprocessing.html\n",
            "Please also refer to the documentation for alternative solver options:\n",
            "    https://scikit-learn.org/stable/modules/linear_model.html#logistic-regression\n",
            "  extra_warning_msg=_LOGISTIC_SOLVER_CONVERGENCE_MSG)\n",
            "/usr/local/lib/python3.7/dist-packages/sklearn/linear_model/_logistic.py:940: ConvergenceWarning: lbfgs failed to converge (status=1):\n",
            "STOP: TOTAL NO. of ITERATIONS REACHED LIMIT.\n",
            "\n",
            "Increase the number of iterations (max_iter) or scale the data as shown in:\n",
            "    https://scikit-learn.org/stable/modules/preprocessing.html\n",
            "Please also refer to the documentation for alternative solver options:\n",
            "    https://scikit-learn.org/stable/modules/linear_model.html#logistic-regression\n",
            "  extra_warning_msg=_LOGISTIC_SOLVER_CONVERGENCE_MSG)\n",
            "/usr/local/lib/python3.7/dist-packages/sklearn/linear_model/_logistic.py:940: ConvergenceWarning: lbfgs failed to converge (status=1):\n",
            "STOP: TOTAL NO. of ITERATIONS REACHED LIMIT.\n",
            "\n",
            "Increase the number of iterations (max_iter) or scale the data as shown in:\n",
            "    https://scikit-learn.org/stable/modules/preprocessing.html\n",
            "Please also refer to the documentation for alternative solver options:\n",
            "    https://scikit-learn.org/stable/modules/linear_model.html#logistic-regression\n",
            "  extra_warning_msg=_LOGISTIC_SOLVER_CONVERGENCE_MSG)\n",
            "/usr/local/lib/python3.7/dist-packages/sklearn/linear_model/_logistic.py:940: ConvergenceWarning: lbfgs failed to converge (status=1):\n",
            "STOP: TOTAL NO. of ITERATIONS REACHED LIMIT.\n",
            "\n",
            "Increase the number of iterations (max_iter) or scale the data as shown in:\n",
            "    https://scikit-learn.org/stable/modules/preprocessing.html\n",
            "Please also refer to the documentation for alternative solver options:\n",
            "    https://scikit-learn.org/stable/modules/linear_model.html#logistic-regression\n",
            "  extra_warning_msg=_LOGISTIC_SOLVER_CONVERGENCE_MSG)\n",
            "/usr/local/lib/python3.7/dist-packages/sklearn/linear_model/_logistic.py:940: ConvergenceWarning: lbfgs failed to converge (status=1):\n",
            "STOP: TOTAL NO. of ITERATIONS REACHED LIMIT.\n",
            "\n",
            "Increase the number of iterations (max_iter) or scale the data as shown in:\n",
            "    https://scikit-learn.org/stable/modules/preprocessing.html\n",
            "Please also refer to the documentation for alternative solver options:\n",
            "    https://scikit-learn.org/stable/modules/linear_model.html#logistic-regression\n",
            "  extra_warning_msg=_LOGISTIC_SOLVER_CONVERGENCE_MSG)\n",
            "/usr/local/lib/python3.7/dist-packages/sklearn/linear_model/_logistic.py:940: ConvergenceWarning: lbfgs failed to converge (status=1):\n",
            "STOP: TOTAL NO. of ITERATIONS REACHED LIMIT.\n",
            "\n",
            "Increase the number of iterations (max_iter) or scale the data as shown in:\n",
            "    https://scikit-learn.org/stable/modules/preprocessing.html\n",
            "Please also refer to the documentation for alternative solver options:\n",
            "    https://scikit-learn.org/stable/modules/linear_model.html#logistic-regression\n",
            "  extra_warning_msg=_LOGISTIC_SOLVER_CONVERGENCE_MSG)\n",
            "/usr/local/lib/python3.7/dist-packages/sklearn/linear_model/_logistic.py:940: ConvergenceWarning: lbfgs failed to converge (status=1):\n",
            "STOP: TOTAL NO. of ITERATIONS REACHED LIMIT.\n",
            "\n",
            "Increase the number of iterations (max_iter) or scale the data as shown in:\n",
            "    https://scikit-learn.org/stable/modules/preprocessing.html\n",
            "Please also refer to the documentation for alternative solver options:\n",
            "    https://scikit-learn.org/stable/modules/linear_model.html#logistic-regression\n",
            "  extra_warning_msg=_LOGISTIC_SOLVER_CONVERGENCE_MSG)\n",
            "/usr/local/lib/python3.7/dist-packages/sklearn/linear_model/_logistic.py:940: ConvergenceWarning: lbfgs failed to converge (status=1):\n",
            "STOP: TOTAL NO. of ITERATIONS REACHED LIMIT.\n",
            "\n",
            "Increase the number of iterations (max_iter) or scale the data as shown in:\n",
            "    https://scikit-learn.org/stable/modules/preprocessing.html\n",
            "Please also refer to the documentation for alternative solver options:\n",
            "    https://scikit-learn.org/stable/modules/linear_model.html#logistic-regression\n",
            "  extra_warning_msg=_LOGISTIC_SOLVER_CONVERGENCE_MSG)\n",
            "/usr/local/lib/python3.7/dist-packages/sklearn/linear_model/_logistic.py:940: ConvergenceWarning: lbfgs failed to converge (status=1):\n",
            "STOP: TOTAL NO. of ITERATIONS REACHED LIMIT.\n",
            "\n",
            "Increase the number of iterations (max_iter) or scale the data as shown in:\n",
            "    https://scikit-learn.org/stable/modules/preprocessing.html\n",
            "Please also refer to the documentation for alternative solver options:\n",
            "    https://scikit-learn.org/stable/modules/linear_model.html#logistic-regression\n",
            "  extra_warning_msg=_LOGISTIC_SOLVER_CONVERGENCE_MSG)\n",
            "/usr/local/lib/python3.7/dist-packages/sklearn/linear_model/_logistic.py:940: ConvergenceWarning: lbfgs failed to converge (status=1):\n",
            "STOP: TOTAL NO. of ITERATIONS REACHED LIMIT.\n",
            "\n",
            "Increase the number of iterations (max_iter) or scale the data as shown in:\n",
            "    https://scikit-learn.org/stable/modules/preprocessing.html\n",
            "Please also refer to the documentation for alternative solver options:\n",
            "    https://scikit-learn.org/stable/modules/linear_model.html#logistic-regression\n",
            "  extra_warning_msg=_LOGISTIC_SOLVER_CONVERGENCE_MSG)\n",
            "/usr/local/lib/python3.7/dist-packages/sklearn/linear_model/_logistic.py:940: ConvergenceWarning: lbfgs failed to converge (status=1):\n",
            "STOP: TOTAL NO. of ITERATIONS REACHED LIMIT.\n",
            "\n",
            "Increase the number of iterations (max_iter) or scale the data as shown in:\n",
            "    https://scikit-learn.org/stable/modules/preprocessing.html\n",
            "Please also refer to the documentation for alternative solver options:\n",
            "    https://scikit-learn.org/stable/modules/linear_model.html#logistic-regression\n",
            "  extra_warning_msg=_LOGISTIC_SOLVER_CONVERGENCE_MSG)\n",
            "/usr/local/lib/python3.7/dist-packages/sklearn/linear_model/_logistic.py:940: ConvergenceWarning: lbfgs failed to converge (status=1):\n",
            "STOP: TOTAL NO. of ITERATIONS REACHED LIMIT.\n",
            "\n",
            "Increase the number of iterations (max_iter) or scale the data as shown in:\n",
            "    https://scikit-learn.org/stable/modules/preprocessing.html\n",
            "Please also refer to the documentation for alternative solver options:\n",
            "    https://scikit-learn.org/stable/modules/linear_model.html#logistic-regression\n",
            "  extra_warning_msg=_LOGISTIC_SOLVER_CONVERGENCE_MSG)\n",
            "/usr/local/lib/python3.7/dist-packages/sklearn/linear_model/_logistic.py:940: ConvergenceWarning: lbfgs failed to converge (status=1):\n",
            "STOP: TOTAL NO. of ITERATIONS REACHED LIMIT.\n",
            "\n",
            "Increase the number of iterations (max_iter) or scale the data as shown in:\n",
            "    https://scikit-learn.org/stable/modules/preprocessing.html\n",
            "Please also refer to the documentation for alternative solver options:\n",
            "    https://scikit-learn.org/stable/modules/linear_model.html#logistic-regression\n",
            "  extra_warning_msg=_LOGISTIC_SOLVER_CONVERGENCE_MSG)\n",
            "/usr/local/lib/python3.7/dist-packages/sklearn/linear_model/_logistic.py:940: ConvergenceWarning: lbfgs failed to converge (status=1):\n",
            "STOP: TOTAL NO. of ITERATIONS REACHED LIMIT.\n",
            "\n",
            "Increase the number of iterations (max_iter) or scale the data as shown in:\n",
            "    https://scikit-learn.org/stable/modules/preprocessing.html\n",
            "Please also refer to the documentation for alternative solver options:\n",
            "    https://scikit-learn.org/stable/modules/linear_model.html#logistic-regression\n",
            "  extra_warning_msg=_LOGISTIC_SOLVER_CONVERGENCE_MSG)\n",
            "/usr/local/lib/python3.7/dist-packages/sklearn/linear_model/_logistic.py:940: ConvergenceWarning: lbfgs failed to converge (status=1):\n",
            "STOP: TOTAL NO. of ITERATIONS REACHED LIMIT.\n",
            "\n",
            "Increase the number of iterations (max_iter) or scale the data as shown in:\n",
            "    https://scikit-learn.org/stable/modules/preprocessing.html\n",
            "Please also refer to the documentation for alternative solver options:\n",
            "    https://scikit-learn.org/stable/modules/linear_model.html#logistic-regression\n",
            "  extra_warning_msg=_LOGISTIC_SOLVER_CONVERGENCE_MSG)\n",
            "/usr/local/lib/python3.7/dist-packages/sklearn/linear_model/_logistic.py:940: ConvergenceWarning: lbfgs failed to converge (status=1):\n",
            "STOP: TOTAL NO. of ITERATIONS REACHED LIMIT.\n",
            "\n",
            "Increase the number of iterations (max_iter) or scale the data as shown in:\n",
            "    https://scikit-learn.org/stable/modules/preprocessing.html\n",
            "Please also refer to the documentation for alternative solver options:\n",
            "    https://scikit-learn.org/stable/modules/linear_model.html#logistic-regression\n",
            "  extra_warning_msg=_LOGISTIC_SOLVER_CONVERGENCE_MSG)\n",
            "/usr/local/lib/python3.7/dist-packages/sklearn/linear_model/_logistic.py:940: ConvergenceWarning: lbfgs failed to converge (status=1):\n",
            "STOP: TOTAL NO. of ITERATIONS REACHED LIMIT.\n",
            "\n",
            "Increase the number of iterations (max_iter) or scale the data as shown in:\n",
            "    https://scikit-learn.org/stable/modules/preprocessing.html\n",
            "Please also refer to the documentation for alternative solver options:\n",
            "    https://scikit-learn.org/stable/modules/linear_model.html#logistic-regression\n",
            "  extra_warning_msg=_LOGISTIC_SOLVER_CONVERGENCE_MSG)\n",
            "/usr/local/lib/python3.7/dist-packages/sklearn/linear_model/_logistic.py:940: ConvergenceWarning: lbfgs failed to converge (status=1):\n",
            "STOP: TOTAL NO. of ITERATIONS REACHED LIMIT.\n",
            "\n",
            "Increase the number of iterations (max_iter) or scale the data as shown in:\n",
            "    https://scikit-learn.org/stable/modules/preprocessing.html\n",
            "Please also refer to the documentation for alternative solver options:\n",
            "    https://scikit-learn.org/stable/modules/linear_model.html#logistic-regression\n",
            "  extra_warning_msg=_LOGISTIC_SOLVER_CONVERGENCE_MSG)\n"
          ]
        },
        {
          "output_type": "stream",
          "name": "stdout",
          "text": [
            "Grid Search Score:  0.67\n"
          ]
        }
      ]
    },
    {
      "cell_type": "code",
      "metadata": {
        "colab": {
          "base_uri": "https://localhost:8080/"
        },
        "id": "cyMfd-UE7yVd",
        "outputId": "e85f3283-c459-45dc-e8cc-77644807231a"
      },
      "source": [
        "gridSearch.best_estimator_"
      ],
      "execution_count": 161,
      "outputs": [
        {
          "output_type": "execute_result",
          "data": {
            "text/plain": [
              "VotingClassifier(estimators=[('lr',\n",
              "                              Pipeline(memory=None,\n",
              "                                       steps=[('SSc1',\n",
              "                                               StandardScaler(copy=True,\n",
              "                                                              with_mean=True,\n",
              "                                                              with_std=True)),\n",
              "                                              ('Logreg',\n",
              "                                               LogisticRegression(C=10,\n",
              "                                                                  class_weight=None,\n",
              "                                                                  dual=False,\n",
              "                                                                  fit_intercept=True,\n",
              "                                                                  intercept_scaling=1,\n",
              "                                                                  l1_ratio=None,\n",
              "                                                                  max_iter=100,\n",
              "                                                                  multi_class='auto',\n",
              "                                                                  n_jobs=None,\n",
              "                                                                  penalty='l2',\n",
              "                                                                  random_state=None,\n",
              "                                                                  solver='lbfgs',\n",
              "                                                                  tol=0.0001,\n",
              "                                                                  verbos...\n",
              "                                               StandardScaler(copy=True,\n",
              "                                                              with_mean=True,\n",
              "                                                              with_std=True)),\n",
              "                                              ('Svc',\n",
              "                                               SVC(C=1, break_ties=False,\n",
              "                                                   cache_size=200,\n",
              "                                                   class_weight=None, coef0=0.0,\n",
              "                                                   decision_function_shape='ovr',\n",
              "                                                   degree=3, gamma='auto',\n",
              "                                                   kernel='linear', max_iter=-1,\n",
              "                                                   probability=False,\n",
              "                                                   random_state=None,\n",
              "                                                   shrinking=True, tol=0.001,\n",
              "                                                   verbose=False))],\n",
              "                                       verbose=False))],\n",
              "                 flatten_transform=True, n_jobs=None, voting='hard',\n",
              "                 weights=None)"
            ]
          },
          "metadata": {},
          "execution_count": 161
        }
      ]
    },
    {
      "cell_type": "code",
      "metadata": {
        "colab": {
          "base_uri": "https://localhost:8080/"
        },
        "id": "REYhhOWI9l8z",
        "outputId": "cbebd0bd-1689-4b65-fb59-c8dfbf3860c0"
      },
      "source": [
        "scoreTest = gridSearch.score(X_test.drop(columns=['wind_dir'], axis=1), y_test)\n",
        "scoreTrain = gridSearch.score(X_train.drop(columns=['wind_dir'], axis=1), y_train)\n",
        "\n",
        "print('Grid Search TestScore: ', np.round(scoreTest, 2))\n",
        "print('Grid Search TrainScore: ', np.round(scoreTrain, 2))"
      ],
      "execution_count": 162,
      "outputs": [
        {
          "output_type": "stream",
          "name": "stdout",
          "text": [
            "Grid Search TestScore:  0.67\n",
            "Grid Search TrainScore:  0.69\n"
          ]
        }
      ]
    },
    {
      "cell_type": "markdown",
      "metadata": {
        "id": "j6bzApK19opL"
      },
      "source": [
        "Through GridSearch, we were able to increase the accuracy, the Decision Tree is not considered in the best estimator. "
      ]
    },
    {
      "cell_type": "markdown",
      "metadata": {
        "id": "OJQbwWahu9VM"
      },
      "source": [
        "## AdaBoost"
      ]
    },
    {
      "cell_type": "code",
      "metadata": {
        "colab": {
          "base_uri": "https://localhost:8080/"
        },
        "id": "Z_DEdAte-aIs",
        "outputId": "7f86cd9f-44ef-4e5a-9b9f-71eceb8a24d2"
      },
      "source": [
        "# Stump Decision Tree\n",
        "from sklearn.metrics import accuracy_score\n",
        "tree = DecisionTreeClassifier(criterion='entropy', max_depth=1, random_state=1)\n",
        "tree = tree.fit(X_train.drop(columns=['wind_dir'], axis=1), y_train)\n",
        "tree_train_predict = tree.predict(X_train.drop(columns=['wind_dir'], axis=1))\n",
        "tree_test_predict = tree.predict(X_test.drop(columns=['wind_dir'], axis=1))\n",
        "\n",
        "tree_train_score = accuracy_score(y_train, tree_train_predict)\n",
        "tree_test_score = accuracy_score(y_test, tree_test_predict)\n",
        "\n",
        "print('Test Score: ', np.round(tree_test_score,2))\n",
        "print('Train Score: ', np.round(tree_train_score,2))"
      ],
      "execution_count": 165,
      "outputs": [
        {
          "output_type": "stream",
          "name": "stdout",
          "text": [
            "Test Score:  0.58\n",
            "Train Score:  0.59\n"
          ]
        }
      ]
    },
    {
      "cell_type": "code",
      "metadata": {
        "colab": {
          "base_uri": "https://localhost:8080/"
        },
        "id": "ZzFGtg77vB3e",
        "outputId": "1a814691-6365-4dbc-c862-4f4302ed53db"
      },
      "source": [
        "from sklearn.ensemble import AdaBoostClassifier\n",
        "\n",
        "ada = AdaBoostClassifier(base_estimator = tree, n_estimators=200, learning_rate=0.1, random_state=1)\n",
        "ada = ada.fit(X_train.drop(columns=['wind_dir'], axis=1), y_train)\n",
        "\n",
        "ada_train_predict = ada.predict(X_train.drop(columns=['wind_dir'], axis=1))\n",
        "ada_test_predict = ada.predict(X_test.drop(columns=['wind_dir'], axis=1))\n",
        "\n",
        "ada_train_score = accuracy_score(y_train, ada_train_predict)\n",
        "ada_test_score = accuracy_score(y_test, ada_test_predict)\n",
        "\n",
        "print('Test Score: ', np.round(ada_test_score,2))\n",
        "print('Train Score: ', np.round(ada_train_score,2))\n"
      ],
      "execution_count": 168,
      "outputs": [
        {
          "output_type": "stream",
          "name": "stdout",
          "text": [
            "Test Score:  0.64\n",
            "Train Score:  0.66\n"
          ]
        }
      ]
    },
    {
      "cell_type": "markdown",
      "metadata": {
        "id": "nvjhMW_JAnWc"
      },
      "source": [
        "The accuracy has increased by ~7% also there is no significant difference between the test and training scores, so we can infer that there is no under-fitting or over-fitting by the ADABoost"
      ]
    },
    {
      "cell_type": "code",
      "metadata": {
        "id": "sN8yK_RoASsw"
      },
      "source": [
        ""
      ],
      "execution_count": null,
      "outputs": []
    }
  ]
}